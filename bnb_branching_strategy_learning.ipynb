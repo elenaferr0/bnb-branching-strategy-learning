{
 "cells": [
  {
   "metadata": {
    "ExecuteTime": {
     "end_time": "2025-05-08T20:34:16.316585Z",
     "start_time": "2025-05-08T20:34:16.310156Z"
    }
   },
   "cell_type": "code",
   "source": [
    "import pandas as pd\n",
    "\n",
    "BP_train = pd.read_pickle(\"dataset/BP_train_solution.pkl\")\n",
    "BP_test = pd.read_pickle(\"dataset/BP_test_solution.pkl\")\n"
   ],
   "id": "f3b1281added66be",
   "outputs": [],
   "execution_count": 28
  },
  {
   "metadata": {
    "ExecuteTime": {
     "end_time": "2025-05-08T20:34:19.324769Z",
     "start_time": "2025-05-08T20:34:17.671444Z"
    }
   },
   "cell_type": "code",
   "source": [
    "from sklearn.ensemble import ExtraTreesRegressor\n",
    "from sklearn.model_selection import cross_val_score\n",
    "\n",
    "X_train = BP_train.drop(columns=['score'])\n",
    "Y_train = BP_train['score']\n",
    "\n",
    "X_test = BP_test.drop(columns=['score'])\n",
    "Y_test = BP_test['score']\n",
    "\n",
    "rg = ExtraTreesRegressor(n_estimators=20, min_samples_leaf=20)\n",
    "rg.fit(X_train, Y_train)\n",
    "\n",
    "y_pred = rg.predict(X_test)\n",
    "df = pd.DataFrame({'y_test': Y_test, 'y_pred': y_pred})\n",
    "print(df.head())\n",
    "\n",
    "scores = cross_val_score(rg, X_train, Y_train, cv=5, scoring='r2')\n",
    "print(\"R^2 scores:\", scores)"
   ],
   "id": "da41578a25ff50f6",
   "outputs": [
    {
     "name": "stdout",
     "output_type": "stream",
     "text": [
      "     y_test    y_pred\n",
      "0 -1.657023 -1.885633\n",
      "1 -1.657023 -1.885633\n",
      "2 -1.657023 -1.885633\n",
      "3 -1.657023 -1.885633\n",
      "4 -1.657023 -1.885633\n",
      "R^2 scores: [0.99998799 0.99999413 0.99996076 0.99999058 0.99997049]\n"
     ]
    }
   ],
   "execution_count": 29
  }
 ],
 "metadata": {
  "kernelspec": {
   "display_name": "Python 3",
   "language": "python",
   "name": "python3"
  },
  "language_info": {
   "codemirror_mode": {
    "name": "ipython",
    "version": 2
   },
   "file_extension": ".py",
   "mimetype": "text/x-python",
   "name": "python",
   "nbconvert_exporter": "python",
   "pygments_lexer": "ipython2",
   "version": "2.7.6"
  }
 },
 "nbformat": 4,
 "nbformat_minor": 5
}
