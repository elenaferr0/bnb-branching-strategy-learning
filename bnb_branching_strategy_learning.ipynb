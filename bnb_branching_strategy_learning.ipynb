{
 "metadata": {
  "kernelspec": {
   "name": "python3",
   "display_name": "Python 3",
   "language": "python"
  },
  "language_info": {
   "name": "python",
   "version": "3.11.11",
   "mimetype": "text/x-python",
   "codemirror_mode": {
    "name": "ipython",
    "version": 3
   },
   "pygments_lexer": "ipython3",
   "nbconvert_exporter": "python",
   "file_extension": ".py"
  },
  "colab": {
   "provenance": [],
   "gpuType": "T4"
  },
  "accelerator": "GPU",
  "kaggle": {
   "accelerator": "none",
   "dataSources": [
    {
     "sourceId": 11837852,
     "sourceType": "datasetVersion",
     "datasetId": 7435275
    }
   ],
   "dockerImageVersionId": 31040,
   "isInternetEnabled": true,
   "language": "python",
   "sourceType": "notebook",
   "isGpuEnabled": false
  }
 },
 "nbformat_minor": 4,
 "nbformat": 4,
 "cells": [
  {
   "cell_type": "code",
   "source": "import pandas as pd\nimport numpy as np\n\nseed = 42",
   "metadata": {
    "id": "53aeb4cc16ed9874",
    "trusted": true,
    "execution": {
     "iopub.status.busy": "2025-05-17T11:13:41.160674Z",
     "iopub.execute_input": "2025-05-17T11:13:41.161031Z",
     "iopub.status.idle": "2025-05-17T11:13:41.165473Z",
     "shell.execute_reply.started": "2025-05-17T11:13:41.161007Z",
     "shell.execute_reply": "2025-05-17T11:13:41.164286Z"
    }
   },
   "outputs": [],
   "execution_count": null
  },
  {
   "metadata": {},
   "cell_type": "code",
   "outputs": [],
   "execution_count": null,
   "source": [
    "!pip install pyscipopt\n",
    "#!pip install imodels"
   ]
  },
  {
   "metadata": {},
   "cell_type": "code",
   "outputs": [],
   "execution_count": null,
   "source": [
    "from collections import defaultdict\n",
    "\n",
    "from pyscipopt import Branchrule, SCIP_RESULT, Model\n",
    "import pandas as pd\n"
   ]
  },
  {
   "metadata": {},
   "cell_type": "code",
   "outputs": [],
   "execution_count": null,
   "source": [
    "from pyscipopt import Model, quicksum\n",
    "from datetime import datetime\n",
    "\n"
   ]
  },
  {
   "metadata": {},
   "cell_type": "markdown",
   "source": "## Dataset loading (read generated pkl files)"
  },
  {
   "metadata": {},
   "cell_type": "code",
   "outputs": [],
   "execution_count": null,
   "source": [
    "BP_train = pd.read_pickle(\"dataset/BP_train_solution.pkl\")\n",
    "BP_test = pd.read_pickle(\"dataset/BP_test_solution.pkl\")\n",
    "SC_train = pd.read_pickle(\"dataset/SC_train_solution.pkl\")\n",
    "SC_test = pd.read_pickle(\"dataset/SC_test_solution.pkl\")\n",
    "\n",
    "BP_train = BP_train.sample(frac=1, random_state=seed)\n",
    "BP_test = BP_test.sample(frac=1, random_state=seed)\n",
    "SC_train = SC_train.sample(frac=1, random_state=seed)\n",
    "SC_test = SC_test.sample(frac=1, random_state=seed)\n",
    "\n",
    "train = pd.concat([BP_train, SC_train], ignore_index=True)\n",
    "test = pd.concat([BP_test, SC_test], ignore_index=True)\n",
    "\n",
    "X_train = train.drop(columns=['score'])\n",
    "Y_train = train['score']\n",
    "\n",
    "X_test = test.drop(columns=['score'])\n",
    "Y_test = test['score']\n",
    "\n",
    "X = pd.concat([X_train, X_test], ignore_index=True)\n",
    "Y = pd.concat([Y_train, Y_test], ignore_index=True)"
   ]
  },
  {
   "cell_type": "code",
   "source": "from sklearn.feature_selection import SelectKBest\nfrom sklearn.feature_selection import f_regression\n\nkb = SelectKBest(f_regression, k=10).fit(X, Y)\nX_train_k_best = kb.transform(X_train)\nk_best_feat = kb.get_feature_names_out()\nX_test_k_best = kb.transform(X_test)",
   "metadata": {
    "id": "9e987e6daea235ff",
    "trusted": true,
    "execution": {
     "iopub.status.busy": "2025-05-17T11:13:45.899248Z",
     "iopub.status.idle": "2025-05-17T11:13:45.899626Z",
     "shell.execute_reply.started": "2025-05-17T11:13:45.899446Z",
     "shell.execute_reply": "2025-05-17T11:13:45.899462Z"
    }
   },
   "outputs": [],
   "execution_count": null
  },
  {
   "cell_type": "markdown",
   "source": "## Preprocessing",
   "metadata": {
    "id": "a160174e3b2fd66c"
   }
  },
  {
   "cell_type": "code",
   "source": "from sklearn.preprocessing import StandardScaler\n\nscaler = StandardScaler()\nscaler.fit(X_train_k_best)\nX_train_scaled = scaler.transform(X_train_k_best)\nX_test_scaled = scaler.transform(X_test_k_best)",
   "metadata": {
    "id": "d4ebac13f572ce36",
    "trusted": true,
    "execution": {
     "iopub.status.busy": "2025-05-17T11:13:45.900666Z",
     "iopub.status.idle": "2025-05-17T11:13:45.901036Z",
     "shell.execute_reply.started": "2025-05-17T11:13:45.900831Z",
     "shell.execute_reply": "2025-05-17T11:13:45.900843Z"
    }
   },
   "outputs": [],
   "execution_count": null
  },
  {
   "cell_type": "markdown",
   "source": "### PCA",
   "metadata": {
    "id": "e66e76e3f75efbe6"
   }
  },
  {
   "cell_type": "code",
   "source": "%matplotlib inline\nimport matplotlib.pyplot as plt\nfrom sklearn.decomposition import PCA\n\n# First PCA visualization\npca1 = PCA(n_components=2)\nX_train_pca1 = pca1.fit_transform(X_train_scaled)\n\nplt.figure(figsize=(10, 8))\nplt.title('PCA visualization of training data (2 components)')\nplt.scatter(X_train_pca1[:, 0], X_train_pca1[:, 1], alpha=0.5)\nplt.xlabel('First Principal Component')\nplt.ylabel('Second Principal Component')\nplt.show()",
   "metadata": {
    "id": "aa06e7a2c4f641d4",
    "outputId": "5c76f438-6e8d-4808-83c1-33653c7f8a14",
    "trusted": true,
    "execution": {
     "iopub.status.busy": "2025-05-17T11:13:45.902234Z",
     "iopub.status.idle": "2025-05-17T11:13:45.902622Z",
     "shell.execute_reply.started": "2025-05-17T11:13:45.902425Z",
     "shell.execute_reply": "2025-05-17T11:13:45.902441Z"
    }
   },
   "outputs": [],
   "execution_count": null
  },
  {
   "cell_type": "markdown",
   "source": "## Extra Trees Regressor",
   "metadata": {
    "id": "9c5f697ab71c0078"
   }
  },
  {
   "cell_type": "code",
   "source": "from sklearn.ensemble import ExtraTreesRegressor\nfrom sklearn.model_selection import GridSearchCV\nfrom sklearn.metrics import r2_score, mean_squared_error, mean_absolute_percentage_error, max_error\n\nparams = {\n    \"n_estimators\": [10, 15, 20],\n    \"min_samples_leaf\": [5, 7, 10],\n    \"max_depth\": [5, 10, 20],\n}\n\net = ExtraTreesRegressor(random_state=seed, n_jobs=4)\ngs = GridSearchCV(et, param_grid=params, cv=5, scoring='r2', n_jobs=4)\ngs.fit(X_train_scaled, Y_train)\n\nprint(\"Best score: \", gs.best_score_)\nprint(\"Best params: \", gs.best_params_)\n\nscores = gs.score(X_test_scaled, Y_test)\nprint(f\"Test set r2 score: {scores:.4f}\")\nprint(f\"Test set MSE: {mean_squared_error(Y_test, gs.predict(X_test_scaled)):.4f}\")\nprint(f\"Test set MAPE: {mean_absolute_percentage_error(Y_test, gs.predict(X_test_scaled)):.4f}\")\nprint(f\"Test set Max error: {max_error(Y_test, gs.predict(X_test_scaled)):.4f}\")",
   "metadata": {
    "id": "e94aaa4daa32cf6a",
    "outputId": "5b8fd7e1-6725-43d9-e40f-0690196a64c6",
    "trusted": true,
    "execution": {
     "iopub.status.busy": "2025-05-17T11:13:45.903852Z",
     "iopub.status.idle": "2025-05-17T11:13:45.904154Z",
     "shell.execute_reply.started": "2025-05-17T11:13:45.904037Z",
     "shell.execute_reply": "2025-05-17T11:13:45.904048Z"
    }
   },
   "outputs": [],
   "execution_count": null
  },
  {
   "cell_type": "markdown",
   "source": "## Single decision tree regressor",
   "metadata": {
    "id": "o3s0sEYtI95D"
   }
  },
  {
   "cell_type": "code",
   "source": "from sklearn.tree import DecisionTreeRegressor\nfrom sklearn.metrics import r2_score, mean_squared_error, mean_absolute_percentage_error, max_error\n\nparams = {\n    \"min_samples_leaf\": [5, 7, 10],\n    \"max_depth\": [5, 7, 10],\n}\n\ndt = DecisionTreeRegressor(random_state=seed)\ngs = GridSearchCV(dt, param_grid=params, cv=5, scoring='r2', n_jobs=4)\ngs.fit(X_train_scaled, Y_train)\n\nprint(\"Best score: \", gs.best_score_)\nprint(\"Best params: \", gs.best_params_)\n\nscores = gs.score(X_test_scaled, Y_test)\nprint(f\"Test set r2 score: {scores:.4f}\")\nprint(f\"Test set MSE: {mean_squared_error(Y_test, gs.predict(X_test_scaled)):.4f}\")\nprint(f\"Test set MAPE: {mean_absolute_percentage_error(Y_test, gs.predict(X_test_scaled)):.4f}\")\nprint(f\"Test set Max error: {max_error(Y_test, gs.predict(X_test_scaled)):.4f}\")",
   "metadata": {
    "id": "DU-3xyppIw0F",
    "outputId": "0206c59d-a616-4aa2-d143-4fa97dd61196",
    "trusted": true,
    "execution": {
     "iopub.status.busy": "2025-05-17T11:13:45.904966Z",
     "iopub.status.idle": "2025-05-17T11:13:45.905334Z",
     "shell.execute_reply.started": "2025-05-17T11:13:45.905155Z",
     "shell.execute_reply": "2025-05-17T11:13:45.905171Z"
    }
   },
   "outputs": [],
   "execution_count": null
  },
  {
   "cell_type": "markdown",
   "source": "# imodels rules",
   "metadata": {
    "id": "5WWUqbCeiBHe"
   }
  },
  {
   "cell_type": "code",
   "source": "!pip install imodels",
   "metadata": {
    "id": "ItPIIGHQC8a2",
    "outputId": "875cd7ae-6236-4bd8-b0ed-459553fcb32e",
    "trusted": true,
    "execution": {
     "iopub.status.busy": "2025-05-17T11:13:45.907354Z",
     "iopub.status.idle": "2025-05-17T11:13:45.907622Z",
     "shell.execute_reply.started": "2025-05-17T11:13:45.907504Z",
     "shell.execute_reply": "2025-05-17T11:13:45.907514Z"
    }
   },
   "outputs": [],
   "execution_count": null
  },
  {
   "cell_type": "code",
   "source": "from imodels import HSTreeRegressorCV\nfrom sklearn.metrics import r2_score, mean_squared_error, mean_absolute_percentage_error, max_error\nfrom datetime import datetime\n\nmdl = HSTreeRegressorCV(max_leaf_nodes=5)\nmdl.fit(X_train_scaled, Y_train, feature_names=k_best_feat)\n\nstart = datetime.now()\npreds = mdl.predict(X_test_scaled)\nend = datetime.now()\nprint(\"Time: \", end - start)\nprint(\"R2: \", r2_score(Y_test, preds))\nprint(\"MSE: \", mean_squared_error(Y_test, preds))\nprint(\"MAPE: \", mean_absolute_percentage_error(Y_test, preds))\nprint(\"Max error: \", max_error(Y_test, preds))\nprint(mdl)",
   "metadata": {
    "jupyter": {
     "is_executing": true
    },
    "id": "bd0fed18f00265b4",
    "outputId": "ade8aa9b-a91f-4852-bfdb-656e3913f799",
    "trusted": true,
    "execution": {
     "iopub.status.busy": "2025-05-17T11:13:45.908604Z",
     "iopub.status.idle": "2025-05-17T11:13:45.909138Z",
     "shell.execute_reply.started": "2025-05-17T11:13:45.908881Z",
     "shell.execute_reply": "2025-05-17T11:13:45.908902Z"
    }
   },
   "outputs": [],
   "execution_count": null
  },
  {
   "cell_type": "code",
   "source": "from imodels import GreedyTreeRegressor\nfrom sklearn.metrics import r2_score, mean_squared_error, mean_absolute_percentage_error, max_error\nfrom datetime import datetime\n\nmdl = GreedyTreeRegressor(min_samples_leaf=5, max_depth=4)\nmdl.fit(X_train_scaled, Y_train, feature_names=k_best_feat)\n\nstart = datetime.now()\npreds = mdl.predict(X_test_scaled)\nend = datetime.now()\nprint(\"Time: \", end - start)\nprint(\"R2: \", r2_score(Y_test, preds))\nprint(\"MSE: \", mean_squared_error(Y_test, preds))\nprint(\"MAPE: \", mean_absolute_percentage_error(Y_test, preds))\nprint(\"Max error: \", max_error(Y_test, preds))\nprint(mdl)",
   "metadata": {
    "id": "ouPeUAZNHz_f",
    "outputId": "f3d37d12-2559-4063-cacc-b6361bdd357f",
    "trusted": true,
    "execution": {
     "iopub.status.busy": "2025-05-17T11:13:45.910352Z",
     "iopub.status.idle": "2025-05-17T11:13:45.910698Z",
     "shell.execute_reply.started": "2025-05-17T11:13:45.910502Z",
     "shell.execute_reply": "2025-05-17T11:13:45.910520Z"
    }
   },
   "outputs": [],
   "execution_count": null
  },
  {
   "cell_type": "markdown",
   "source": "## RIPPER",
   "metadata": {
    "id": "-TpVpR-XLoo9"
   }
  },
  {
   "cell_type": "code",
   "source": "!pip install wittgenstein",
   "metadata": {
    "id": "yDMttlUKweaz",
    "outputId": "a8f74bb4-7a0b-48aa-f4c8-0f3b681ffcc1",
    "trusted": true,
    "execution": {
     "iopub.status.busy": "2025-05-17T11:13:45.912455Z",
     "iopub.status.idle": "2025-05-17T11:13:45.912834Z",
     "shell.execute_reply.started": "2025-05-17T11:13:45.912646Z",
     "shell.execute_reply": "2025-05-17T11:13:45.912663Z"
    }
   },
   "outputs": [],
   "execution_count": null
  },
  {
   "cell_type": "code",
   "source": "import wittgenstein as lw\n\nripper_clf = lw.RIPPER()\n\nfrom sklearn.ensemble import StackingClassifier\nfrom sklearn.tree import DecisionTreeClassifier\nfrom sklearn.linear_model import LogisticRegression\nfrom sklearn.preprocessing import KBinsDiscretizer\nfrom sklearn.multiclass import OneVsRestClassifier\nfrom sklearn.metrics import accuracy_score, f1_score, confusion_matrix, precision_score, recall_score\nfrom datetime import datetime\n\ntrain_indices = np.random.permutation(X_train_k_best.shape[0])\ntest_indices = np.random.permutation(X_test_k_best.shape[0])\n\ntrain_indices = train_indices[:5000]\ntest_indices = test_indices[:1000]\n\nX_sample_train = X_train_k_best[train_indices]\nY_sample_train = Y_train[train_indices]\nX_sample_test = X_test_k_best[test_indices]\nY_sample_test = Y_test[test_indices]\n\nkb = KBinsDiscretizer(n_bins=2, strategy=\"quantile\", encode='ordinal')\nY_train_encoded = kb.fit_transform(Y_sample_train.values.reshape(-1, 1))\nY_test_encoded = kb.fit_transform(Y_sample_test.values.reshape(-1, 1))\n\nripper_clf.fit(X_sample_train, Y_train_encoded, pos_class=1)  # TODO: add feature names\n\nstart = datetime.now()\npreds = ripper_clf.predict(X_sample_test)\nend = datetime.now()\nprint(\"Time: \", end - start)\nprint(\"Accuracy: \", accuracy_score(Y_test_encoded, preds))\nprint(\"F1 score: \", f1_score(Y_test_encoded, preds))\nprint(\"Recall score:\", recall_score(Y_test_encoded, preds))\nprint(\"Precision score:\", precision_score(Y_test_encoded, preds))\nprint(\"Confusion matrix\", confusion_matrix(Y_test_encoded, preds))\nprint(ripper_clf.out_model())",
   "metadata": {
    "id": "hmhzgK8zcS52",
    "outputId": "3955b2da-1716-4207-c8a9-72d4d0da9fb7",
    "trusted": true,
    "execution": {
     "iopub.status.busy": "2025-05-17T11:13:45.914014Z",
     "iopub.status.idle": "2025-05-17T11:13:45.914434Z",
     "shell.execute_reply.started": "2025-05-17T11:13:45.914199Z",
     "shell.execute_reply": "2025-05-17T11:13:45.914257Z"
    }
   },
   "outputs": [],
   "execution_count": null
  },
  {
   "cell_type": "code",
   "source": "from sklearn.metrics import roc_curve, auc\n\nfpr, tpr, _ = roc_curve(Y_test_encoded, preds)\nroc_auc = auc(fpr, tpr)\n\nplt.figure(figsize=(8, 6))\nplt.plot(fpr, tpr, color='darkorange', lw=2,\n         label=f'ROC curve (AUC = {roc_auc:.2f})')\nplt.plot([0, 1], [0, 1], color='navy', lw=2, linestyle='--')\n\nplt.xlim([0.0, 1.0])\nplt.ylim([0.0, 1.05])\nplt.xlabel('False Positive Rate')\nplt.ylabel('True Positive Rate')\nplt.title('ROC Curve with Cross Validation')\nplt.legend(loc=\"lower right\")\nplt.grid(True)\nplt.show()",
   "metadata": {
    "id": "ulULGbhUd4Ns",
    "outputId": "8541457a-5af0-4bec-d62f-a7f0f251583c",
    "trusted": true,
    "execution": {
     "iopub.status.busy": "2025-05-17T11:13:45.915367Z",
     "iopub.status.idle": "2025-05-17T11:13:45.915647Z",
     "shell.execute_reply.started": "2025-05-17T11:13:45.915532Z",
     "shell.execute_reply": "2025-05-17T11:13:45.915543Z"
    }
   },
   "outputs": [],
   "execution_count": null
  }
 ]
}
