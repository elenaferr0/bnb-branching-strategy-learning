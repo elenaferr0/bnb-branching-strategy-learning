{
 "cells": [
  {
   "metadata": {
    "ExecuteTime": {
     "end_time": "2025-05-08T20:46:47.581990Z",
     "start_time": "2025-05-08T20:46:47.578345Z"
    }
   },
   "cell_type": "code",
   "source": [
    "import pandas as pd\n",
    "from sklearn.ensemble import ExtraTreesRegressor\n",
    "from sklearn.model_selection import cross_val_score\n",
    "from sklearn.model_selection import GridSearchCV\n",
    "\n",
    "seed = 42"
   ],
   "id": "f3b1281added66be",
   "outputs": [],
   "execution_count": 34
  },
  {
   "metadata": {
    "ExecuteTime": {
     "end_time": "2025-05-08T20:46:49.041256Z",
     "start_time": "2025-05-08T20:46:49.020275Z"
    }
   },
   "cell_type": "code",
   "source": [
    "BP_train = pd.read_pickle(\"dataset/BP_train_solution.pkl\")\n",
    "BP_test = pd.read_pickle(\"dataset/BP_test_solution.pkl\")\n",
    "\n",
    "BP_train = BP_train.sample(frac=1, random_state=seed)\n",
    "BP_test = BP_test.sample(frac=1, random_state=seed)\n",
    "\n",
    "X_train = BP_train.drop(columns=['score'])\n",
    "Y_train = BP_train['score']\n",
    "\n",
    "X_test = BP_test.drop(columns=['score'])\n",
    "Y_test = BP_test['score']"
   ],
   "id": "24cc27be0d826302",
   "outputs": [],
   "execution_count": 35
  },
  {
   "metadata": {
    "jupyter": {
     "is_executing": true
    },
    "ExecuteTime": {
     "start_time": "2025-05-08T20:49:36.591789Z"
    }
   },
   "cell_type": "code",
   "source": [
    "params = {\n",
    "    \"n_estimators\": [20, 50, 100],\n",
    "    \"min_samples_leaf\": [5, 10, 20, 30],\n",
    "    \"max_depth\": [5, 10, 20],\n",
    "}\n",
    "\n",
    "et = ExtraTreesRegressor(random_state=seed)\n",
    "gs = GridSearchCV(et, params)\n",
    "\n",
    "gs.fit(X_train, Y_train)\n",
    "print(sorted(gs.cv_results_))\n",
    "\n",
    "y_pred = gs.predict(X_test)\n",
    "df = pd.DataFrame({'y_test': Y_test, 'y_pred': y_pred})\n",
    "scores = cross_val_score(et, X_train, Y_train, cv=5, scoring='r2')\n",
    "print(\"R^2 scores:\", scores)"
   ],
   "id": "da41578a25ff50f6",
   "outputs": [],
   "execution_count": null
  }
 ],
 "metadata": {
  "kernelspec": {
   "display_name": "Python 3",
   "language": "python",
   "name": "python3"
  },
  "language_info": {
   "codemirror_mode": {
    "name": "ipython",
    "version": 2
   },
   "file_extension": ".py",
   "mimetype": "text/x-python",
   "name": "python",
   "nbconvert_exporter": "python",
   "pygments_lexer": "ipython2",
   "version": "2.7.6"
  }
 },
 "nbformat": 4,
 "nbformat_minor": 5
}
