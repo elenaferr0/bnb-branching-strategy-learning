{
 "metadata": {
  "kernelspec": {
   "name": "python3",
   "display_name": "Python 3",
   "language": "python"
  },
  "language_info": {
   "name": "python",
   "version": "3.11.11",
   "mimetype": "text/x-python",
   "codemirror_mode": {
    "name": "ipython",
    "version": 3
   },
   "pygments_lexer": "ipython3",
   "nbconvert_exporter": "python",
   "file_extension": ".py"
  },
  "colab": {
   "provenance": [],
   "gpuType": "T4"
  },
  "kaggle": {
   "accelerator": "none",
   "dataSources": [
    {
     "sourceId": 11850191,
     "sourceType": "datasetVersion",
     "datasetId": 7445809
    },
    {
     "sourceId": 240284892,
     "sourceType": "kernelVersion"
    }
   ],
   "dockerImageVersionId": 31040,
   "isInternetEnabled": true,
   "language": "python",
   "sourceType": "notebook",
   "isGpuEnabled": false
  }
 },
 "nbformat_minor": 0,
 "nbformat": 4,
 "cells": [
  {
   "cell_type": "code",
   "source": [
    "import pandas as pd\n",
    "import numpy as np\n",
    "\n",
    "seed = 0"
   ],
   "metadata": {
    "id": "53aeb4cc16ed9874",
    "trusted": true,
    "execution": {
     "iopub.status.busy": "2025-05-17T17:04:29.818735Z",
     "iopub.execute_input": "2025-05-17T17:04:29.819137Z",
     "iopub.status.idle": "2025-05-17T17:04:29.824249Z",
     "shell.execute_reply.started": "2025-05-17T17:04:29.819112Z",
     "shell.execute_reply": "2025-05-17T17:04:29.823250Z"
    },
    "ExecuteTime": {
     "end_time": "2025-05-17T10:24:43.257330Z",
     "start_time": "2025-05-17T10:24:43.252967Z"
    }
   },
   "outputs": [],
   "execution_count": null
  },
  {
   "cell_type": "code",
   "source": [
    "!pip install pyscipopt"
   ],
   "metadata": {
    "ExecuteTime": {
     "end_time": "2025-05-17T10:24:45.766956Z",
     "start_time": "2025-05-17T10:24:43.299892Z"
    },
    "trusted": true,
    "execution": {
     "iopub.status.busy": "2025-05-17T17:04:29.842589Z",
     "iopub.execute_input": "2025-05-17T17:04:29.842891Z",
     "iopub.status.idle": "2025-05-17T17:04:33.447569Z",
     "shell.execute_reply.started": "2025-05-17T17:04:29.842870Z",
     "shell.execute_reply": "2025-05-17T17:04:33.446130Z"
    },
    "colab": {
     "base_uri": "https://localhost:8080/"
    },
    "id": "aZicDO8qOOKc",
    "outputId": "06e870ec-b194-4193-dd97-eb9dbd585553"
   },
   "outputs": [
    {
     "output_type": "stream",
     "name": "stdout",
     "text": [
      "Collecting pyscipopt\n",
      "  Downloading pyscipopt-5.5.0-cp311-cp311-manylinux_2_28_x86_64.whl.metadata (5.9 kB)\n",
      "Requirement already satisfied: numpy>=1.16.0 in /usr/local/lib/python3.11/dist-packages (from pyscipopt) (2.0.2)\n",
      "Downloading pyscipopt-5.5.0-cp311-cp311-manylinux_2_28_x86_64.whl (16.0 MB)\n",
      "\u001B[2K   \u001B[90m━━━━━━━━━━━━━━━━━━━━━━━━━━━━━━━━━━━━━━━━\u001B[0m \u001B[32m16.0/16.0 MB\u001B[0m \u001B[31m88.6 MB/s\u001B[0m eta \u001B[36m0:00:00\u001B[0m\n",
      "\u001B[?25hInstalling collected packages: pyscipopt\n",
      "Successfully installed pyscipopt-5.5.0\n"
     ]
    }
   ],
   "execution_count": null
  },
  {
   "cell_type": "code",
   "source": [
    "import numpy as np\n",
    "from math import ceil, floor\n",
    "\n",
    "\n",
    "class Params:\n",
    "    def __init__(self, var_idx: int, x_i: float, node_depth: int, nr_variables: int, curr_obj: float,\n",
    "                 downgain: float, upgain: float, n_branches_by_var: int, n_nodes: int):\n",
    "        self.var_idx = var_idx\n",
    "        self.x_i = x_i\n",
    "        self.node_depth = node_depth\n",
    "        self.nr_variables = nr_variables\n",
    "        self.curr_obj = curr_obj\n",
    "        self.downgain = downgain\n",
    "        self.upgain = upgain\n",
    "        self.n_branches_by_var = n_branches_by_var\n",
    "        self.n_nodes = n_nodes\n",
    "\n",
    "\n",
    "def __static_feat(i: int, A: np.ndarray, b: np.ndarray, c: np.ndarray):\n",
    "    features = {}\n",
    "    # 1st class\n",
    "    # sign{c_i}\n",
    "    c_i = c[i]\n",
    "    features['sign'] = np.sign(c_i)\n",
    "\n",
    "    # |c_i| / sum_{k: c_k >= 0} |c_k|\n",
    "    pos_sum = np.sum(np.abs(c[c >= 0]))\n",
    "    # |c_i| / sum_{k: c_k < 0} |c_k|\n",
    "    neg_sum = np.sum(np.abs(c[c < 0]))\n",
    "\n",
    "    features['c_i/sum_pos'] = abs(c_i) / pos_sum if pos_sum != 0 else 0\n",
    "    features['c_i/sum_neg'] = abs(c_i) / neg_sum if neg_sum != 0 else 0\n",
    "\n",
    "    # 2nd class\n",
    "    # m_j^{+1}(i) = A_{ji}/|b_j|, forall j s.t. b_j >= 0\n",
    "    M1_pos = []\n",
    "    # m_j^{-1}(i) = A_{ji}/|b_j|, forall j s.t. b_j < 0\n",
    "    M1_neg = []\n",
    "    for j in range(A.shape[0]):\n",
    "        a_ji = A[j, i]\n",
    "        if b[j] >= 0:\n",
    "            M1_pos.append(a_ji / abs(b[j]) if b[j] != 0 else 0)\n",
    "        else:\n",
    "            M1_neg.append(a_ji / abs(b[j]))\n",
    "\n",
    "    features['M1_pos_min'] = np.min(M1_pos) if M1_pos else 0\n",
    "    features['M1_pos_max'] = np.max(M1_pos) if M1_pos else 0\n",
    "    features['M1_neg_min'] = np.min(M1_neg) if M1_neg else 0\n",
    "    features['M1_neg_max'] = np.max(M1_neg) if M1_neg else 0\n",
    "\n",
    "    # m_j^{2+} (i) = |c_i|/|A_{ji}| forall j s.t. c_i >= 0\n",
    "    M2_pos = []\n",
    "    # m_j^{2-} (i) = |c_i|/|A_{ji}| forall j s.t. c_i < 0\n",
    "    M2_neg = []\n",
    "    for j in range(A.shape[0]):\n",
    "        if c[i] >= 0:\n",
    "            M2_pos.append(abs(c_i) / abs(A[j, i]) if A[j, i] != 0 else 0)\n",
    "        else:\n",
    "            M2_neg.append(abs(c_i) / abs(A[j, i]) if A[j, i] != 0 else 0)\n",
    "\n",
    "    features['M2_pos_min'] = np.min(M2_pos) if M2_pos else 0\n",
    "    features['M2_pos_max'] = np.max(M2_pos) if M2_pos else 0\n",
    "    features['M2_neg_min'] = np.min(M2_neg) if M2_neg else 0\n",
    "    features['M2_neg_max'] = np.max(M2_neg) if M2_neg else 0\n",
    "\n",
    "    M3_pp = []\n",
    "    M3_pm = []\n",
    "    M3_mp = []\n",
    "    M3_mm = []\n",
    "\n",
    "    for j in range(A.shape[0]):\n",
    "        pos_sum = np.sum(np.abs(A[j, A[j] >= 0]))\n",
    "        neg_sum = np.sum(np.abs(A[j, A[j] < 0]))\n",
    "\n",
    "        a_ji = abs(A[j, i])\n",
    "        if A[j, i] >= 0:\n",
    "            M3_pp.append(a_ji / pos_sum if pos_sum != 0 else 0)\n",
    "            M3_pm.append(a_ji / neg_sum if neg_sum != 0 else 0)\n",
    "        else:\n",
    "            M3_mp.append(a_ji / pos_sum if pos_sum != 0 else 0)\n",
    "            M3_mm.append(a_ji / neg_sum if neg_sum != 0 else 0)\n",
    "\n",
    "    features['M3_pp_min'] = np.min(M3_pp) if M3_pp else 0\n",
    "    features['M3_pp_max'] = np.max(M3_pp) if M3_pp else 0\n",
    "    features['M3_pm_min'] = np.min(M3_pm) if M3_pm else 0\n",
    "    features['M3_pm_max'] = np.max(M3_pm) if M3_pm else 0\n",
    "    features['M3_mp_min'] = np.min(M3_mp) if M3_mp else 0\n",
    "    features['M3_mp_max'] = np.max(M3_mp) if M3_mp else 0\n",
    "    features['M3_mm_min'] = np.min(M3_mm) if M3_mm else 0\n",
    "    features['M3_mm_max'] = np.max(M3_mm) if M3_mm else 0\n",
    "\n",
    "    return features\n",
    "\n",
    "\n",
    "def __dynamic_feat(params: Params):\n",
    "    # proportion of fixed variables at the current solution\n",
    "    # depth of current node/nr of integer variables\n",
    "    features = {}\n",
    "    features['depth'] = params.node_depth / params.nr_variables\n",
    "\n",
    "    features['min_xi'] = min(params.x_i - floor(params.x_i), ceil(params.x_i) - params.x_i)\n",
    "\n",
    "    features['log_down_driebeek'] = np.log(params.downgain) if params.downgain > 0 else 0\n",
    "    features['log_up_driebeek'] = np.log(params.upgain) if params.upgain > 0 else 0\n",
    "    features['log_down_up_driebeek'] = np.log(params.downgain + params.upgain) if (\n",
    "                                                                                              params.downgain + params.upgain) > 0 else 0\n",
    "    features['down_driebeek'] = params.downgain\n",
    "    features['up_driebeek'] = params.upgain\n",
    "\n",
    "    return features\n",
    "\n",
    "\n",
    "def __dynamic_opt_feat(params: Params):\n",
    "    features = {'branching_ratio': params.n_branches_by_var / params.n_nodes}\n",
    "    return features\n",
    "\n",
    "\n",
    "def compute_features(params: Params, A: np.ndarray, b: np.ndarray, c: np.ndarray):\n",
    "    static = __static_feat(params.var_idx, A, b, c)\n",
    "    dynamic = __dynamic_feat(params)\n",
    "    dynamic_opt = __dynamic_opt_feat(params)\n",
    "\n",
    "    return {**static, **dynamic, **dynamic_opt}\n"
   ],
   "metadata": {
    "trusted": true,
    "execution": {
     "iopub.status.busy": "2025-05-17T17:04:33.450031Z",
     "iopub.execute_input": "2025-05-17T17:04:33.450658Z",
     "iopub.status.idle": "2025-05-17T17:04:33.471873Z",
     "shell.execute_reply.started": "2025-05-17T17:04:33.450625Z",
     "shell.execute_reply": "2025-05-17T17:04:33.470818Z"
    },
    "id": "NSpxcXSuOOKd"
   },
   "outputs": [],
   "execution_count": null
  },
  {
   "cell_type": "code",
   "source": [
    "from pyscipopt import Model, Branchrule, Variable\n",
    "from pyscipopt import SCIP_RESULT\n",
    "import numpy as np\n",
    "from collections import defaultdict\n",
    "import pandas as pd\n",
    "\n",
    "class StrongBranchingRule(Branchrule):\n",
    "    def __init__(self, model, A, b, c, logged, *args, **kwargs):\n",
    "        super().__init__(*args, **kwargs)\n",
    "        self.model: Model = model\n",
    "        self.dataset = pd.DataFrame()\n",
    "        self.A = A\n",
    "        self.b = b\n",
    "        self.c = c\n",
    "        self.logged = logged\n",
    "        self.n_branches_by_var = defaultdict(int)\n",
    "\n",
    "    def branchexeclp(self, allowaddcons):\n",
    "        branch_cands, branch_cand_sols, branch_cand_fracs, ncands, npriocands, nimplcands = self.model.getLPBranchCands()\n",
    "\n",
    "        # Initialise scores for each variable\n",
    "        scores = [-self.model.infinity() for _ in range(npriocands)]\n",
    "        down_bounds = [None for _ in range(npriocands)]\n",
    "        up_bounds = [None for _ in range(npriocands)]\n",
    "\n",
    "        # Initialise placeholder values\n",
    "        num_nodes = self.model.getNNodes()\n",
    "        lpobjval = self.model.getLPObjVal()\n",
    "        lperror = False\n",
    "        best_cand_idx = 0\n",
    "\n",
    "        # Start strong branching and iterate over the branching candidates\n",
    "        self.model.startStrongbranch()\n",
    "        for i in range(npriocands):\n",
    "\n",
    "            # Check the case that the variable has already been strong branched on at this node.\n",
    "            # This case occurs when events happen in the node that should be handled immediately.\n",
    "            # When processing the node again (because the event did not remove it), there's no need to duplicate work.\n",
    "            if self.model.getVarStrongbranchNode(branch_cands[i]) == num_nodes:\n",
    "                down, up, downvalid, upvalid, _, lastlpobjval = self.model.getVarStrongbranchLast(branch_cands[i])\n",
    "                if downvalid:\n",
    "                    down_bounds[i] = down\n",
    "                if upvalid:\n",
    "                    up_bounds[i] = up\n",
    "                downgain = max([down - lastlpobjval, 0])\n",
    "                upgain = max([up - lastlpobjval, 0])\n",
    "                scores[i] = self.model.getBranchScoreMultiple(branch_cands[i], [downgain, upgain])\n",
    "                continue\n",
    "\n",
    "            # Strong branch\n",
    "            down, up, downvalid, upvalid, downinf, upinf, downconflict, upconflict, lperror = self.model.getVarStrongbranch(\n",
    "                branch_cands[i], 200, idempotent=False)\n",
    "\n",
    "            # In the case of an LP error handle appropriately (for this example we just break the loop)\n",
    "            if lperror:\n",
    "                break\n",
    "\n",
    "            # In the case of both infeasible sub-problems cutoff the node\n",
    "            if downinf and upinf:\n",
    "                return {\"result\": SCIP_RESULT.CUTOFF}\n",
    "\n",
    "            # Calculate the gains for each up and down node that strong branching explored\n",
    "            if not downinf and downvalid:\n",
    "                down_bounds[i] = down\n",
    "                downgain = max([down - lpobjval, 0])\n",
    "            else:\n",
    "                downgain = 0\n",
    "            if not upinf and upvalid:\n",
    "                up_bounds[i] = up\n",
    "                upgain = max([up - lpobjval, 0])\n",
    "            else:\n",
    "                upgain = 0\n",
    "\n",
    "\n",
    "            # Update the pseudo-costs\n",
    "            lpsol = branch_cands[i].getLPSol()\n",
    "            if not downinf and downvalid:\n",
    "                self.model.updateVarPseudocost(branch_cands[i], -self.model.frac(lpsol), downgain, 1)\n",
    "            if not upinf and upvalid:\n",
    "                self.model.updateVarPseudocost(branch_cands[i], 1 - self.model.frac(lpsol), upgain, 1)\n",
    "\n",
    "            scores[i] = self.model.getBranchScoreMultiple(branch_cands[i], [downgain, upgain])\n",
    "            if scores[i] > scores[best_cand_idx]:\n",
    "                best_cand_idx = i\n",
    "\n",
    "            self.n_branches_by_var[branch_cands[i].name] += 1\n",
    "            params = Params(\n",
    "                var_idx=branch_cands[i].getCol().getLPPos(),\n",
    "                x_i=branch_cands[i].getObj(),\n",
    "                node_depth=self.model.getCurrentNode().getDepth(),\n",
    "                nr_variables=self.model.getNVars(),\n",
    "                curr_obj=self.model.getLPObjVal(),\n",
    "                downgain=downgain,\n",
    "                upgain=upgain,\n",
    "                n_branches_by_var=self.n_branches_by_var[branch_cands[i].name],\n",
    "                n_nodes=self.model.getNNodes(),\n",
    "            )\n",
    "            features = compute_features(params, self.A, self.b, self.c)\n",
    "            curr_obj = self.model.getLPObjVal()\n",
    "            features['score'] = scores[i] / np.abs(curr_obj) if curr_obj != 0 else 0\n",
    "            row = pd.DataFrame.from_dict(features, orient='index').T\n",
    "            self.dataset = pd.concat([self.dataset, row], ignore_index=True)\n",
    "\n",
    "        # End strong branching\n",
    "        self.model.endStrongbranch()\n",
    "\n",
    "        # In the case of an LP error\n",
    "        if lperror:\n",
    "            return {\"result\": SCIP_RESULT.DIDNOTRUN}\n",
    "\n",
    "        # print(\"--> Strong branching on variable:\", branch_cands[best_cand_idx].name)\n",
    "        # Branch on the variable with the largest score\n",
    "        down_child, eq_child, up_child = self.model.branchVarVal(\n",
    "            branch_cands[best_cand_idx], branch_cands[best_cand_idx].getLPSol())\n",
    "\n",
    "        # Update the bounds of the down node and up node. Some cols might not exist due to pricing\n",
    "        if self.model.allColsInLP():\n",
    "            if down_child is not None and down_bounds[best_cand_idx] is not None:\n",
    "                self.model.updateNodeLowerbound(down_child, down_bounds[best_cand_idx])\n",
    "            if up_child is not None and up_bounds[best_cand_idx] is not None:\n",
    "                self.model.updateNodeLowerbound(up_child, up_bounds[best_cand_idx])\n",
    "\n",
    "        return {\"result\": SCIP_RESULT.BRANCHED}\n"
   ],
   "metadata": {
    "id": "Ib8Sg8NshGwo",
    "trusted": true,
    "execution": {
     "iopub.status.busy": "2025-05-17T17:04:33.473093Z",
     "iopub.execute_input": "2025-05-17T17:04:33.473454Z",
     "iopub.status.idle": "2025-05-17T17:04:33.500602Z",
     "shell.execute_reply.started": "2025-05-17T17:04:33.473425Z",
     "shell.execute_reply": "2025-05-17T17:04:33.499669Z"
    },
    "ExecuteTime": {
     "end_time": "2025-05-17T10:24:45.820219Z",
     "start_time": "2025-05-17T10:24:45.790186Z"
    }
   },
   "outputs": [],
   "execution_count": null
  },
  {
   "cell_type": "code",
   "source": [
    "from collections import defaultdict\n",
    "from datetime import datetime\n",
    "import numpy as np\n",
    "from pyscipopt import Model, quicksum\n",
    "from pyscipopt import Branchrule\n",
    "from pyscipopt.scip import Term\n",
    "from pyscipopt.scip import Solution\n",
    "\n",
    "class Problem:\n",
    "    def __init__(self, name, c, lb, ub, constraint_types, b, A, var_types=None, model=None):\n",
    "        self.name = name\n",
    "        self.c = c\n",
    "        self.lb = lb\n",
    "        self.ub = ub\n",
    "        self.constraint_types = constraint_types\n",
    "        self.var_types = var_types if var_types is not None else ['B'] * len(c)  # assuming binary\n",
    "        self.b = b\n",
    "        self.A = A\n",
    "\n",
    "        self.model = model\n",
    "\n",
    "    @staticmethod\n",
    "    def from_model(path):\n",
    "        model : Model = Model()\n",
    "        model.readProblem(path)\n",
    "        name = model.getProbName()\n",
    "\n",
    "        variables = model.getVars()\n",
    "        constraints = model.getConss()\n",
    "\n",
    "        # Initialize data structures\n",
    "        n_vars = len(variables)\n",
    "        n_cons = len(constraints)\n",
    "\n",
    "        # Create mapping from variable to index\n",
    "        A_data = defaultdict(float)\n",
    "        b = np.zeros(n_cons)\n",
    "        c = np.zeros(n_vars)\n",
    "\n",
    "        # Extract objective coefficients (vector c)\n",
    "        for i, var in enumerate(variables):\n",
    "            c[i] = model.getObjective().terms.get(Term(var), 0.0)\n",
    "\n",
    "        variables = model.getVars()\n",
    "        var_names = [v.name for v in variables]\n",
    "        num_vars = len(variables)\n",
    "\n",
    "        # Initialize A and b\n",
    "        A = []\n",
    "        b = []\n",
    "        constraint_senses = []\n",
    "\n",
    "        all_constraints = model.getConss()\n",
    "\n",
    "        for con in all_constraints:\n",
    "            assert con.isLinear(), \"Only linear constraints are supported\"\n",
    "\n",
    "            # Get coefficients for this linear constraint\n",
    "            coeffs = model.getValsLinear(con)\n",
    "\n",
    "            # Create a row for the A matrix\n",
    "            row = [0.0] * num_vars\n",
    "            for var, coeff in coeffs.items():\n",
    "                v = list(filter(lambda x: x.name == var, model.getVars()))[0]\n",
    "                try:\n",
    "                    # Find the index of the variable in our ordered list\n",
    "                    var_index = v.getIndex()\n",
    "                    row[var_index] = coeff\n",
    "                except ValueError:\n",
    "                    # This case should ideally not happen if getVars() gets all relevant variables,\n",
    "                    # but it's good practice to handle unexpected variables.\n",
    "                    print(f\"Warning: Variable {var.getName()} found in constraint {con.getName()} but not in model's getVars() list.\")\n",
    "                    pass\n",
    "\n",
    "            rhs = model.getRhs(con)\n",
    "            A.append(row)\n",
    "            b.append(rhs)\n",
    "\n",
    "        A = np.array(A)\n",
    "        b = np.array(b)\n",
    "        return Problem(name, c=c, lb=[], ub=[], constraint_types=[], b=b, A=A, var_types=[], model=model)\n",
    "\n",
    "    def solve_with_sb(self, logged=False):\n",
    "        model = self.__build_model() if self.model is None else self.model\n",
    "        if not logged:\n",
    "            model.hideOutput()\n",
    "            model.setIntParam('display/verblevel', 0)  # Quiet mode\n",
    "        else:\n",
    "            model.setIntParam('display/verblevel', 3)  # Verbose output\n",
    "\n",
    "        sb = StrongBranchingRule(model, self.A, self.b, self.c, logged)\n",
    "\n",
    "        model.includeBranchrule(\n",
    "            sb,\n",
    "            \"strongbranching\",\n",
    "            \"Custom strong branching rule for learning\",\n",
    "            priority=1000000,  # High priority to ensure it's used\n",
    "            maxdepth=-1,  # No depth limit\n",
    "            maxbounddist=1.0\n",
    "        )\n",
    "\n",
    "        start = datetime.now()\n",
    "        model.optimize()\n",
    "        end = datetime.now()\n",
    "\n",
    "        assert model.getStatus() == \"optimal\", f\"Model {model.getProbName()} did not solve to optimality. Status: {model.getStatus()}\"\n",
    "\n",
    "        stats = {\n",
    "            'time': (end - start).total_seconds(),\n",
    "            'n_vars': len(self.c),\n",
    "            'n_constraints': len(self.b),\n",
    "            'name': self.name,\n",
    "            'sb_decision': sb.model.getNNodes(),\n",
    "            'gap': sb.model.getGap(),\n",
    "        }\n",
    "        return sb.dataset, stats\n",
    "\n",
    "    def solve_with_learned_sb(self, regressor, logged=False):\n",
    "        model = self.__build_model() if self.model is None else self.model\n",
    "\n",
    "        # Create and register the branching rule\n",
    "        # sb_callback = LearnedStrongBranchingRule()\n",
    "        # model.includeBranchrule(\n",
    "        #     sb_callback,\n",
    "        #     \"learnedstrongbranching\",\n",
    "        #     \"Learned strong branching rule\",\n",
    "        #     priority=1000000,  # High priority to ensure it's used\n",
    "        #     maxdepth=-1,       # No depth limit\n",
    "        #     maxbounddist=1.0\n",
    "        # )\n",
    "\n",
    "        start = datetime.now()\n",
    "\n",
    "        model.optimize()\n",
    "        end = datetime.now()\n",
    "\n",
    "        stats = {\n",
    "            'time': (end - start).total_seconds(),\n",
    "            # 'sb_decision': sb_callback.tot_branches,\n",
    "        }\n",
    "        return stats\n",
    "\n",
    "    def __build_model(self):\n",
    "        model = Model(self.name)\n",
    "        n_vars = len(self.c)\n",
    "        x = []\n",
    "        for i in range(n_vars):\n",
    "            if self.var_types[i] == 'B':\n",
    "                x.append(model.addVar(name=f\"x_{i}\", vtype=\"B\"))\n",
    "            elif self.var_types[i] == 'C':\n",
    "                x.append(model.addVar(name=f\"x_{i}\", vtype=\"C\", lb=self.lb[i], ub=self.ub[i]))\n",
    "\n",
    "        # Set objective function\n",
    "        model.setObjective(quicksum(self.c[i] * x[i] for i in range(n_vars)), \"minimize\")\n",
    "\n",
    "        n_constraints = len(self.b)\n",
    "        if n_constraints != len(self.constraint_types):\n",
    "            raise Exception(\n",
    "                f\"Number of constraints ({n_constraints}) doesn't match number of types ({len(self.constraint_types)})\")\n",
    "\n",
    "        # Add constraints\n",
    "        for i in range(n_constraints):\n",
    "            lhs = quicksum(self.A[i][j] * x[j] for j in range(n_vars) if self.A[i][j] != 0)\n",
    "\n",
    "            if self.constraint_types[i] == 'E':\n",
    "                model.addCons(lhs == self.b[i])\n",
    "            elif self.constraint_types[i] == 'G':\n",
    "                model.addCons(lhs >= self.b[i])\n",
    "            elif self.constraint_types[i] == 'L':\n",
    "                model.addCons(lhs <= self.b[i])\n",
    "\n",
    "        # Disable cuts\n",
    "        model.setIntParam('separating/maxrounds', 0)\n",
    "        model.setIntParam('separating/maxroundsroot', 0)\n",
    "        model.setParam(\"separating/maxcuts\", 0)\n",
    "        model.setParam(\"separating/maxcutsroot\", 0)\n",
    "        model.setParam(\"separating/maxrounds\", 0)\n",
    "        model.setParam(\"separating/maxroundsroot\", 0)\n",
    "\n",
    "        # Disable various cutting plane methods\n",
    "        cut_types = [\n",
    "            'separating/clique', 'separating/gomory', 'separating/strongcg',\n",
    "            'separating/cmir', 'separating/flowcover', 'separating/mcf', 'separating/zerohalf',\n",
    "        ]\n",
    "        for cut_type in cut_types:\n",
    "            model.setIntParam(f'{cut_type}/freq', -1)\n",
    "\n",
    "        # Disable heuristics\n",
    "        model.setIntParam('heuristics/dps/freq', -1)\n",
    "\n",
    "        # Disable presolving\n",
    "        model.setBoolParam('lp/presolving', False)\n",
    "        model.setBoolParam('concurrent/presolvebefore', False)\n",
    "        model.setBoolParam('presolving/donotmultaggr', True)\n",
    "\n",
    "        presolving = [\n",
    "            \"presolving/maxrounds\",\n",
    "            \"presolving/trivial/maxrounds\",\n",
    "            \"presolving/inttobinary/maxrounds\",\n",
    "            \"presolving/gateextraction/maxrounds\",\n",
    "            \"presolving/dualcomp/maxrounds\",\n",
    "            \"presolving/domcol/maxrounds\",\n",
    "            \"presolving/implics/maxrounds\",\n",
    "            \"presolving/sparsify/maxrounds\",\n",
    "            \"presolving/dualsparsify/maxrounds\",\n",
    "            \"propagating/dualfix/maxprerounds\",\n",
    "            \"propagating/genvbounds/maxprerounds\",\n",
    "            \"propagating/obbt/maxprerounds\",\n",
    "            \"propagating/nlobbt/maxprerounds\",\n",
    "            \"propagating/probing/maxprerounds\",\n",
    "            \"propagating/pseudoobj/maxprerounds\",\n",
    "            \"propagating/redcost/maxprerounds\",\n",
    "            \"propagating/rootredcost/maxprerounds\",\n",
    "            \"propagating/symmetry/maxprerounds\",\n",
    "            \"propagating/vbounds/maxprerounds\",\n",
    "            \"propagating/maxrounds\",\n",
    "            \"propagating/maxroundsroot\",\n",
    "            \"constraints/cardinality/maxprerounds\",\n",
    "            \"constraints/SOS1/maxprerounds\",\n",
    "            \"constraints/SOS2/maxprerounds\",\n",
    "            \"constraints/varbound/maxprerounds\",\n",
    "            \"constraints/knapsack/maxprerounds\",\n",
    "            \"constraints/setppc/maxprerounds\",\n",
    "            \"constraints/linking/maxprerounds\",\n",
    "            \"constraints/or/maxprerounds\",\n",
    "            \"constraints/and/maxprerounds\",\n",
    "            \"constraints/xor/maxprerounds\",\n",
    "            \"constraints/conjunction/maxprerounds\",\n",
    "            \"constraints/disjunction/maxprerounds\",\n",
    "            \"constraints/linear/maxprerounds\",\n",
    "            \"constraints/orbisack/maxprerounds\",\n",
    "            \"constraints/orbitope/maxprerounds\",\n",
    "            \"constraints/symresack/maxprerounds\",\n",
    "            \"constraints/logicor/maxprerounds\",\n",
    "            \"constraints/bounddisjunction/maxprerounds\",\n",
    "            \"constraints/cumulative/maxprerounds\",\n",
    "            \"constraints/nonlinear/maxprerounds\",\n",
    "            \"constraints/pseudoboolean/maxprerounds\",\n",
    "            \"constraints/superindicator/maxprerounds\",\n",
    "            \"constraints/indicator/maxprerounds\",\n",
    "            \"constraints/components/maxprerounds\",\n",
    "            \"presolving/maxrestarts\",\n",
    "            \"presolving/maxrounds\",\n",
    "        ]\n",
    "\n",
    "        for presolve in presolving:\n",
    "            model.setIntParam(presolve, 0)\n",
    "\n",
    "        model.setIntParam('display/freq', 500)\n",
    "        model.setRealParam('limits/gap', 2)\n",
    "\n",
    "        assert(model.getNConss() == len(self.A)), \"Number of constraints in model doesn't match number of constraints in problem\"\n",
    "        assert(model.getNConss() == len(self.b)), \"Number of constraints in model doesn't match number of constraints in problem\"\n",
    "        assert(model.getNVars() == len(self.c)), \"Number of variables in model doesn't match number of variables in problem\"\n",
    "        return model\n",
    "\n",
    "    def __repr__(self):\n",
    "        return f\"Problem(name={self.name})\"\n"
   ],
   "metadata": {
    "id": "CndBy1i3mkDw",
    "trusted": true,
    "execution": {
     "iopub.status.busy": "2025-05-17T17:04:33.502794Z",
     "iopub.execute_input": "2025-05-17T17:04:33.503093Z",
     "iopub.status.idle": "2025-05-17T17:04:33.531851Z",
     "shell.execute_reply.started": "2025-05-17T17:04:33.503069Z",
     "shell.execute_reply": "2025-05-17T17:04:33.531125Z"
    },
    "ExecuteTime": {
     "end_time": "2025-05-17T10:24:45.869153Z",
     "start_time": "2025-05-17T10:24:45.854076Z"
    }
   },
   "outputs": [],
   "execution_count": null
  },
  {
   "cell_type": "code",
   "source": [
    "import numpy as np\n",
    "\n",
    "\"\"\"\n",
    "Formulation\n",
    "min k = sum_{j in J} y_j\n",
    "s.t.\n",
    "     k >= 1\n",
    "     sum_{i in I} s(i) x_{ij} <= B y_i forall j in J\n",
    "     sum_{j in J} x_{ij} = 1 forall i in I\n",
    "\n",
    "     y_j in {0,1} forall j in J\n",
    "     x_{ij} in {0,1} forall i in I, j in J\n",
    "\n",
    "     x_{ij} in {0,1} forall i in I, j in J\n",
    "     y_j in {0,1} forall j in J\n",
    "\n",
    "     I: items, J: bins\n",
    "     s(i): size of item i\n",
    "     B: bin capacity\n",
    "\"\"\"\n",
    "\n",
    "\n",
    "def bin_packing(n_problems: int, items: (int, int), bins: (int, int), bin_capacity: (float, float),\n",
    "                item_size: (float, float)):\n",
    "    return [__generate_bp(i, items, bins, bin_capacity, item_size) for i in range(n_problems)]\n",
    "\n",
    "\n",
    "def __generate_bp(id: int, items: (int, int), bins: (int, int), bin_capacity: (float, float),\n",
    "                       item_size: (float, float)):\n",
    "    n_items = np.random.randint(*items)\n",
    "    n_bins = np.random.randint(*bins)\n",
    "    bin_capacity = np.random.uniform(*bin_capacity)\n",
    "    item_sizes = np.random.uniform(*item_size, size=n_items)\n",
    "    n_vars = n_bins + n_items * n_bins  # y_i + x_{ij}\n",
    "    assert n_vars < 1000, \"Community edition has a limit of 1000 variables\"\n",
    "\n",
    "    c = np.concatenate([\n",
    "        np.ones(n_bins),  # cost for bins (y_j)\n",
    "        np.zeros(n_items * n_bins)  # no cost for x_{ij} (multiplying n_items * n_bins as x has 2 indexes)\n",
    "    ])\n",
    "\n",
    "    A, b, types = [], [], []\n",
    "\n",
    "    ## constraints\n",
    "    # k >= 1\n",
    "    A.append(np.concatenate([np.zeros(n_bins), np.ones(n_items * n_bins)]))\n",
    "    b.append(1)\n",
    "    types.append('G')\n",
    "\n",
    "    # sum(s(i) * x_ij) <= B * y_j for all j\n",
    "    for j in range(n_bins):\n",
    "        row = np.zeros(n_vars)\n",
    "        row[j] = -bin_capacity  # coefficient for y_j\n",
    "        for i in range(n_items):\n",
    "            row[n_bins + i * n_bins + j] = item_sizes[i]  # coefficient for x_{ij}\n",
    "        A.append(row)\n",
    "        b.append(0)\n",
    "        types.append('L')\n",
    "\n",
    "    # sum(x_ij) = 1 for all i\n",
    "    for i in range(n_items):\n",
    "        row = np.zeros(n_vars)\n",
    "        for j in range(n_bins):\n",
    "            row[n_bins + i * n_bins + j] = 1  # coefficient for x_{ij}\n",
    "        A.append(row)\n",
    "        b.append(1)\n",
    "        types.append('E')\n",
    "\n",
    "    A = np.array(A)\n",
    "    b = np.array(b)\n",
    "    assert A.shape[0] == b.shape[0], \"A and b must have the same number of rows\"\n",
    "    assert b.shape[0] <= 1000, \"Community edition has a limit of 1000 constraints\"\n",
    "\n",
    "    types = np.array(types)\n",
    "\n",
    "    return Problem(\n",
    "        name=f\"random_BP_{id}\",\n",
    "        c=c,\n",
    "        lb=[0] * n_vars,\n",
    "        ub=[1] * n_vars,\n",
    "        constraint_types=types,\n",
    "        b=b,\n",
    "        A=A\n",
    "    )\n"
   ],
   "metadata": {
    "id": "RCl__Dyimoey",
    "trusted": true,
    "execution": {
     "iopub.status.busy": "2025-05-17T17:04:33.533028Z",
     "iopub.execute_input": "2025-05-17T17:04:33.533459Z",
     "iopub.status.idle": "2025-05-17T17:04:33.561933Z",
     "shell.execute_reply.started": "2025-05-17T17:04:33.533429Z",
     "shell.execute_reply": "2025-05-17T17:04:33.561090Z"
    },
    "ExecuteTime": {
     "end_time": "2025-05-17T10:24:45.956800Z",
     "start_time": "2025-05-17T10:24:45.932403Z"
    }
   },
   "outputs": [],
   "execution_count": null
  },
  {
   "cell_type": "code",
   "source": [
    "import numpy as np\n",
    "\n",
    "\"\"\"\n",
    "Formulation\n",
    "min sum_{s in S} x_s\n",
    "s.t. sum_{s: e in s} x_s >= 1 forall e in E\n",
    "x in {0,1}^n\n",
    "\"\"\"\n",
    "\n",
    "A_DENSITY = 0.3\n",
    "\n",
    "\n",
    "def set_cover(n_problems: int, universe_size_range=(50, 70)):\n",
    "    return [__generate_sc(i, universe_size_range) for i in range(n_problems)]\n",
    "\n",
    "def __generate_sc(id: int, universe_size_range):\n",
    "    # universe selection\n",
    "    universe_size = np.random.randint(*universe_size_range)\n",
    "    universe = np.random.choice(list(range(1, 100)), size=universe_size, replace=False)\n",
    "\n",
    "    binary_matrix = np.random.randint(0, 2, size=(len(universe), len(universe)))\n",
    "\n",
    "    # Ensure each row and column has at least one 1 to avoid empty sets\n",
    "    for i in range(binary_matrix.shape[0]):\n",
    "        if np.sum(binary_matrix[i, :]) == 0:\n",
    "            binary_matrix[i, np.random.randint(0, binary_matrix.shape[1])] = 1\n",
    "\n",
    "    for j in range(binary_matrix.shape[1]):\n",
    "        if np.sum(binary_matrix[:, j]) == 0:\n",
    "            binary_matrix[np.random.randint(0, binary_matrix.shape[0]), j] = 1\n",
    "\n",
    "    # mapping to universe elements\n",
    "    subsets = []\n",
    "    for j in range(binary_matrix.shape[1]):\n",
    "        subset = []\n",
    "        for i in range(binary_matrix.shape[0]):\n",
    "            if binary_matrix[i, j] == 1:\n",
    "                subset.append(universe[i])\n",
    "        subsets.append(subset)\n",
    "\n",
    "    # remove duplicated sets from subsets\n",
    "    unique_subsets = []\n",
    "    for subset in subsets:\n",
    "        if subset not in unique_subsets:\n",
    "            unique_subsets.append(subset)\n",
    "\n",
    "    # shuffling within subsets\n",
    "    for i in range(len(unique_subsets)):\n",
    "        np.random.shuffle(unique_subsets[i])\n",
    "\n",
    "    # Create Problem object\n",
    "    n_subsets = len(unique_subsets)\n",
    "    n_elements = len(universe)\n",
    "\n",
    "    A = np.zeros((n_elements, len(unique_subsets)))\n",
    "    for j, subset in enumerate(unique_subsets):\n",
    "        for elem in subset:\n",
    "            i, = np.where(universe == elem)\n",
    "            A[i, j] = 1\n",
    "\n",
    "    c = np.ones(len(unique_subsets))\n",
    "    b = np.ones(n_elements)\n",
    "    types = ['G'] * n_elements\n",
    "\n",
    "    return Problem(\n",
    "        name=f\"SC_{id}\",\n",
    "        c=c,\n",
    "        lb=[0] * n_subsets,\n",
    "        ub=[1] * n_subsets,\n",
    "        constraint_types=types,\n",
    "        b=b,\n",
    "        A=A,\n",
    "    )\n"
   ],
   "metadata": {
    "trusted": true,
    "execution": {
     "iopub.status.busy": "2025-05-17T17:04:33.562859Z",
     "iopub.execute_input": "2025-05-17T17:04:33.563155Z",
     "iopub.status.idle": "2025-05-17T17:04:33.583670Z",
     "shell.execute_reply.started": "2025-05-17T17:04:33.563126Z",
     "shell.execute_reply": "2025-05-17T17:04:33.582598Z"
    },
    "id": "0rnC8gDlOOKk"
   },
   "outputs": [],
   "execution_count": null
  },
  {
   "cell_type": "code",
   "source": [
    "from tqdm import tqdm\n",
    "bp_instances, sc_instances = 60, 60\n",
    "\n",
    "np.random.seed = 42\n",
    "\n",
    "dataset = {}\n",
    "\n",
    "dataset['BP'] = bin_packing(\n",
    "    n_problems=bp_instances,\n",
    "    items=(10, 20),\n",
    "    bins=(5, 10),\n",
    "    bin_capacity=(0.5, 1.5),\n",
    "    item_size=(0.1, 0.9),\n",
    ")\n",
    "\n",
    "dataset['SC'] = set_cover(\n",
    "    n_problems=sc_instances,\n",
    "    universe_size_range=(50, 80),\n",
    ")\n",
    "\n",
    "# split in train and test (80% train, 20% test)\n",
    "for name, problems in dataset.items():\n",
    "    n_train = int(len(problems) * 0.8)\n",
    "    np.random.shuffle(problems)\n",
    "    dataset[name] = {\n",
    "        'train': problems[:n_train],\n",
    "        'test': problems[n_train:]\n",
    "    }"
   ],
   "metadata": {
    "id": "ravW_YMNnSm0",
    "trusted": true,
    "execution": {
     "iopub.status.busy": "2025-05-17T17:04:33.584668Z",
     "iopub.execute_input": "2025-05-17T17:04:33.584938Z",
     "iopub.status.idle": "2025-05-17T17:04:34.197695Z",
     "shell.execute_reply.started": "2025-05-17T17:04:33.584917Z",
     "shell.execute_reply": "2025-05-17T17:04:34.196739Z"
    },
    "ExecuteTime": {
     "end_time": "2025-05-17T10:24:45.986623Z",
     "start_time": "2025-05-17T10:24:45.983473Z"
    }
   },
   "outputs": [],
   "execution_count": null
  },
  {
   "cell_type": "code",
   "source": [
    "import os\n",
    "\n",
    "current_dir = '/kaggle/working'\n",
    "\n",
    "def solve(problems, name):\n",
    "    if len(problems) == 0:\n",
    "        return\n",
    "\n",
    "    dataset_name = f\"{current_dir}/{name}_solution.csv\"\n",
    "    stats_name = f\"{current_dir}/{name}_stats.csv\"\n",
    "\n",
    "    dataset = pd.read_csv(dataset_name) if os.path.exists(dataset_name) else pd.DataFrame()\n",
    "    stats = pd.read_csv(stats_name) if os.path.exists(stats_name) else pd.DataFrame()\n",
    "\n",
    "    for problem in tqdm(problems, desc=f\"Solving problems {name}\", unit=\"problem\"):\n",
    "        try:\n",
    "            names = stats['name'].values if stats.get('name', None) is not None else []\n",
    "            if not problem.name in names:\n",
    "                solution, stats_result = problem.solve_with_sb(logged=False)\n",
    "                dataset = pd.concat([dataset, solution], ignore_index=True)\n",
    "                stats_row = pd.DataFrame.from_dict(stats_result, orient='index').T\n",
    "                stats = pd.concat([stats, stats_row], ignore_index=True)\n",
    "                print(f\"Problem {problem.name} solved in {stats_result['time']} seconds\")\n",
    "                # overwrite dataset and stats files\n",
    "                dataset.to_csv(f\"{current_dir}/{name}_solution.csv\")\n",
    "                stats.to_csv(f\"{current_dir}/{name}_stats.csv\")\n",
    "            else:\n",
    "                print(f\"Problem {problem.name} already solved, skipping.\")\n",
    "        except AssertionError as e:\n",
    "            print(f\"Problem has no solution: {problem.name}\")\n",
    "        except Exception as e:\n",
    "            print(f\"Error solving problem {problem.name}: {e}\")\n",
    "            continue\n"
   ],
   "metadata": {
    "trusted": true,
    "execution": {
     "iopub.status.busy": "2025-05-17T17:04:34.198612Z",
     "iopub.execute_input": "2025-05-17T17:04:34.198862Z",
     "iopub.status.idle": "2025-05-17T17:04:34.207668Z",
     "shell.execute_reply.started": "2025-05-17T17:04:34.198843Z",
     "shell.execute_reply": "2025-05-17T17:04:34.206729Z"
    },
    "id": "Z12xMqd1OOKm"
   },
   "outputs": [],
   "execution_count": null
  },
  {
   "cell_type": "code",
   "source": [
    "import kagglehub, os\n",
    "\n",
    "binpacking_setcover_path = kagglehub.dataset_download('elenaferr0/binpacking-setcover')\n",
    "dataset_files = [\n",
    "    f\"{binpacking_setcover_path}/BP_train_solution.csv\",\n",
    "    f\"{binpacking_setcover_path}/BP_test_solution.csv\",\n",
    "    f\"{binpacking_setcover_path}/SC_train_solution.csv\",\n",
    "    f\"{binpacking_setcover_path}/SC_test_solution.csv\"\n",
    "]\n",
    "\n",
    "all_generated = True # skip problem resolution if files exist\n",
    "for f in dataset_files:\n",
    "    if not os.path.isfile(f):\n",
    "        all_generated = False\n",
    "\n",
    "if not all_generated:\n",
    "    for name, problems in dataset.items():\n",
    "        print(f\"Solving {name} problems\")\n",
    "        solve(problems['train'], f\"{name}_train\")\n",
    "        print(f\"Solving {name} test problems\")\n",
    "        solve(problems['test'], f\"{name}_test\")"
   ],
   "metadata": {
    "trusted": true,
    "execution": {
     "iopub.status.busy": "2025-05-17T17:04:34.208625Z",
     "iopub.execute_input": "2025-05-17T17:04:34.208901Z",
     "iopub.status.idle": "2025-05-17T17:04:34.322173Z",
     "shell.execute_reply.started": "2025-05-17T17:04:34.208878Z",
     "shell.execute_reply": "2025-05-17T17:04:34.321100Z"
    },
    "colab": {
     "base_uri": "https://localhost:8080/"
    },
    "id": "plRCl7m5OOKo",
    "outputId": "d38074c4-e021-4bf1-e1da-0f741645f29a"
   },
   "outputs": [
    {
     "output_type": "stream",
     "name": "stdout",
     "text": [
      "Downloading from https://www.kaggle.com/api/v1/datasets/download/elenaferr0/binpacking-setcover?dataset_version_number=3...\n"
     ]
    },
    {
     "output_type": "stream",
     "name": "stderr",
     "text": [
      "100%|██████████| 12.9M/12.9M [00:00<00:00, 76.7MB/s]"
     ]
    },
    {
     "output_type": "stream",
     "name": "stdout",
     "text": [
      "Extracting files...\n"
     ]
    },
    {
     "output_type": "stream",
     "name": "stderr",
     "text": [
      "\n"
     ]
    }
   ],
   "execution_count": null
  },
  {
   "cell_type": "markdown",
   "source": [
    "## Dataset loading (read generated csv files)"
   ],
   "metadata": {
    "id": "bf42f3b6b16c00eb"
   }
  },
  {
   "cell_type": "code",
   "source": [
    "import pandas as pd\n",
    "\n",
    "BP_train = pd.read_csv(f\"{binpacking_setcover_path}/BP_train_solution.csv\")\n",
    "BP_test = pd.read_csv(f\"{binpacking_setcover_path}/BP_test_solution.csv\")\n",
    "SC_train = pd.read_csv(f\"{binpacking_setcover_path}/SC_train_solution.csv\")\n",
    "SC_test = pd.read_csv(f\"{binpacking_setcover_path}/SC_test_solution.csv\")\n",
    "\n",
    "BP_train = BP_train.sample(frac=1, random_state=seed)\n",
    "BP_test = BP_test.sample(frac=1, random_state=seed)\n",
    "SC_train = SC_train.sample(frac=1, random_state=seed)\n",
    "SC_test = SC_test.sample(frac=1, random_state=seed)\n",
    "\n",
    "train = pd.concat([BP_train, SC_train], ignore_index=True)\n",
    "test = pd.concat([BP_test, SC_test], ignore_index=True)\n",
    "\n",
    "X_train = train.drop(columns=['score'])\n",
    "Y_train = train['score']\n",
    "\n",
    "X_test = test.drop(columns=['score'])\n",
    "Y_test = test['score']\n",
    "\n",
    "X = pd.concat([X_train, X_test], ignore_index=True)\n",
    "Y = pd.concat([Y_train, Y_test], ignore_index=True)"
   ],
   "metadata": {
    "id": "37f2508f27142e6a",
    "trusted": true,
    "execution": {
     "iopub.status.busy": "2025-05-17T17:04:34.325450Z",
     "iopub.execute_input": "2025-05-17T17:04:34.325786Z",
     "iopub.status.idle": "2025-05-17T17:04:35.324665Z",
     "shell.execute_reply.started": "2025-05-17T17:04:34.325761Z",
     "shell.execute_reply": "2025-05-17T17:04:35.323856Z"
    },
    "ExecuteTime": {
     "end_time": "2025-05-18T09:10:48.923262Z",
     "start_time": "2025-05-18T09:10:48.731470Z"
    }
   },
   "outputs": [
    {
     "ename": "FileNotFoundError",
     "evalue": "[Errno 2] No such file or directory: './BP_test_solution.csv'",
     "output_type": "error",
     "traceback": [
      "\u001B[0;31m---------------------------------------------------------------------------\u001B[0m",
      "\u001B[0;31mFileNotFoundError\u001B[0m                         Traceback (most recent call last)",
      "Cell \u001B[0;32mIn[2], line 5\u001B[0m\n\u001B[1;32m      3\u001B[0m binpacking_setcover_path \u001B[38;5;241m=\u001B[39m \u001B[38;5;124m\"\u001B[39m\u001B[38;5;124m.\u001B[39m\u001B[38;5;124m\"\u001B[39m\n\u001B[1;32m      4\u001B[0m BP_train \u001B[38;5;241m=\u001B[39m pd\u001B[38;5;241m.\u001B[39mread_csv(\u001B[38;5;124mf\u001B[39m\u001B[38;5;124m\"\u001B[39m\u001B[38;5;132;01m{\u001B[39;00mbinpacking_setcover_path\u001B[38;5;132;01m}\u001B[39;00m\u001B[38;5;124m/BP_train_solution.csv\u001B[39m\u001B[38;5;124m\"\u001B[39m)\n\u001B[0;32m----> 5\u001B[0m BP_test \u001B[38;5;241m=\u001B[39m \u001B[43mpd\u001B[49m\u001B[38;5;241;43m.\u001B[39;49m\u001B[43mread_csv\u001B[49m\u001B[43m(\u001B[49m\u001B[38;5;124;43mf\u001B[39;49m\u001B[38;5;124;43m\"\u001B[39;49m\u001B[38;5;132;43;01m{\u001B[39;49;00m\u001B[43mbinpacking_setcover_path\u001B[49m\u001B[38;5;132;43;01m}\u001B[39;49;00m\u001B[38;5;124;43m/BP_test_solution.csv\u001B[39;49m\u001B[38;5;124;43m\"\u001B[39;49m\u001B[43m)\u001B[49m\n\u001B[1;32m      6\u001B[0m \u001B[38;5;66;03m# SC_train = pd.read_csv(f\"{binpacking_setcover_path}/SC_train_solution.csv\")\u001B[39;00m\n\u001B[1;32m      7\u001B[0m \u001B[38;5;66;03m# SC_test = pd.read_csv(f\"{binpacking_setcover_path}/SC_test_solution.csv\")\u001B[39;00m\n\u001B[1;32m      9\u001B[0m BP_train \u001B[38;5;241m=\u001B[39m BP_train\u001B[38;5;241m.\u001B[39msample(frac\u001B[38;5;241m=\u001B[39m\u001B[38;5;241m1\u001B[39m, random_state\u001B[38;5;241m=\u001B[39mseed)\n",
      "File \u001B[0;32m~/Documents/projects/bnb-branching-strategy-learning/.venv/lib64/python3.9/site-packages/pandas/io/parsers/readers.py:1026\u001B[0m, in \u001B[0;36mread_csv\u001B[0;34m(filepath_or_buffer, sep, delimiter, header, names, index_col, usecols, dtype, engine, converters, true_values, false_values, skipinitialspace, skiprows, skipfooter, nrows, na_values, keep_default_na, na_filter, verbose, skip_blank_lines, parse_dates, infer_datetime_format, keep_date_col, date_parser, date_format, dayfirst, cache_dates, iterator, chunksize, compression, thousands, decimal, lineterminator, quotechar, quoting, doublequote, escapechar, comment, encoding, encoding_errors, dialect, on_bad_lines, delim_whitespace, low_memory, memory_map, float_precision, storage_options, dtype_backend)\u001B[0m\n\u001B[1;32m   1013\u001B[0m kwds_defaults \u001B[38;5;241m=\u001B[39m _refine_defaults_read(\n\u001B[1;32m   1014\u001B[0m     dialect,\n\u001B[1;32m   1015\u001B[0m     delimiter,\n\u001B[0;32m   (...)\u001B[0m\n\u001B[1;32m   1022\u001B[0m     dtype_backend\u001B[38;5;241m=\u001B[39mdtype_backend,\n\u001B[1;32m   1023\u001B[0m )\n\u001B[1;32m   1024\u001B[0m kwds\u001B[38;5;241m.\u001B[39mupdate(kwds_defaults)\n\u001B[0;32m-> 1026\u001B[0m \u001B[38;5;28;01mreturn\u001B[39;00m \u001B[43m_read\u001B[49m\u001B[43m(\u001B[49m\u001B[43mfilepath_or_buffer\u001B[49m\u001B[43m,\u001B[49m\u001B[43m \u001B[49m\u001B[43mkwds\u001B[49m\u001B[43m)\u001B[49m\n",
      "File \u001B[0;32m~/Documents/projects/bnb-branching-strategy-learning/.venv/lib64/python3.9/site-packages/pandas/io/parsers/readers.py:620\u001B[0m, in \u001B[0;36m_read\u001B[0;34m(filepath_or_buffer, kwds)\u001B[0m\n\u001B[1;32m    617\u001B[0m _validate_names(kwds\u001B[38;5;241m.\u001B[39mget(\u001B[38;5;124m\"\u001B[39m\u001B[38;5;124mnames\u001B[39m\u001B[38;5;124m\"\u001B[39m, \u001B[38;5;28;01mNone\u001B[39;00m))\n\u001B[1;32m    619\u001B[0m \u001B[38;5;66;03m# Create the parser.\u001B[39;00m\n\u001B[0;32m--> 620\u001B[0m parser \u001B[38;5;241m=\u001B[39m \u001B[43mTextFileReader\u001B[49m\u001B[43m(\u001B[49m\u001B[43mfilepath_or_buffer\u001B[49m\u001B[43m,\u001B[49m\u001B[43m \u001B[49m\u001B[38;5;241;43m*\u001B[39;49m\u001B[38;5;241;43m*\u001B[39;49m\u001B[43mkwds\u001B[49m\u001B[43m)\u001B[49m\n\u001B[1;32m    622\u001B[0m \u001B[38;5;28;01mif\u001B[39;00m chunksize \u001B[38;5;129;01mor\u001B[39;00m iterator:\n\u001B[1;32m    623\u001B[0m     \u001B[38;5;28;01mreturn\u001B[39;00m parser\n",
      "File \u001B[0;32m~/Documents/projects/bnb-branching-strategy-learning/.venv/lib64/python3.9/site-packages/pandas/io/parsers/readers.py:1620\u001B[0m, in \u001B[0;36mTextFileReader.__init__\u001B[0;34m(self, f, engine, **kwds)\u001B[0m\n\u001B[1;32m   1617\u001B[0m     \u001B[38;5;28mself\u001B[39m\u001B[38;5;241m.\u001B[39moptions[\u001B[38;5;124m\"\u001B[39m\u001B[38;5;124mhas_index_names\u001B[39m\u001B[38;5;124m\"\u001B[39m] \u001B[38;5;241m=\u001B[39m kwds[\u001B[38;5;124m\"\u001B[39m\u001B[38;5;124mhas_index_names\u001B[39m\u001B[38;5;124m\"\u001B[39m]\n\u001B[1;32m   1619\u001B[0m \u001B[38;5;28mself\u001B[39m\u001B[38;5;241m.\u001B[39mhandles: IOHandles \u001B[38;5;241m|\u001B[39m \u001B[38;5;28;01mNone\u001B[39;00m \u001B[38;5;241m=\u001B[39m \u001B[38;5;28;01mNone\u001B[39;00m\n\u001B[0;32m-> 1620\u001B[0m \u001B[38;5;28mself\u001B[39m\u001B[38;5;241m.\u001B[39m_engine \u001B[38;5;241m=\u001B[39m \u001B[38;5;28;43mself\u001B[39;49m\u001B[38;5;241;43m.\u001B[39;49m\u001B[43m_make_engine\u001B[49m\u001B[43m(\u001B[49m\u001B[43mf\u001B[49m\u001B[43m,\u001B[49m\u001B[43m \u001B[49m\u001B[38;5;28;43mself\u001B[39;49m\u001B[38;5;241;43m.\u001B[39;49m\u001B[43mengine\u001B[49m\u001B[43m)\u001B[49m\n",
      "File \u001B[0;32m~/Documents/projects/bnb-branching-strategy-learning/.venv/lib64/python3.9/site-packages/pandas/io/parsers/readers.py:1880\u001B[0m, in \u001B[0;36mTextFileReader._make_engine\u001B[0;34m(self, f, engine)\u001B[0m\n\u001B[1;32m   1878\u001B[0m     \u001B[38;5;28;01mif\u001B[39;00m \u001B[38;5;124m\"\u001B[39m\u001B[38;5;124mb\u001B[39m\u001B[38;5;124m\"\u001B[39m \u001B[38;5;129;01mnot\u001B[39;00m \u001B[38;5;129;01min\u001B[39;00m mode:\n\u001B[1;32m   1879\u001B[0m         mode \u001B[38;5;241m+\u001B[39m\u001B[38;5;241m=\u001B[39m \u001B[38;5;124m\"\u001B[39m\u001B[38;5;124mb\u001B[39m\u001B[38;5;124m\"\u001B[39m\n\u001B[0;32m-> 1880\u001B[0m \u001B[38;5;28mself\u001B[39m\u001B[38;5;241m.\u001B[39mhandles \u001B[38;5;241m=\u001B[39m \u001B[43mget_handle\u001B[49m\u001B[43m(\u001B[49m\n\u001B[1;32m   1881\u001B[0m \u001B[43m    \u001B[49m\u001B[43mf\u001B[49m\u001B[43m,\u001B[49m\n\u001B[1;32m   1882\u001B[0m \u001B[43m    \u001B[49m\u001B[43mmode\u001B[49m\u001B[43m,\u001B[49m\n\u001B[1;32m   1883\u001B[0m \u001B[43m    \u001B[49m\u001B[43mencoding\u001B[49m\u001B[38;5;241;43m=\u001B[39;49m\u001B[38;5;28;43mself\u001B[39;49m\u001B[38;5;241;43m.\u001B[39;49m\u001B[43moptions\u001B[49m\u001B[38;5;241;43m.\u001B[39;49m\u001B[43mget\u001B[49m\u001B[43m(\u001B[49m\u001B[38;5;124;43m\"\u001B[39;49m\u001B[38;5;124;43mencoding\u001B[39;49m\u001B[38;5;124;43m\"\u001B[39;49m\u001B[43m,\u001B[49m\u001B[43m \u001B[49m\u001B[38;5;28;43;01mNone\u001B[39;49;00m\u001B[43m)\u001B[49m\u001B[43m,\u001B[49m\n\u001B[1;32m   1884\u001B[0m \u001B[43m    \u001B[49m\u001B[43mcompression\u001B[49m\u001B[38;5;241;43m=\u001B[39;49m\u001B[38;5;28;43mself\u001B[39;49m\u001B[38;5;241;43m.\u001B[39;49m\u001B[43moptions\u001B[49m\u001B[38;5;241;43m.\u001B[39;49m\u001B[43mget\u001B[49m\u001B[43m(\u001B[49m\u001B[38;5;124;43m\"\u001B[39;49m\u001B[38;5;124;43mcompression\u001B[39;49m\u001B[38;5;124;43m\"\u001B[39;49m\u001B[43m,\u001B[49m\u001B[43m \u001B[49m\u001B[38;5;28;43;01mNone\u001B[39;49;00m\u001B[43m)\u001B[49m\u001B[43m,\u001B[49m\n\u001B[1;32m   1885\u001B[0m \u001B[43m    \u001B[49m\u001B[43mmemory_map\u001B[49m\u001B[38;5;241;43m=\u001B[39;49m\u001B[38;5;28;43mself\u001B[39;49m\u001B[38;5;241;43m.\u001B[39;49m\u001B[43moptions\u001B[49m\u001B[38;5;241;43m.\u001B[39;49m\u001B[43mget\u001B[49m\u001B[43m(\u001B[49m\u001B[38;5;124;43m\"\u001B[39;49m\u001B[38;5;124;43mmemory_map\u001B[39;49m\u001B[38;5;124;43m\"\u001B[39;49m\u001B[43m,\u001B[49m\u001B[43m \u001B[49m\u001B[38;5;28;43;01mFalse\u001B[39;49;00m\u001B[43m)\u001B[49m\u001B[43m,\u001B[49m\n\u001B[1;32m   1886\u001B[0m \u001B[43m    \u001B[49m\u001B[43mis_text\u001B[49m\u001B[38;5;241;43m=\u001B[39;49m\u001B[43mis_text\u001B[49m\u001B[43m,\u001B[49m\n\u001B[1;32m   1887\u001B[0m \u001B[43m    \u001B[49m\u001B[43merrors\u001B[49m\u001B[38;5;241;43m=\u001B[39;49m\u001B[38;5;28;43mself\u001B[39;49m\u001B[38;5;241;43m.\u001B[39;49m\u001B[43moptions\u001B[49m\u001B[38;5;241;43m.\u001B[39;49m\u001B[43mget\u001B[49m\u001B[43m(\u001B[49m\u001B[38;5;124;43m\"\u001B[39;49m\u001B[38;5;124;43mencoding_errors\u001B[39;49m\u001B[38;5;124;43m\"\u001B[39;49m\u001B[43m,\u001B[49m\u001B[43m \u001B[49m\u001B[38;5;124;43m\"\u001B[39;49m\u001B[38;5;124;43mstrict\u001B[39;49m\u001B[38;5;124;43m\"\u001B[39;49m\u001B[43m)\u001B[49m\u001B[43m,\u001B[49m\n\u001B[1;32m   1888\u001B[0m \u001B[43m    \u001B[49m\u001B[43mstorage_options\u001B[49m\u001B[38;5;241;43m=\u001B[39;49m\u001B[38;5;28;43mself\u001B[39;49m\u001B[38;5;241;43m.\u001B[39;49m\u001B[43moptions\u001B[49m\u001B[38;5;241;43m.\u001B[39;49m\u001B[43mget\u001B[49m\u001B[43m(\u001B[49m\u001B[38;5;124;43m\"\u001B[39;49m\u001B[38;5;124;43mstorage_options\u001B[39;49m\u001B[38;5;124;43m\"\u001B[39;49m\u001B[43m,\u001B[49m\u001B[43m \u001B[49m\u001B[38;5;28;43;01mNone\u001B[39;49;00m\u001B[43m)\u001B[49m\u001B[43m,\u001B[49m\n\u001B[1;32m   1889\u001B[0m \u001B[43m\u001B[49m\u001B[43m)\u001B[49m\n\u001B[1;32m   1890\u001B[0m \u001B[38;5;28;01massert\u001B[39;00m \u001B[38;5;28mself\u001B[39m\u001B[38;5;241m.\u001B[39mhandles \u001B[38;5;129;01mis\u001B[39;00m \u001B[38;5;129;01mnot\u001B[39;00m \u001B[38;5;28;01mNone\u001B[39;00m\n\u001B[1;32m   1891\u001B[0m f \u001B[38;5;241m=\u001B[39m \u001B[38;5;28mself\u001B[39m\u001B[38;5;241m.\u001B[39mhandles\u001B[38;5;241m.\u001B[39mhandle\n",
      "File \u001B[0;32m~/Documents/projects/bnb-branching-strategy-learning/.venv/lib64/python3.9/site-packages/pandas/io/common.py:873\u001B[0m, in \u001B[0;36mget_handle\u001B[0;34m(path_or_buf, mode, encoding, compression, memory_map, is_text, errors, storage_options)\u001B[0m\n\u001B[1;32m    868\u001B[0m \u001B[38;5;28;01melif\u001B[39;00m \u001B[38;5;28misinstance\u001B[39m(handle, \u001B[38;5;28mstr\u001B[39m):\n\u001B[1;32m    869\u001B[0m     \u001B[38;5;66;03m# Check whether the filename is to be opened in binary mode.\u001B[39;00m\n\u001B[1;32m    870\u001B[0m     \u001B[38;5;66;03m# Binary mode does not support 'encoding' and 'newline'.\u001B[39;00m\n\u001B[1;32m    871\u001B[0m     \u001B[38;5;28;01mif\u001B[39;00m ioargs\u001B[38;5;241m.\u001B[39mencoding \u001B[38;5;129;01mand\u001B[39;00m \u001B[38;5;124m\"\u001B[39m\u001B[38;5;124mb\u001B[39m\u001B[38;5;124m\"\u001B[39m \u001B[38;5;129;01mnot\u001B[39;00m \u001B[38;5;129;01min\u001B[39;00m ioargs\u001B[38;5;241m.\u001B[39mmode:\n\u001B[1;32m    872\u001B[0m         \u001B[38;5;66;03m# Encoding\u001B[39;00m\n\u001B[0;32m--> 873\u001B[0m         handle \u001B[38;5;241m=\u001B[39m \u001B[38;5;28;43mopen\u001B[39;49m\u001B[43m(\u001B[49m\n\u001B[1;32m    874\u001B[0m \u001B[43m            \u001B[49m\u001B[43mhandle\u001B[49m\u001B[43m,\u001B[49m\n\u001B[1;32m    875\u001B[0m \u001B[43m            \u001B[49m\u001B[43mioargs\u001B[49m\u001B[38;5;241;43m.\u001B[39;49m\u001B[43mmode\u001B[49m\u001B[43m,\u001B[49m\n\u001B[1;32m    876\u001B[0m \u001B[43m            \u001B[49m\u001B[43mencoding\u001B[49m\u001B[38;5;241;43m=\u001B[39;49m\u001B[43mioargs\u001B[49m\u001B[38;5;241;43m.\u001B[39;49m\u001B[43mencoding\u001B[49m\u001B[43m,\u001B[49m\n\u001B[1;32m    877\u001B[0m \u001B[43m            \u001B[49m\u001B[43merrors\u001B[49m\u001B[38;5;241;43m=\u001B[39;49m\u001B[43merrors\u001B[49m\u001B[43m,\u001B[49m\n\u001B[1;32m    878\u001B[0m \u001B[43m            \u001B[49m\u001B[43mnewline\u001B[49m\u001B[38;5;241;43m=\u001B[39;49m\u001B[38;5;124;43m\"\u001B[39;49m\u001B[38;5;124;43m\"\u001B[39;49m\u001B[43m,\u001B[49m\n\u001B[1;32m    879\u001B[0m \u001B[43m        \u001B[49m\u001B[43m)\u001B[49m\n\u001B[1;32m    880\u001B[0m     \u001B[38;5;28;01melse\u001B[39;00m:\n\u001B[1;32m    881\u001B[0m         \u001B[38;5;66;03m# Binary mode\u001B[39;00m\n\u001B[1;32m    882\u001B[0m         handle \u001B[38;5;241m=\u001B[39m \u001B[38;5;28mopen\u001B[39m(handle, ioargs\u001B[38;5;241m.\u001B[39mmode)\n",
      "\u001B[0;31mFileNotFoundError\u001B[0m: [Errno 2] No such file or directory: './BP_test_solution.csv'"
     ]
    }
   ],
   "execution_count": 2
  },
  {
   "cell_type": "code",
   "source": [
    "from sklearn.feature_selection import SelectKBest\n",
    "from sklearn.feature_selection import f_regression\n",
    "\n",
    "kb = SelectKBest(f_regression, k=10).fit(X, Y)\n",
    "X_train_k_best = kb.transform(X_train)\n",
    "k_best_feat = kb.get_feature_names_out()\n",
    "X_test_k_best = kb.transform(X_test)"
   ],
   "metadata": {
    "id": "9e987e6daea235ff",
    "trusted": true,
    "execution": {
     "iopub.status.busy": "2025-05-17T17:04:35.325462Z",
     "iopub.execute_input": "2025-05-17T17:04:35.325735Z",
     "iopub.status.idle": "2025-05-17T17:04:35.380541Z",
     "shell.execute_reply.started": "2025-05-17T17:04:35.325716Z",
     "shell.execute_reply": "2025-05-17T17:04:35.379751Z"
    }
   },
   "outputs": [],
   "execution_count": null
  },
  {
   "cell_type": "markdown",
   "source": [
    "## Preprocessing"
   ],
   "metadata": {
    "id": "a160174e3b2fd66c"
   }
  },
  {
   "cell_type": "code",
   "source": [
    "from sklearn.preprocessing import StandardScaler\n",
    "\n",
    "scaler = StandardScaler()\n",
    "scaler.fit(X_train_k_best)\n",
    "X_train_scaled = scaler.transform(X_train_k_best)\n",
    "X_test_scaled = scaler.transform(X_test_k_best)"
   ],
   "metadata": {
    "id": "d4ebac13f572ce36",
    "trusted": true,
    "execution": {
     "iopub.status.busy": "2025-05-17T17:04:35.381313Z",
     "iopub.execute_input": "2025-05-17T17:04:35.381555Z",
     "iopub.status.idle": "2025-05-17T17:04:35.402287Z",
     "shell.execute_reply.started": "2025-05-17T17:04:35.381537Z",
     "shell.execute_reply": "2025-05-17T17:04:35.401555Z"
    }
   },
   "outputs": [],
   "execution_count": null
  },
  {
   "cell_type": "markdown",
   "source": [
    "### PCA"
   ],
   "metadata": {
    "id": "e66e76e3f75efbe6"
   }
  },
  {
   "cell_type": "code",
   "source": [
    "%matplotlib inline\n",
    "import matplotlib.pyplot as plt\n",
    "from sklearn.decomposition import PCA\n",
    "\n",
    "# First PCA visualization\n",
    "pca1 = PCA(n_components=2)\n",
    "X_train_pca1 = pca1.fit_transform(X_train_scaled)\n",
    "\n",
    "plt.figure(figsize=(10, 8))\n",
    "plt.title('PCA visualization of training data (2 components)')\n",
    "plt.scatter(X_train_pca1[:, 0], X_train_pca1[:, 1], alpha=0.5)\n",
    "plt.xlabel('First Principal Component')\n",
    "plt.ylabel('Second Principal Component')\n",
    "plt.show()"
   ],
   "metadata": {
    "id": "aa06e7a2c4f641d4",
    "outputId": "c300221c-2cbc-4224-f70d-7c06b28ef995",
    "trusted": true,
    "execution": {
     "iopub.status.busy": "2025-05-17T17:04:35.403279Z",
     "iopub.execute_input": "2025-05-17T17:04:35.403773Z",
     "iopub.status.idle": "2025-05-17T17:04:36.018469Z",
     "shell.execute_reply.started": "2025-05-17T17:04:35.403744Z",
     "shell.execute_reply": "2025-05-17T17:04:36.017479Z"
    },
    "colab": {
     "base_uri": "https://localhost:8080/",
     "height": 718
    }
   },
   "outputs": [
    {
     "output_type": "display_data",
     "data": {
      "text/plain": [
       "<Figure size 1000x800 with 1 Axes>"
      ],
      "image/png": "[encoded data removed]"
     },
     "metadata": {}
    }
   ],
   "execution_count": null
  },
  {
   "cell_type": "markdown",
   "source": [
    "## Extra Trees Regressor"
   ],
   "metadata": {
    "id": "9c5f697ab71c0078"
   }
  },
  {
   "cell_type": "code",
   "source": [
    "from sklearn.ensemble import ExtraTreesRegressor\n",
    "from sklearn.model_selection import GridSearchCV\n",
    "from sklearn.metrics import r2_score, mean_squared_error, mean_absolute_percentage_error, max_error\n",
    "import pandas as pd\n",
    "import numpy as np\n",
    "\n",
    "params = {\n",
    "    \"n_estimators\": [10, 15, 20],\n",
    "    \"min_samples_leaf\": [5, 7, 10],\n",
    "    \"max_depth\": [5, 10, 20],\n",
    "}\n",
    "et = ExtraTreesRegressor(random_state=seed)\n",
    "gs = GridSearchCV(et, param_grid=params, cv=5, scoring='r2')\n",
    "gs.fit(X_train_scaled, Y_train)\n",
    "\n",
    "print(\"Best score: \", gs.best_score_)\n",
    "print(\"Best params: \", gs.best_params_)\n",
    "\n",
    "best_model = gs.best_estimator_\n",
    "y_pred = best_model.predict(X_test_scaled)\n",
    "\n",
    "print(\"\\nTest set evaluation metrics:\")\n",
    "print(f\"Test set R² score: {r2_score(Y_test, y_pred):.4f}\")\n",
    "print(f\"Test set MSE: {mean_squared_error(Y_test, y_pred):.4f}\")\n",
    "print(f\"Test set MAPE: {mean_absolute_percentage_error(Y_test, y_pred):.4f}\")\n",
    "print(f\"Test set Max error: {max_error(Y_test, y_pred):.4f}\")"
   ],
   "metadata": {
    "id": "e94aaa4daa32cf6a",
    "outputId": "f7af86ae-1c43-4db9-cad3-1159ee79bcc3",
    "trusted": true,
    "execution": {
     "iopub.status.busy": "2025-05-17T17:04:36.019571Z",
     "iopub.execute_input": "2025-05-17T17:04:36.019922Z",
     "iopub.status.idle": "2025-05-17T17:06:04.624375Z",
     "shell.execute_reply.started": "2025-05-17T17:04:36.019891Z",
     "shell.execute_reply": "2025-05-17T17:06:04.623172Z"
    },
    "colab": {
     "base_uri": "https://localhost:8080/"
    }
   },
   "outputs": [
    {
     "output_type": "stream",
     "name": "stdout",
     "text": [
      "Best score:  0.96686097125022\n",
      "Best params:  {'max_depth': 20, 'min_samples_leaf': 7, 'n_estimators': 15}\n",
      "\n",
      "Test set evaluation metrics:\n",
      "Test set R² score: 0.9867\n",
      "Test set MSE: 0.9469\n",
      "Test set MAPE: 0.1197\n",
      "Test set Max error: 26.6265\n"
     ]
    }
   ],
   "execution_count": null
  },
  {
   "cell_type": "markdown",
   "source": [
    "## Single decision tree regressor"
   ],
   "metadata": {
    "id": "o3s0sEYtI95D"
   }
  },
  {
   "cell_type": "code",
   "source": [
    "from sklearn.tree import DecisionTreeRegressor\n",
    "from sklearn.metrics import r2_score, mean_squared_error, mean_absolute_percentage_error, max_error\n",
    "from sklearn.model_selection import GridSearchCV\n",
    "\n",
    "params = {\n",
    "    \"min_samples_leaf\": [5, 7, 10],\n",
    "    \"max_depth\": [5, 7, 10],\n",
    "}\n",
    "\n",
    "dt = DecisionTreeRegressor(random_state=seed)\n",
    "gs = GridSearchCV(dt, param_grid=params, cv=5, scoring='r2')\n",
    "gs.fit(X_train_scaled, Y_train)\n",
    "print(\"Best score: \", gs.best_score_)\n",
    "print(\"Best params: \", gs.best_params_)\n",
    "\n",
    "best_model = gs.best_estimator_\n",
    "y_pred = best_model.predict(X_test_scaled)\n",
    "\n",
    "print(f\"Test set r2: {r2_score(Y_test, y_pred):.4f}\")\n",
    "print(f\"Test set MSE: {mean_squared_error(Y_test, y_pred):.4f}\")\n",
    "print(f\"Test set MAPE: {mean_absolute_percentage_error(Y_test, y_pred):.4f}\")\n",
    "print(f\"Test set Max error: {max_error(Y_test, y_pred):.4f}\")"
   ],
   "metadata": {
    "id": "DU-3xyppIw0F",
    "outputId": "c417bbfb-8e27-4153-de8f-c8fee9b3c854",
    "trusted": true,
    "execution": {
     "iopub.status.busy": "2025-05-17T17:06:04.625951Z",
     "iopub.execute_input": "2025-05-17T17:06:04.626428Z",
     "iopub.status.idle": "2025-05-17T17:06:25.044884Z",
     "shell.execute_reply.started": "2025-05-17T17:06:04.626387Z",
     "shell.execute_reply": "2025-05-17T17:06:25.043917Z"
    },
    "colab": {
     "base_uri": "https://localhost:8080/"
    }
   },
   "outputs": [
    {
     "output_type": "stream",
     "name": "stdout",
     "text": [
      "Best score:  0.9552235131562048\n",
      "Best params:  {'max_depth': 10, 'min_samples_leaf': 5}\n",
      "Test set r2: 0.9939\n",
      "Test set MSE: 0.4350\n",
      "Test set MAPE: 0.1222\n",
      "Test set Max error: 13.5337\n"
     ]
    }
   ],
   "execution_count": null
  },
  {
   "cell_type": "markdown",
   "source": [
    "# imodels rules"
   ],
   "metadata": {
    "id": "5WWUqbCeiBHe"
   }
  },
  {
   "cell_type": "code",
   "source": [
    "!pip install imodels"
   ],
   "metadata": {
    "id": "ItPIIGHQC8a2",
    "outputId": "96705251-6702-413b-c036-48e91a4a0146",
    "trusted": true,
    "execution": {
     "iopub.status.busy": "2025-05-17T17:06:25.045962Z",
     "iopub.execute_input": "2025-05-17T17:06:25.046748Z",
     "iopub.status.idle": "2025-05-17T17:06:28.837975Z",
     "shell.execute_reply.started": "2025-05-17T17:06:25.046723Z",
     "shell.execute_reply": "2025-05-17T17:06:28.836723Z"
    },
    "colab": {
     "base_uri": "https://localhost:8080/"
    }
   },
   "outputs": [
    {
     "output_type": "stream",
     "name": "stdout",
     "text": [
      "Requirement already satisfied: imodels in /usr/local/lib/python3.11/dist-packages (2.0.0)\n",
      "Requirement already satisfied: matplotlib in /usr/local/lib/python3.11/dist-packages (from imodels) (3.10.0)\n",
      "Requirement already satisfied: mlxtend>=0.18.0 in /usr/local/lib/python3.11/dist-packages (from imodels) (0.23.4)\n",
      "Requirement already satisfied: numpy in /usr/local/lib/python3.11/dist-packages (from imodels) (2.0.2)\n",
      "Requirement already satisfied: pandas in /usr/local/lib/python3.11/dist-packages (from imodels) (2.2.2)\n",
      "Requirement already satisfied: requests in /usr/local/lib/python3.11/dist-packages (from imodels) (2.32.3)\n",
      "Requirement already satisfied: scipy in /usr/local/lib/python3.11/dist-packages (from imodels) (1.15.3)\n",
      "Requirement already satisfied: scikit-learn>=1.2.0 in /usr/local/lib/python3.11/dist-packages (from imodels) (1.6.1)\n",
      "Requirement already satisfied: tqdm in /usr/local/lib/python3.11/dist-packages (from imodels) (4.67.1)\n",
      "Requirement already satisfied: joblib>=0.13.2 in /usr/local/lib/python3.11/dist-packages (from mlxtend>=0.18.0->imodels) (1.5.0)\n",
      "Requirement already satisfied: contourpy>=1.0.1 in /usr/local/lib/python3.11/dist-packages (from matplotlib->imodels) (1.3.2)\n",
      "Requirement already satisfied: cycler>=0.10 in /usr/local/lib/python3.11/dist-packages (from matplotlib->imodels) (0.12.1)\n",
      "Requirement already satisfied: fonttools>=4.22.0 in /usr/local/lib/python3.11/dist-packages (from matplotlib->imodels) (4.58.0)\n",
      "Requirement already satisfied: kiwisolver>=1.3.1 in /usr/local/lib/python3.11/dist-packages (from matplotlib->imodels) (1.4.8)\n",
      "Requirement already satisfied: packaging>=20.0 in /usr/local/lib/python3.11/dist-packages (from matplotlib->imodels) (24.2)\n",
      "Requirement already satisfied: pillow>=8 in /usr/local/lib/python3.11/dist-packages (from matplotlib->imodels) (11.2.1)\n",
      "Requirement already satisfied: pyparsing>=2.3.1 in /usr/local/lib/python3.11/dist-packages (from matplotlib->imodels) (3.2.3)\n",
      "Requirement already satisfied: python-dateutil>=2.7 in /usr/local/lib/python3.11/dist-packages (from matplotlib->imodels) (2.9.0.post0)\n",
      "Requirement already satisfied: pytz>=2020.1 in /usr/local/lib/python3.11/dist-packages (from pandas->imodels) (2025.2)\n",
      "Requirement already satisfied: tzdata>=2022.7 in /usr/local/lib/python3.11/dist-packages (from pandas->imodels) (2025.2)\n",
      "Requirement already satisfied: threadpoolctl>=3.1.0 in /usr/local/lib/python3.11/dist-packages (from scikit-learn>=1.2.0->imodels) (3.6.0)\n",
      "Requirement already satisfied: charset-normalizer<4,>=2 in /usr/local/lib/python3.11/dist-packages (from requests->imodels) (3.4.2)\n",
      "Requirement already satisfied: idna<4,>=2.5 in /usr/local/lib/python3.11/dist-packages (from requests->imodels) (3.10)\n",
      "Requirement already satisfied: urllib3<3,>=1.21.1 in /usr/local/lib/python3.11/dist-packages (from requests->imodels) (2.4.0)\n",
      "Requirement already satisfied: certifi>=2017.4.17 in /usr/local/lib/python3.11/dist-packages (from requests->imodels) (2025.4.26)\n",
      "Requirement already satisfied: six>=1.5 in /usr/local/lib/python3.11/dist-packages (from python-dateutil>=2.7->matplotlib->imodels) (1.17.0)\n"
     ]
    }
   ],
   "execution_count": null
  },
  {
   "cell_type": "code",
   "source": [
    "from imodels import GreedyTreeRegressor\n",
    "from sklearn.metrics import r2_score, mean_squared_error, mean_absolute_percentage_error, max_error\n",
    "from datetime import datetime\n",
    "\n",
    "params = [\n",
    "  { 'min_samples_leaf': 5, 'max_depth': 5, 'max_features': 'sqrt'}\n",
    "]\n",
    "\n",
    "for p in params:\n",
    "  mdl = GreedyTreeRegressor(min_samples_leaf=p['min_samples_leaf'], max_depth=p['max_depth'], max_features=p['max_features'])\n",
    "  mdl.fit(X_train_scaled, Y_train, feature_names=k_best_feat)\n",
    "\n",
    "  start = datetime.now()\n",
    "  preds = mdl.predict(X_test_scaled)\n",
    "  end = datetime.now()\n",
    "  print(\"Time: \", end - start)\n",
    "  print(\"R2: \", r2_score(Y_test, preds))\n",
    "  print(\"MSE: \", mean_squared_error(Y_test, preds))\n",
    "  print(\"MAPE: \", mean_absolute_percentage_error(Y_test, preds))\n",
    "  print(\"Max error: \", max_error(Y_test, preds))\n",
    "# print(mdl)"
   ],
   "metadata": {
    "id": "ouPeUAZNHz_f",
    "outputId": "9afd3f57-9927-4b6e-cd56-bac09cceb874",
    "trusted": true,
    "execution": {
     "iopub.status.busy": "2025-05-17T17:07:12.210783Z",
     "iopub.execute_input": "2025-05-17T17:07:12.211204Z",
     "iopub.status.idle": "2025-05-17T17:07:12.233023Z",
     "shell.execute_reply.started": "2025-05-17T17:07:12.211174Z",
     "shell.execute_reply": "2025-05-17T17:07:12.231680Z"
    },
    "colab": {
     "base_uri": "https://localhost:8080/"
    }
   },
   "outputs": [
    {
     "output_type": "stream",
     "name": "stdout",
     "text": [
      "Time:  0:00:00.002237\n",
      "R2:  0.8836136903519111\n",
      "MSE:  8.303688551258823\n",
      "MAPE:  0.2576636804976116\n",
      "Max error:  67.38763276618172\n"
     ]
    }
   ],
   "execution_count": null
  },
  {
   "cell_type": "code",
   "source": [
    "from imodels import BoostedRulesRegressor\n",
    "from sklearn.metrics import r2_score, mean_squared_error, mean_absolute_percentage_error, max_error\n",
    "from datetime import datetime\n",
    "\n",
    "dt = DecisionTreeRegressor(random_state=seed, max_depth=4, min_samples_leaf=5)\n",
    "mdl = BoostedRulesRegressor(estimator=dt, n_estimators=1)\n",
    "mdl.fit(X_train_scaled, Y_train, feature_names=k_best_feat)\n",
    "\n",
    "start = datetime.now()\n",
    "preds = mdl.predict(X_test_scaled)\n",
    "end = datetime.now()\n",
    "print(\"Time: \", end - start)\n",
    "print(\"R2: \", r2_score(Y_test, preds))\n",
    "print(\"MSE: \", mean_squared_error(Y_test, preds))\n",
    "print(\"MAPE: \", mean_absolute_percentage_error(Y_test, preds))\n",
    "print(\"Max error: \", max_error(Y_test, preds))\n",
    "print(mdl)"
   ],
   "metadata": {
    "colab": {
     "base_uri": "https://localhost:8080/"
    },
    "id": "N771M6MqQgOA",
    "outputId": "360ee8a9-7851-4db8-e3da-1f1bb388a7e9"
   },
   "execution_count": null,
   "outputs": [
    {
     "output_type": "stream",
     "name": "stdout",
     "text": [
      "Time:  0:00:00.004940\n",
      "R2:  0.9872371326376539\n",
      "MSE:  0.9105785372729073\n",
      "MAPE:  0.1895714441203678\n",
      "Max error:  10.993755454701116\n",
      "BoostedRulesRegressor(estimator=DecisionTreeRegressor(max_depth=4,\n",
      "                                                      min_samples_leaf=5,\n",
      "                                                      random_state=0),\n",
      "                      n_estimators=1)\n"
     ]
    }
   ]
  },
  {
   "cell_type": "markdown",
   "source": [
    "## RIPPER"
   ],
   "metadata": {
    "id": "-TpVpR-XLoo9"
   }
  },
  {
   "cell_type": "code",
   "source": [
    "!pip install wittgenstein"
   ],
   "metadata": {
    "id": "yDMttlUKweaz",
    "trusted": true,
    "execution": {
     "iopub.status.busy": "2025-05-17T17:06:28.874666Z",
     "iopub.status.idle": "2025-05-17T17:06:28.875090Z",
     "shell.execute_reply.started": "2025-05-17T17:06:28.874867Z",
     "shell.execute_reply": "2025-05-17T17:06:28.874884Z"
    }
   },
   "outputs": [],
   "execution_count": null
  },
  {
   "cell_type": "code",
   "source": [
    "import wittgenstein as lw\n",
    "\n",
    "ripper_clf = lw.RIPPER()\n",
    "\n",
    "from sklearn.ensemble import StackingClassifier\n",
    "from sklearn.tree import DecisionTreeClassifier\n",
    "from sklearn.linear_model import LogisticRegression\n",
    "from sklearn.preprocessing import KBinsDiscretizer\n",
    "from sklearn.multiclass import OneVsRestClassifier\n",
    "from sklearn.metrics import accuracy_score, f1_score, confusion_matrix, precision_score, recall_score\n",
    "from datetime import datetime\n",
    "\n",
    "train_indices = np.random.permutation(X_train_k_best.shape[0])\n",
    "test_indices = np.random.permutation(X_test_k_best.shape[0])\n",
    "\n",
    "train_indices = train_indices[:5000]\n",
    "test_indices = test_indices[:1000]\n",
    "\n",
    "X_sample_train = X_train_k_best[train_indices]\n",
    "Y_sample_train = Y_train[train_indices]\n",
    "X_sample_test = X_test_k_best[test_indices]\n",
    "Y_sample_test = Y_test[test_indices]\n",
    "\n",
    "kb = KBinsDiscretizer(n_bins=2, strategy=\"quantile\", encode='ordinal')\n",
    "Y_train_encoded = kb.fit_transform(Y_sample_train.values.reshape(-1, 1))\n",
    "Y_test_encoded = kb.fit_transform(Y_sample_test.values.reshape(-1, 1))\n",
    "\n",
    "ripper_clf.fit(X_sample_train, Y_train_encoded, pos_class=1)  # TODO: add feature names\n",
    "\n",
    "start = datetime.now()\n",
    "preds = ripper_clf.predict(X_sample_test)\n",
    "end = datetime.now()\n",
    "print(\"Time: \", end - start)\n",
    "print(\"Accuracy: \", accuracy_score(Y_test_encoded, preds))\n",
    "print(\"F1 score: \", f1_score(Y_test_encoded, preds))\n",
    "print(\"Recall score:\", recall_score(Y_test_encoded, preds))\n",
    "print(\"Precision score:\", precision_score(Y_test_encoded, preds))\n",
    "print(\"Confusion matrix\", confusion_matrix(Y_test_encoded, preds))\n",
    "print(ripper_clf.out_model())"
   ],
   "metadata": {
    "id": "hmhzgK8zcS52",
    "trusted": true,
    "execution": {
     "iopub.status.busy": "2025-05-17T17:06:28.876134Z",
     "iopub.status.idle": "2025-05-17T17:06:28.876414Z",
     "shell.execute_reply.started": "2025-05-17T17:06:28.876286Z",
     "shell.execute_reply": "2025-05-17T17:06:28.876300Z"
    }
   },
   "outputs": [],
   "execution_count": null
  },
  {
   "cell_type": "code",
   "source": [
    "from sklearn.metrics import roc_curve, auc\n",
    "\n",
    "fpr, tpr, _ = roc_curve(Y_test_encoded, preds)\n",
    "roc_auc = auc(fpr, tpr)\n",
    "\n",
    "plt.figure(figsize=(8, 6))\n",
    "plt.plot(fpr, tpr, color='darkorange', lw=2,\n",
    "         label=f'ROC curve (AUC = {roc_auc:.2f})')\n",
    "plt.plot([0, 1], [0, 1], color='navy', lw=2, linestyle='--')\n",
    "\n",
    "plt.xlim([0.0, 1.0])\n",
    "plt.ylim([0.0, 1.05])\n",
    "plt.xlabel('False Positive Rate')\n",
    "plt.ylabel('True Positive Rate')\n",
    "plt.title('ROC Curve with Cross Validation')\n",
    "plt.legend(loc=\"lower right\")\n",
    "plt.grid(True)\n",
    "plt.show()"
   ],
   "metadata": {
    "id": "ulULGbhUd4Ns",
    "trusted": true,
    "execution": {
     "iopub.status.busy": "2025-05-17T17:06:28.877688Z",
     "iopub.status.idle": "2025-05-17T17:06:28.877961Z",
     "shell.execute_reply.started": "2025-05-17T17:06:28.877836Z",
     "shell.execute_reply": "2025-05-17T17:06:28.877847Z"
    }
   },
   "outputs": [],
   "execution_count": null
  }
 ]
}
