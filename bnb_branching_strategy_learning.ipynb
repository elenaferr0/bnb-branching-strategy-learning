{
 "cells": [
  {
   "cell_type": "code",
   "execution_count": 2,
   "id": "f3b1281added66be",
   "metadata": {
    "ExecuteTime": {
     "end_time": "2025-05-08T20:46:47.581990Z",
     "start_time": "2025-05-08T20:46:47.578345Z"
    }
   },
   "outputs": [],
   "source": [
    "import pandas as pd\n",
    "from sklearn.ensemble import ExtraTreesRegressor\n",
    "from sklearn.model_selection import cross_val_score\n",
    "from sklearn.model_selection import GridSearchCV\n",
    "\n",
    "seed = 42"
   ]
  },
  {
   "cell_type": "code",
   "execution_count": 10,
   "id": "24cc27be0d826302",
   "metadata": {
    "ExecuteTime": {
     "end_time": "2025-05-08T20:46:49.041256Z",
     "start_time": "2025-05-08T20:46:49.020275Z"
    }
   },
   "outputs": [
    {
     "name": "stdout",
     "output_type": "stream",
     "text": [
      "28287\n"
     ]
    },
    {
     "name": "stderr",
     "output_type": "stream",
     "text": [
      "/var/folders/hk/khnvb8jj7f5czvgthvjj_dlw0000gn/T/ipykernel_52981/3744045235.py:14: FutureWarning: The behavior of DataFrame concatenation with empty or all-NA entries is deprecated. In a future version, this will no longer exclude empty or all-NA columns when determining the result dtypes. To retain the old behavior, exclude the relevant entries before the concat operation.\n",
      "  test = pd.concat([BP_test, SC_test], ignore_index=True)\n"
     ]
    }
   ],
   "source": [
    "BP_train = pd.read_pickle(\"dataset/BP_train_solution.pkl\")\n",
    "BP_test = pd.read_pickle(\"dataset/BP_test_solution.pkl\")\n",
    "SC_train = pd.read_pickle(\"dataset/SC_train_solution.pkl\")\n",
    "# SC_test = pd.read_pickle(\"dataset/SC_test_solution.pkl\")\n",
    "SC_test = pd.DataFrame(columns=BP_test.columns)\n",
    "\n",
    "BP_train = BP_train.sample(frac=1, random_state=seed)\n",
    "print(len(BP_train))\n",
    "BP_test = BP_test.sample(frac=1, random_state=seed)\n",
    "SC_train = SC_train.sample(frac=1, random_state=seed)\n",
    "SC_test = SC_test.sample(frac=1, random_state=seed)\n",
    "\n",
    "train = pd.concat([BP_train, SC_train], ignore_index=True)\n",
    "test = pd.concat([BP_test, SC_test], ignore_index=True)\n",
    "\n",
    "X_train = train.drop(columns=['score'])\n",
    "Y_train = train['score']\n",
    "\n",
    "X_test = test.drop(columns=['score'])\n",
    "Y_test = test['score']"
   ]
  },
  {
   "cell_type": "code",
   "execution_count": 9,
   "id": "da41578a25ff50f6",
   "metadata": {
    "ExecuteTime": {
     "start_time": "2025-05-08T20:49:36.591789Z"
    },
    "jupyter": {
     "is_executing": true
    }
   },
   "outputs": [
    {
     "name": "stdout",
     "output_type": "stream",
     "text": [
      "R^2 scores: [0.999999   0.99999937 0.99815599 0.9997777  0.99977901]\n"
     ]
    }
   ],
   "source": [
    "params = {\n",
    "    \"n_estimators\": [20, 50, 100],\n",
    "    \"min_samples_leaf\": [5, 10, 20, 30],\n",
    "    \"max_depth\": [5, 10, 20],\n",
    "}\n",
    "\n",
    "et = ExtraTreesRegressor(random_state=seed)\n",
    "# gs = GridSearchCV(et, params)\n",
    "\n",
    "# gs.fit(X_train, Y_train)\n",
    "# print(sorted(gs.cv_results_))\n",
    "\n",
    "# et.fit(X_train, Y_train)\n",
    "\n",
    "# y_pred = gs.predict(X_test)\n",
    "# df = pd.DataFrame({'y_test': Y_test, 'y_pred': y_pred})\n",
    "scores = cross_val_score(et, X_train, Y_train, cv=5, scoring='r2')\n",
    "print(\"R^2 scores:\", scores)"
   ]
  }
 ],
 "metadata": {
  "kernelspec": {
   "display_name": ".venv",
   "language": "python",
   "name": "python3"
  },
  "language_info": {
   "codemirror_mode": {
    "name": "ipython",
    "version": 3
   },
   "file_extension": ".py",
   "mimetype": "text/x-python",
   "name": "python",
   "nbconvert_exporter": "python",
   "pygments_lexer": "ipython3",
   "version": "3.9.6"
  }
 },
 "nbformat": 4,
 "nbformat_minor": 5
}
