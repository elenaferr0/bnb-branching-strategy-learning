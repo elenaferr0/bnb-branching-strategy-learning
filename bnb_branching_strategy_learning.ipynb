{
 "cells": [
  {
   "metadata": {
    "ExecuteTime": {
     "end_time": "2025-05-05T17:00:44.491436Z",
     "start_time": "2025-05-05T17:00:44.457695Z"
    }
   },
   "cell_type": "code",
   "source": [
    "\n",
    "from dataset import generate_datasets\n",
    "\n",
    "%load_ext autoreload\n",
    "%autoreload 2\n"
   ],
   "id": "f3b1281added66be",
   "outputs": [
    {
     "name": "stdout",
     "output_type": "stream",
     "text": [
      "The autoreload extension is already loaded. To reload it, use:\n",
      "  %reload_ext autoreload\n"
     ]
    }
   ],
   "execution_count": 27
  },
  {
   "metadata": {
    "ExecuteTime": {
     "end_time": "2025-05-05T18:47:34.287508Z",
     "start_time": "2025-05-05T18:47:07.789958Z"
    }
   },
   "cell_type": "code",
   "source": [
    "ds = generate_datasets(1, 1, 1, 1)['BP']\n",
    "problem = ds[0]\n",
    "problem.solve()"
   ],
   "id": "13612b98b2b725ec",
   "outputs": [
    {
     "ename": "KeyboardInterrupt",
     "evalue": "",
     "output_type": "error",
     "traceback": [
      "\u001B[0;31m---------------------------------------------------------------------------\u001B[0m",
      "\u001B[0;31mKeyboardInterrupt\u001B[0m                         Traceback (most recent call last)",
      "Cell \u001B[0;32mIn[29], line 3\u001B[0m\n\u001B[1;32m      1\u001B[0m ds \u001B[38;5;241m=\u001B[39m generate_datasets(\u001B[38;5;241m1\u001B[39m, \u001B[38;5;241m1\u001B[39m, \u001B[38;5;241m1\u001B[39m, \u001B[38;5;241m1\u001B[39m)[\u001B[38;5;124m'\u001B[39m\u001B[38;5;124mBP\u001B[39m\u001B[38;5;124m'\u001B[39m]\n\u001B[1;32m      2\u001B[0m problem \u001B[38;5;241m=\u001B[39m ds[\u001B[38;5;241m0\u001B[39m]\n\u001B[0;32m----> 3\u001B[0m \u001B[43mproblem\u001B[49m\u001B[38;5;241;43m.\u001B[39;49m\u001B[43msolve\u001B[49m\u001B[43m(\u001B[49m\u001B[43m)\u001B[49m\n",
      "File \u001B[0;32m~/Documents/projects/bnb-branching-strategy-learning/dataset/solver/problem.py:49\u001B[0m, in \u001B[0;36mProblem.solve\u001B[0;34m(self)\u001B[0m\n\u001B[1;32m     47\u001B[0m sense \u001B[38;5;241m=\u001B[39m \u001B[38;5;28mself\u001B[39m\u001B[38;5;241m.\u001B[39mtypes[i]\n\u001B[1;32m     48\u001B[0m rhs \u001B[38;5;241m=\u001B[39m \u001B[38;5;28mself\u001B[39m\u001B[38;5;241m.\u001B[39mb[i]\n\u001B[0;32m---> 49\u001B[0m lhs \u001B[38;5;241m=\u001B[39m \u001B[43mmodel\u001B[49m\u001B[38;5;241;43m.\u001B[39;49m\u001B[43msum\u001B[49m\u001B[43m(\u001B[49m\u001B[43mrow\u001B[49m\u001B[43m[\u001B[49m\u001B[43mj\u001B[49m\u001B[43m]\u001B[49m\u001B[43m \u001B[49m\u001B[38;5;241;43m*\u001B[39;49m\u001B[43m \u001B[49m\u001B[43mx\u001B[49m\u001B[43m[\u001B[49m\u001B[43mj\u001B[49m\u001B[43m]\u001B[49m\u001B[43m \u001B[49m\u001B[38;5;28;43;01mfor\u001B[39;49;00m\u001B[43m \u001B[49m\u001B[43mj\u001B[49m\u001B[43m \u001B[49m\u001B[38;5;129;43;01min\u001B[39;49;00m\u001B[43m \u001B[49m\u001B[38;5;28;43mrange\u001B[39;49m\u001B[43m(\u001B[49m\u001B[43mn_vars\u001B[49m\u001B[43m)\u001B[49m\u001B[43m)\u001B[49m\n\u001B[1;32m     50\u001B[0m \u001B[38;5;28;01mif\u001B[39;00m sense \u001B[38;5;241m==\u001B[39m \u001B[38;5;124m'\u001B[39m\u001B[38;5;124mL\u001B[39m\u001B[38;5;124m'\u001B[39m:\n\u001B[1;32m     51\u001B[0m     model\u001B[38;5;241m.\u001B[39madd_constraint(lhs \u001B[38;5;241m<\u001B[39m\u001B[38;5;241m=\u001B[39m rhs)\n",
      "File \u001B[0;32m~/Documents/projects/bnb-branching-strategy-learning/.venv/lib/python3.8/site-packages/docplex/mp/model.py:3342\u001B[0m, in \u001B[0;36mModel.sum\u001B[0;34m(self, args)\u001B[0m\n\u001B[1;32m   3329\u001B[0m \u001B[38;5;28;01mdef\u001B[39;00m\u001B[38;5;250m \u001B[39m\u001B[38;5;21msum\u001B[39m(\u001B[38;5;28mself\u001B[39m, args):\n\u001B[1;32m   3330\u001B[0m \u001B[38;5;250m    \u001B[39m\u001B[38;5;124;03m\"\"\" Creates an expression summing over an iterable over expressions or variables.\u001B[39;00m\n\u001B[1;32m   3331\u001B[0m \u001B[38;5;124;03m    This method expects an iterable over any type of expression: quadrayic expression,\u001B[39;00m\n\u001B[1;32m   3332\u001B[0m \u001B[38;5;124;03m    linear expression, variables, constants.\u001B[39;00m\n\u001B[0;32m   (...)\u001B[0m\n\u001B[1;32m   3340\u001B[0m \u001B[38;5;124;03m    :return: A Docplex expression.\u001B[39;00m\n\u001B[1;32m   3341\u001B[0m \u001B[38;5;124;03m    \"\"\"\u001B[39;00m\n\u001B[0;32m-> 3342\u001B[0m     \u001B[38;5;28;01mreturn\u001B[39;00m \u001B[38;5;28;43mself\u001B[39;49m\u001B[38;5;241;43m.\u001B[39;49m\u001B[43m_aggregator\u001B[49m\u001B[38;5;241;43m.\u001B[39;49m\u001B[43msum\u001B[49m\u001B[43m(\u001B[49m\u001B[43margs\u001B[49m\u001B[43m)\u001B[49m\n",
      "File \u001B[0;32m~/Documents/projects/bnb-branching-strategy-learning/.venv/lib/python3.8/site-packages/docplex/mp/aggregator.py:198\u001B[0m, in \u001B[0;36mModelAggregator.sum\u001B[0;34m(self, sum_args)\u001B[0m\n\u001B[1;32m    196\u001B[0m \u001B[38;5;28;01mdef\u001B[39;00m\u001B[38;5;250m \u001B[39m\u001B[38;5;21msum\u001B[39m(\u001B[38;5;28mself\u001B[39m, sum_args):\n\u001B[1;32m    197\u001B[0m     \u001B[38;5;28;01mif\u001B[39;00m is_iterator(sum_args):\n\u001B[0;32m--> 198\u001B[0m         sum_res \u001B[38;5;241m=\u001B[39m \u001B[38;5;28;43mself\u001B[39;49m\u001B[38;5;241;43m.\u001B[39;49m\u001B[43m_sum_with_iter\u001B[49m\u001B[43m(\u001B[49m\u001B[43msum_args\u001B[49m\u001B[43m)\u001B[49m\n\u001B[1;32m    199\u001B[0m     \u001B[38;5;28;01melif\u001B[39;00m is_numpy_ndarray(sum_args):\n\u001B[1;32m    200\u001B[0m         sum_res \u001B[38;5;241m=\u001B[39m \u001B[38;5;28mself\u001B[39m\u001B[38;5;241m.\u001B[39m_sum_with_iter(sum_args\u001B[38;5;241m.\u001B[39mflat)\n",
      "File \u001B[0;32m~/Documents/projects/bnb-branching-strategy-learning/.venv/lib/python3.8/site-packages/docplex/mp/aggregator.py:221\u001B[0m, in \u001B[0;36mModelAggregator._sum_with_iter\u001B[0;34m(self, args)\u001B[0m\n\u001B[1;32m    219\u001B[0m qcc \u001B[38;5;241m=\u001B[39m \u001B[38;5;28;01mNone\u001B[39;00m\n\u001B[1;32m    220\u001B[0m number_validation_fn \u001B[38;5;241m=\u001B[39m checker\u001B[38;5;241m.\u001B[39mget_number_validation_fn()\n\u001B[0;32m--> 221\u001B[0m \u001B[38;5;28;01mfor\u001B[39;00m item \u001B[38;5;129;01min\u001B[39;00m args:\n\u001B[1;32m    222\u001B[0m     \u001B[38;5;28;01mif\u001B[39;00m \u001B[38;5;28misinstance\u001B[39m(item, LinearOperand):\n\u001B[1;32m    223\u001B[0m         \u001B[38;5;28;01mfor\u001B[39;00m lv, lk \u001B[38;5;129;01min\u001B[39;00m item\u001B[38;5;241m.\u001B[39miter_terms():\n",
      "File \u001B[0;32m~/Documents/projects/bnb-branching-strategy-learning/dataset/solver/problem.py:49\u001B[0m, in \u001B[0;36m<genexpr>\u001B[0;34m(.0)\u001B[0m\n\u001B[1;32m     47\u001B[0m sense \u001B[38;5;241m=\u001B[39m \u001B[38;5;28mself\u001B[39m\u001B[38;5;241m.\u001B[39mtypes[i]\n\u001B[1;32m     48\u001B[0m rhs \u001B[38;5;241m=\u001B[39m \u001B[38;5;28mself\u001B[39m\u001B[38;5;241m.\u001B[39mb[i]\n\u001B[0;32m---> 49\u001B[0m lhs \u001B[38;5;241m=\u001B[39m model\u001B[38;5;241m.\u001B[39msum(\u001B[43mrow\u001B[49m\u001B[43m[\u001B[49m\u001B[43mj\u001B[49m\u001B[43m]\u001B[49m\u001B[43m \u001B[49m\u001B[38;5;241;43m*\u001B[39;49m\u001B[43m \u001B[49m\u001B[43mx\u001B[49m\u001B[43m[\u001B[49m\u001B[43mj\u001B[49m\u001B[43m]\u001B[49m \u001B[38;5;28;01mfor\u001B[39;00m j \u001B[38;5;129;01min\u001B[39;00m \u001B[38;5;28mrange\u001B[39m(n_vars))\n\u001B[1;32m     50\u001B[0m \u001B[38;5;28;01mif\u001B[39;00m sense \u001B[38;5;241m==\u001B[39m \u001B[38;5;124m'\u001B[39m\u001B[38;5;124mL\u001B[39m\u001B[38;5;124m'\u001B[39m:\n\u001B[1;32m     51\u001B[0m     model\u001B[38;5;241m.\u001B[39madd_constraint(lhs \u001B[38;5;241m<\u001B[39m\u001B[38;5;241m=\u001B[39m rhs)\n",
      "File \u001B[0;32m~/Documents/projects/bnb-branching-strategy-learning/.venv/lib/python3.8/site-packages/docplex/mp/dvar.py:280\u001B[0m, in \u001B[0;36mVar.__rmul__\u001B[0;34m(self, e)\u001B[0m\n\u001B[1;32m    277\u001B[0m     \u001B[38;5;28;01melse\u001B[39;00m:\n\u001B[1;32m    278\u001B[0m         \u001B[38;5;28;01mreturn\u001B[39;00m \u001B[38;5;28mself\u001B[39m\u001B[38;5;241m.\u001B[39mto_linear_expr()\u001B[38;5;241m.\u001B[39mmultiply(e)\n\u001B[0;32m--> 280\u001B[0m \u001B[38;5;28;01mdef\u001B[39;00m\u001B[38;5;250m \u001B[39m\u001B[38;5;21m__rmul__\u001B[39m(\u001B[38;5;28mself\u001B[39m, e):\n\u001B[1;32m    281\u001B[0m     \u001B[38;5;28;01mreturn\u001B[39;00m \u001B[38;5;28mself\u001B[39m\u001B[38;5;241m.\u001B[39mtimes(e)\n\u001B[1;32m    283\u001B[0m \u001B[38;5;28;01mdef\u001B[39;00m\u001B[38;5;250m \u001B[39m\u001B[38;5;21m__add__\u001B[39m(\u001B[38;5;28mself\u001B[39m, e):\n",
      "File \u001B[0;32m~/.local/share/JetBrains/Toolbox/apps/pycharm/plugins/python-ce/helpers/pydev/_pydevd_bundle/pydevd_trace_dispatch_regular.py:391\u001B[0m, in \u001B[0;36mThreadTracer.__call__\u001B[0;34m(self, frame, event, arg)\u001B[0m\n\u001B[1;32m    379\u001B[0m \u001B[38;5;66;03m# IFDEF CYTHON\u001B[39;00m\n\u001B[1;32m    380\u001B[0m \u001B[38;5;66;03m# cdef str filename;\u001B[39;00m\n\u001B[1;32m    381\u001B[0m \u001B[38;5;66;03m# cdef str base;\u001B[39;00m\n\u001B[0;32m   (...)\u001B[0m\n\u001B[1;32m    388\u001B[0m \u001B[38;5;66;03m# ENDIF\u001B[39;00m\n\u001B[1;32m    389\u001B[0m \u001B[38;5;66;03m# print('ENTER: trace_dispatch', frame.f_code.co_filename, frame.f_lineno, event, frame.f_code.co_name)\u001B[39;00m\n\u001B[1;32m    390\u001B[0m py_db, t, additional_info, cache_skips, frame_skips_cache \u001B[38;5;241m=\u001B[39m \u001B[38;5;28mself\u001B[39m\u001B[38;5;241m.\u001B[39m_args\n\u001B[0;32m--> 391\u001B[0m pydev_step_cmd \u001B[38;5;241m=\u001B[39m \u001B[43madditional_info\u001B[49m\u001B[38;5;241;43m.\u001B[39;49m\u001B[43mpydev_step_cmd\u001B[49m\n\u001B[1;32m    392\u001B[0m is_stepping \u001B[38;5;241m=\u001B[39m pydev_step_cmd \u001B[38;5;241m!=\u001B[39m \u001B[38;5;241m-\u001B[39m\u001B[38;5;241m1\u001B[39m\n\u001B[1;32m    394\u001B[0m \u001B[38;5;28;01mtry\u001B[39;00m:\n",
      "\u001B[0;31mKeyboardInterrupt\u001B[0m: "
     ]
    }
   ],
   "execution_count": 29
  }
 ],
 "metadata": {
  "kernelspec": {
   "display_name": "Python 3",
   "language": "python",
   "name": "python3"
  },
  "language_info": {
   "codemirror_mode": {
    "name": "ipython",
    "version": 2
   },
   "file_extension": ".py",
   "mimetype": "text/x-python",
   "name": "python",
   "nbconvert_exporter": "python",
   "pygments_lexer": "ipython2",
   "version": "2.7.6"
  }
 },
 "nbformat": 4,
 "nbformat_minor": 5
}
