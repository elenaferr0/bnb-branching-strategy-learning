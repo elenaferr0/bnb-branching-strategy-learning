{
 "cells": [
  {
   "cell_type": "code",
   "metadata": {
    "id": "53aeb4cc16ed9874",
    "ExecuteTime": {
     "end_time": "2025-05-26T13:53:15.933656Z",
     "start_time": "2025-05-26T13:53:15.746566Z"
    }
   },
   "source": [
    "from http.client import HTTPException\n",
    "\n",
    "import pandas as pd\n",
    "import numpy as np\n",
    "import warnings\n",
    "\n",
    "from numpy.testing.overrides import allows_array_ufunc_override\n",
    "from sklearn.compose import TransformedTargetRegressor\n",
    "from sklearn.impute import SimpleImputer\n",
    "\n",
    "warnings.filterwarnings(\"ignore\", category=DeprecationWarning)\n",
    "warnings.filterwarnings(\"ignore\", category=FutureWarning)\n",
    "\n",
    "seed = 0"
   ],
   "outputs": [],
   "execution_count": 5
  },
  {
   "cell_type": "code",
   "metadata": {
    "colab": {
     "base_uri": "https://localhost:8080/"
    },
    "id": "aZicDO8qOOKc",
    "outputId": "565d711e-2f01-46f2-9ead-7996d6b791fd",
    "ExecuteTime": {
     "end_time": "2025-05-26T13:53:16.875821Z",
     "start_time": "2025-05-26T13:53:15.950522Z"
    }
   },
   "source": [
    "!pip install pyscipopt seaborn"
   ],
   "outputs": [
    {
     "name": "stdout",
     "output_type": "stream",
     "text": [
      "Requirement already satisfied: pyscipopt in ./.venv/lib64/python3.9/site-packages (5.5.0)\r\n",
      "Requirement already satisfied: seaborn in ./.venv/lib/python3.9/site-packages (0.13.2)\r\n",
      "Requirement already satisfied: numpy>=1.16.0 in ./.venv/lib64/python3.9/site-packages (from pyscipopt) (2.0.2)\r\n",
      "Requirement already satisfied: pandas>=1.2 in ./.venv/lib64/python3.9/site-packages (from seaborn) (2.2.3)\r\n",
      "Requirement already satisfied: matplotlib!=3.6.1,>=3.4 in ./.venv/lib64/python3.9/site-packages (from seaborn) (3.9.4)\r\n",
      "Requirement already satisfied: contourpy>=1.0.1 in ./.venv/lib64/python3.9/site-packages (from matplotlib!=3.6.1,>=3.4->seaborn) (1.3.0)\r\n",
      "Requirement already satisfied: cycler>=0.10 in ./.venv/lib/python3.9/site-packages (from matplotlib!=3.6.1,>=3.4->seaborn) (0.12.1)\r\n",
      "Requirement already satisfied: fonttools>=4.22.0 in ./.venv/lib64/python3.9/site-packages (from matplotlib!=3.6.1,>=3.4->seaborn) (4.57.0)\r\n",
      "Requirement already satisfied: kiwisolver>=1.3.1 in ./.venv/lib64/python3.9/site-packages (from matplotlib!=3.6.1,>=3.4->seaborn) (1.4.7)\r\n",
      "Requirement already satisfied: packaging>=20.0 in ./.venv/lib/python3.9/site-packages (from matplotlib!=3.6.1,>=3.4->seaborn) (25.0)\r\n",
      "Requirement already satisfied: pillow>=8 in ./.venv/lib64/python3.9/site-packages (from matplotlib!=3.6.1,>=3.4->seaborn) (11.2.1)\r\n",
      "Requirement already satisfied: pyparsing>=2.3.1 in ./.venv/lib/python3.9/site-packages (from matplotlib!=3.6.1,>=3.4->seaborn) (3.2.3)\r\n",
      "Requirement already satisfied: python-dateutil>=2.7 in ./.venv/lib/python3.9/site-packages (from matplotlib!=3.6.1,>=3.4->seaborn) (2.9.0.post0)\r\n",
      "Requirement already satisfied: importlib-resources>=3.2.0 in ./.venv/lib/python3.9/site-packages (from matplotlib!=3.6.1,>=3.4->seaborn) (6.5.2)\r\n",
      "Requirement already satisfied: pytz>=2020.1 in ./.venv/lib/python3.9/site-packages (from pandas>=1.2->seaborn) (2025.2)\r\n",
      "Requirement already satisfied: tzdata>=2022.7 in ./.venv/lib/python3.9/site-packages (from pandas>=1.2->seaborn) (2025.2)\r\n",
      "Requirement already satisfied: zipp>=3.1.0 in ./.venv/lib/python3.9/site-packages (from importlib-resources>=3.2.0->matplotlib!=3.6.1,>=3.4->seaborn) (3.21.0)\r\n",
      "Requirement already satisfied: six>=1.5 in ./.venv/lib/python3.9/site-packages (from python-dateutil>=2.7->matplotlib!=3.6.1,>=3.4->seaborn) (1.17.0)\r\n",
      "\r\n",
      "\u001B[1m[\u001B[0m\u001B[34;49mnotice\u001B[0m\u001B[1;39;49m]\u001B[0m\u001B[39;49m A new release of pip is available: \u001B[0m\u001B[31;49m25.0.1\u001B[0m\u001B[39;49m -> \u001B[0m\u001B[32;49m25.1.1\u001B[0m\r\n",
      "\u001B[1m[\u001B[0m\u001B[34;49mnotice\u001B[0m\u001B[1;39;49m]\u001B[0m\u001B[39;49m To update, run: \u001B[0m\u001B[32;49mpip install --upgrade pip\u001B[0m\r\n"
     ]
    }
   ],
   "execution_count": 6
  },
  {
   "cell_type": "code",
   "metadata": {
    "id": "NSpxcXSuOOKd",
    "ExecuteTime": {
     "end_time": "2025-05-26T13:53:16.919843Z",
     "start_time": "2025-05-26T13:53:16.898183Z"
    }
   },
   "source": [
    "from math import ceil, floor\n",
    "import numpy as np\n",
    "\n",
    "\n",
    "class Params:\n",
    "    def __init__(self, var_idx: int, x_i: float, node_depth: int, nr_variables: int, curr_obj: float,\n",
    "                 n_branches_by_var: int, n_nodes: int, downfrac: float, allowed_increase: float,\n",
    "                 allowed_decrease: float,\n",
    "                 upfrac: float, objective_increases: list, nr_fixed_variables: int, root_obj_val: float,\n",
    "                 up_pseudo_cost: float, down_pseudo_cost: float, sense: str):\n",
    "        self.var_idx = var_idx\n",
    "        self.x_i = x_i\n",
    "        self.node_depth = node_depth\n",
    "        self.nr_variables = nr_variables\n",
    "        self.nr_fixed_variables = nr_fixed_variables\n",
    "        self.curr_obj = curr_obj\n",
    "        self.n_branches_by_var = n_branches_by_var\n",
    "        self.n_nodes = n_nodes\n",
    "        self.down_frac = downfrac\n",
    "        self.up_frac = upfrac\n",
    "        self.allowed_decrease = allowed_decrease\n",
    "        self.allowed_increase = allowed_increase\n",
    "        self.objective_increases = objective_increases\n",
    "        self.root_obj_val = root_obj_val\n",
    "        self.up_pseudo_cost = up_pseudo_cost\n",
    "        self.down_pseudo_cost = down_pseudo_cost\n",
    "        self.sense = sense\n",
    "\n",
    "\n",
    "def __static_feat(i: int, A: np.ndarray, b: np.ndarray, c: np.ndarray):\n",
    "    features = {}\n",
    "    # 1st class\n",
    "    # sign{c_i}\n",
    "    c_i = c[i]\n",
    "    features['sign'] = np.sign(c_i)\n",
    "\n",
    "    # |c_i| / sum_{k: c_k >= 0} |c_k|\n",
    "    pos_sum = np.sum(np.abs(c[c >= 0]))\n",
    "    # |c_i| / sum_{k: c_k < 0} |c_k|\n",
    "    neg_sum = np.sum(np.abs(c[c < 0]))\n",
    "\n",
    "    features['c_i/sum_pos'] = abs(c_i) / pos_sum if pos_sum != 0 else 0\n",
    "    features['c_i/sum_neg'] = abs(c_i) / neg_sum if neg_sum != 0 else 0\n",
    "\n",
    "    # 2nd class\n",
    "    # m_j^{+1}(i) = A_{ji}/|b_j|, forall j s.t. b_j >= 0\n",
    "    M1_pos = []\n",
    "    # m_j^{-1}(i) = A_{ji}/|b_j|, forall j s.t. b_j < 0\n",
    "    M1_neg = []\n",
    "    for j in range(A.shape[0]):\n",
    "        a_ji = A[j, i]\n",
    "        if b[j] >= 0:\n",
    "            M1_pos.append(a_ji / abs(b[j]) if b[j] != 0 else 0)\n",
    "        else:\n",
    "            M1_neg.append(a_ji / abs(b[j]))\n",
    "\n",
    "    features['M1_pos_min'] = np.min(M1_pos) if M1_pos else 0\n",
    "    features['M1_pos_max'] = np.max(M1_pos) if M1_pos else 0\n",
    "    features['M1_neg_min'] = np.min(M1_neg) if M1_neg else 0\n",
    "    features['M1_neg_max'] = np.max(M1_neg) if M1_neg else 0\n",
    "\n",
    "    # m_j^{2+} (i) = |c_i|/|A_{ji}| forall j s.t. c_i >= 0\n",
    "    M2_pos = []\n",
    "    # m_j^{2-} (i) = |c_i|/|A_{ji}| forall j s.t. c_i < 0\n",
    "    M2_neg = []\n",
    "    for j in range(A.shape[0]):\n",
    "        if c[i] >= 0:\n",
    "            M2_pos.append(abs(c_i) / abs(A[j, i]) if A[j, i] != 0 else 0)\n",
    "        else:\n",
    "            M2_neg.append(abs(c_i) / abs(A[j, i]) if A[j, i] != 0 else 0)\n",
    "\n",
    "    features['M2_pos_min'] = np.min(M2_pos) if M2_pos else 0\n",
    "    features['M2_pos_max'] = np.max(M2_pos) if M2_pos else 0\n",
    "    features['M2_neg_min'] = np.min(M2_neg) if M2_neg else 0\n",
    "    features['M2_neg_max'] = np.max(M2_neg) if M2_neg else 0\n",
    "\n",
    "    M3_pp = []\n",
    "    M3_pm = []\n",
    "    M3_mp = []\n",
    "    M3_mm = []\n",
    "\n",
    "    for j in range(A.shape[0]):\n",
    "        pos_sum = np.sum(np.abs(A[j, A[j] >= 0]))\n",
    "        neg_sum = np.sum(np.abs(A[j, A[j] < 0]))\n",
    "\n",
    "        a_ji = abs(A[j, i])\n",
    "        if A[j, i] >= 0:\n",
    "            M3_pp.append(a_ji / pos_sum if pos_sum != 0 else 0)\n",
    "            M3_pm.append(a_ji / neg_sum if neg_sum != 0 else 0)\n",
    "        else:\n",
    "            M3_mp.append(a_ji / pos_sum if pos_sum != 0 else 0)\n",
    "            M3_mm.append(a_ji / neg_sum if neg_sum != 0 else 0)\n",
    "\n",
    "    features['M3_pp_min'] = np.min(M3_pp) if M3_pp else 0\n",
    "    features['M3_pp_max'] = np.max(M3_pp) if M3_pp else 0\n",
    "    features['M3_pm_min'] = np.min(M3_pm) if M3_pm else 0\n",
    "    features['M3_pm_max'] = np.max(M3_pm) if M3_pm else 0\n",
    "    features['M3_mp_min'] = np.min(M3_mp) if M3_mp else 0\n",
    "    features['M3_mp_max'] = np.max(M3_mp) if M3_mp else 0\n",
    "    features['M3_mm_min'] = np.min(M3_mm) if M3_mm else 0\n",
    "    features['M3_mm_max'] = np.max(M3_mm) if M3_mm else 0\n",
    "\n",
    "    return features\n",
    "\n",
    "\n",
    "def __dynamic_feat(params: Params, c: np.ndarray):\n",
    "    features = {}\n",
    "    features['depth'] = params.node_depth / params.nr_variables\n",
    "    features['fixed_vars'] = params.nr_fixed_variables / params.nr_variables\n",
    "\n",
    "    features['min_xi'] = min(params.x_i - floor(params.x_i), ceil(params.x_i) - params.x_i)\n",
    "\n",
    "    # sensitivity ranges\n",
    "    c_i = c[params.var_idx]\n",
    "    features['sign_allowed_decrease'] = np.sign(params.allowed_decrease)\n",
    "    features['sign_allowed_increase'] = np.sign(params.allowed_increase)\n",
    "\n",
    "    normalized_decrease = np.abs((c_i - params.allowed_decrease) / c_i)\n",
    "    normalized_increase = np.abs((params.allowed_increase - c_i) / c_i)\n",
    "\n",
    "    features['log_allowed_increase'] = np.log(normalized_increase) if normalized_increase != 0 else 0\n",
    "    features['log_allowed_decrease'] = np.log(normalized_decrease) if normalized_decrease != 0 else 0\n",
    "\n",
    "    features['down_frac'] = params.down_frac\n",
    "    features['up_frac'] = params.up_frac\n",
    "\n",
    "    return features\n",
    "\n",
    "\n",
    "def __dynamic_opt_feat(params: Params):\n",
    "    features = {}\n",
    "    features['branching_ratio'] = params.n_branches_by_var / params.n_nodes\n",
    "\n",
    "    features['min_obj_increase'] = np.min(params.objective_increases) if params.objective_increases else 0\n",
    "    features['max_obj_increase'] = np.max(params.objective_increases) if params.objective_increases else 0\n",
    "    features['avg_obj_increase'] = np.mean(params.objective_increases) if params.objective_increases else 0\n",
    "    features['std_obj_increase'] = np.std(params.objective_increases) if params.objective_increases else 0\n",
    "\n",
    "    # quartiles\n",
    "    features['quartile_25_obj_increase'] = np.percentile(params.objective_increases,\n",
    "                                                         25) if params.objective_increases else 0\n",
    "    features['quartile_50_obj_increase'] = np.percentile(params.objective_increases,\n",
    "                                                         50) if params.objective_increases else 0\n",
    "    features['quartile_75_obj_increase'] = np.percentile(params.objective_increases,\n",
    "                                                         75) if params.objective_increases else 0\n",
    "\n",
    "    # divide all by curr_obj\n",
    "    features['min_obj_increase'] /= params.curr_obj if params.curr_obj != 0 else 0\n",
    "    features['max_obj_increase'] /= params.curr_obj if params.curr_obj != 0 else 0\n",
    "    features['avg_obj_increase'] /= params.curr_obj if params.curr_obj != 0 else 0\n",
    "    features['std_obj_increase'] /= params.curr_obj if params.curr_obj != 0 else 0\n",
    "    features['quartile_25_obj_increase'] /= params.curr_obj if params.curr_obj != 0 else 0\n",
    "    features['quartile_50_obj_increase'] /= params.curr_obj if params.curr_obj != 0 else 0\n",
    "    features['quartile_75_obj_increase'] /= params.curr_obj if params.curr_obj != 0 else 0\n",
    "\n",
    "    features['up_pseudocost'] = params.up_pseudo_cost / params.root_obj_val if params.root_obj_val != 0 else 0\n",
    "    features['down_pseudocost'] = params.down_pseudo_cost / params.root_obj_val if params.root_obj_val != 0 else 0\n",
    "    return features\n",
    "\n",
    "\n",
    "def compute_features(params: Params, A: np.ndarray, b: np.ndarray, c: np.ndarray):\n",
    "    static = __static_feat(params.var_idx, A, b, c)\n",
    "    dynamic = __dynamic_feat(params, c)\n",
    "    dynamic_opt = __dynamic_opt_feat(params)\n",
    "\n",
    "    return {**static, **dynamic, **dynamic_opt}\n"
   ],
   "outputs": [],
   "execution_count": 7
  },
  {
   "cell_type": "code",
   "metadata": {
    "colab": {
     "base_uri": "https://localhost:8080/",
     "height": 386
    },
    "id": "Ib8Sg8NshGwo",
    "outputId": "fb05ca69-37a6-4306-fe3b-b8f239d36b79",
    "ExecuteTime": {
     "end_time": "2025-05-26T13:53:17.004263Z",
     "start_time": "2025-05-26T13:53:16.953217Z"
    }
   },
   "source": [
    "from pyscipopt import Model, Branchrule, Variable\n",
    "from pyscipopt import SCIP_RESULT\n",
    "import numpy as np\n",
    "from collections import defaultdict\n",
    "import pandas as pd\n",
    "\n",
    "\n",
    "class StrongBranchingRule(Branchrule):\n",
    "    def __init__(self, model, A, b, c, logged, *args, **kwargs):\n",
    "        super().__init__(*args, **kwargs)\n",
    "        self.model: Model = model\n",
    "        self.dataset = pd.DataFrame()\n",
    "        self.A = A\n",
    "        self.b = b\n",
    "        self.c = c\n",
    "        self.logged = logged\n",
    "        self.n_branches_by_var = defaultdict(int)\n",
    "        self.objective_increases_by_var = defaultdict(list)\n",
    "        self.down_pseudo_costs_history = defaultdict(float)\n",
    "        self.up_pseudo_costs_history = defaultdict(float)\n",
    "        self.root_obj_val = model.infinity() if model.getObjectiveSense() == \"minimize\" else -model.infinity()\n",
    "\n",
    "    def branchexeclp(self, allowaddcons):\n",
    "        branch_cands, branch_cand_sols, branch_cand_fracs, ncands, npriocands, nimplcands = self.model.getLPBranchCands()\n",
    "\n",
    "        # Initialise scores for each variable\n",
    "        scores = [-self.model.infinity() for _ in range(npriocands)]\n",
    "        down_bounds = [None for _ in range(npriocands)]\n",
    "        up_bounds = [None for _ in range(npriocands)]\n",
    "\n",
    "        # Initialise placeholder values\n",
    "        num_nodes = self.model.getNNodes()\n",
    "        lpobjval = self.model.getLPObjVal()\n",
    "        lperror = False\n",
    "        best_cand_idx = 0\n",
    "        best_cand_gain = 0\n",
    "\n",
    "        # Start strong branching and iterate over the branching candidates\n",
    "        self.model.startStrongbranch()\n",
    "        for i in range(npriocands):\n",
    "\n",
    "            # Check the case that the variable has already been strong branched on at this node.\n",
    "            # This case occurs when events happen in the node that should be handled immediately.\n",
    "            # When processing the node again (because the event did not remove it), there's no need to duplicate work.\n",
    "            if self.model.getVarStrongbranchNode(branch_cands[i]) == num_nodes:\n",
    "                down, up, downvalid, upvalid, _, lastlpobjval = self.model.getVarStrongbranchLast(branch_cands[i])\n",
    "                if downvalid:\n",
    "                    down_bounds[i] = down\n",
    "                if upvalid:\n",
    "                    up_bounds[i] = up\n",
    "                downgain = max([down - lastlpobjval, 0])\n",
    "                upgain = max([up - lastlpobjval, 0])\n",
    "                scores[i] = self.model.getBranchScoreMultiple(branch_cands[i], [downgain, upgain])\n",
    "                continue\n",
    "\n",
    "            # Strong branch\n",
    "            down, up, downvalid, upvalid, downinf, upinf, downconflict, upconflict, lperror = self.model.getVarStrongbranch(\n",
    "                branch_cands[i], 200, idempotent=False)\n",
    "\n",
    "            # In the case of an LP error handle appropriately (for this example we just break the loop)\n",
    "            if lperror:\n",
    "                break\n",
    "\n",
    "            # In the case of both infeasible sub-problems cutoff the node\n",
    "            if downinf and upinf:\n",
    "                return {\"result\": SCIP_RESULT.CUTOFF}\n",
    "\n",
    "            # Calculate the gains for each up and down node that strong branching explored\n",
    "            if not downinf and downvalid:\n",
    "                down_bounds[i] = down\n",
    "                downgain = max([down - lpobjval, 0])\n",
    "            else:\n",
    "                downgain = 0\n",
    "            if not upinf and upvalid:\n",
    "                up_bounds[i] = up\n",
    "                upgain = max([up - lpobjval, 0])\n",
    "            else:\n",
    "                upgain = 0\n",
    "\n",
    "            # Update the pseudo-costs\n",
    "            lpsol = branch_cands[i].getLPSol()\n",
    "            if not downinf and downvalid:\n",
    "                self.model.updateVarPseudocost(branch_cands[i], -self.model.frac(lpsol), downgain, 1)\n",
    "                self.down_pseudo_costs_history[branch_cands[i].name] = downgain / -self.model.frac(lpsol)\n",
    "                self.objective_increases_by_var[branch_cands[i].name].append(downgain)\n",
    "            if not upinf and upvalid:\n",
    "                self.model.updateVarPseudocost(branch_cands[i], 1 - self.model.frac(lpsol), upgain, 1)\n",
    "                self.up_pseudo_costs_history[branch_cands[i].name] = upgain / (1 - self.model.frac(lpsol))\n",
    "                self.objective_increases_by_var[branch_cands[i].name].append(upgain)\n",
    "\n",
    "            scores[i] = self.model.getBranchScoreMultiple(branch_cands[i], [downgain, upgain])\n",
    "\n",
    "            if scores[i] > scores[best_cand_idx]:\n",
    "                best_cand_idx = i\n",
    "\n",
    "            self.n_branches_by_var[branch_cands[i].name] += 1\n",
    "            features = self.extract_feats(branch_cand_fracs[i], branch_cands[i])\n",
    "            curr_obj = self.model.getLPObjVal()\n",
    "            features['score'] = scores[i] / np.abs(curr_obj) if curr_obj != 0 else 0\n",
    "            row = pd.DataFrame.from_dict(features, orient='index').T\n",
    "            self.dataset = pd.concat([self.dataset, row], ignore_index=True)\n",
    "\n",
    "        # End strong branching\n",
    "        self.model.endStrongbranch()\n",
    "\n",
    "        # In the case of an LP error\n",
    "        if lperror:\n",
    "            return {\"result\": SCIP_RESULT.DIDNOTRUN}\n",
    "\n",
    "        var_name = branch_cands[best_cand_idx].name\n",
    "\n",
    "        # print(\"--> Strong branching on variable:\", branch_cands[best_cand_idx].name)\n",
    "        # Branch on the variable with the largest score\n",
    "        down_child, eq_child, up_child = self.model.branchVarVal(\n",
    "            branch_cands[best_cand_idx], branch_cands[best_cand_idx].getLPSol())\n",
    "\n",
    "        # Update the bounds of the down node and up node. Some cols might not exist due to pricing\n",
    "        if self.model.allColsInLP():\n",
    "            if down_child is not None and down_bounds[best_cand_idx] is not None:\n",
    "                self.model.updateNodeLowerbound(down_child, down_bounds[best_cand_idx])\n",
    "            if up_child is not None and up_bounds[best_cand_idx] is not None:\n",
    "                self.model.updateNodeLowerbound(up_child, up_bounds[best_cand_idx])\n",
    "\n",
    "        return {\"result\": SCIP_RESULT.BRANCHED}\n",
    "\n",
    "    def n_fixed_vars(self):\n",
    "        # from: https://github.com/scipopt/PySCIPOpt/issues/347#issuecomment-602466658\n",
    "        fixedvars = 0\n",
    "        transvars = self.model.getVars(transformed=True)\n",
    "        for var in transvars:\n",
    "            if self.model.isFeasEQ(var.getLbLocal(), var.getUbLocal()):\n",
    "                fixedvars += 1\n",
    "        return fixedvars\n",
    "\n",
    "    def get_sensitivity_range(self, var):\n",
    "        # Get all variables in the LP\n",
    "        all_vars = self.model.getVars(transformed=True)  # Get transformed vars for LP operations\n",
    "        lp_cols_data = self.model.getLPColsData()\n",
    "        lp_cols_map = {col.getLPPos(): col.getVar() for col in lp_cols_data}\n",
    "\n",
    "        lp_basis_ind = self.model.getLPBasisInd()  # List of column indices in basis\n",
    "        is_var_basic = False\n",
    "        var_col = var.getCol()\n",
    "        if var_col and var_col.getLPPos() != -1:  # Check if the variable is in the current LP formulation\n",
    "            if var_col.getBasisStatus() == 'basic':\n",
    "                is_var_basic = True\n",
    "\n",
    "        obj_sense = self.model.getObjectiveSense()  # 'maximize' or 'minimize'\n",
    "\n",
    "        if not is_var_basic:\n",
    "            red_cost = self.model.getVarRedcost(var)\n",
    "            current_obj_coeff = var.getObj()\n",
    "\n",
    "            if obj_sense == 'maximize':\n",
    "                allowable_increase = red_cost\n",
    "                allowable_decrease = self.model.infinity()\n",
    "\n",
    "                # Check for floating point issues: if red_cost is tiny negative, treat as 0\n",
    "                if self.model.isLT(red_cost, 0):\n",
    "                    allowable_increase = 0.0\n",
    "            else:  # minimize\n",
    "                allowable_increase = self.model.infinity()\n",
    "                allowable_decrease = -red_cost\n",
    "                # Check for floating point issues: if red_cost is tiny positive, treat as 0\n",
    "                if self.model.isGT(red_cost, 0):\n",
    "                    allowable_decrease = 0.0\n",
    "\n",
    "            return current_obj_coeff - allowable_decrease, current_obj_coeff + allowable_increase\n",
    "\n",
    "        else:\n",
    "            allowable_increase = self.model.infinity()\n",
    "            allowable_decrease = self.model.infinity()\n",
    "            current_obj_coeff = var.getObj()\n",
    "\n",
    "            # Find the row index of the basic variable 'var' in the basis\n",
    "            # We need to find which basic variable in lp_basis_ind corresponds to 'var'\n",
    "            basic_var_lp_pos = -1\n",
    "            for i, col_idx in enumerate(lp_basis_ind):\n",
    "                if col_idx >= 0:  # It's a column variable (not a slack/artificial)\n",
    "                    bvar = lp_cols_map.get(col_idx)\n",
    "                    if bvar and bvar.name == var.name:  # Match by name or some unique identifier\n",
    "                        basic_var_lp_pos = i  # This is the row index in the basis\n",
    "                        break\n",
    "\n",
    "            if basic_var_lp_pos == -1:\n",
    "                return None, None\n",
    "\n",
    "            # Get the row from B^-1 A corresponding to the basic variable 'var'\n",
    "            # This row contains the values (B^-1 A_j)_p for all non-basic columns j.\n",
    "            # PySCIPOpt's getLPBInvARow returns a dense list where index corresponds to LP column index\n",
    "            b_inv_a_row_for_var = self.model.getLPBInvARow(basic_var_lp_pos)\n",
    "\n",
    "            # Iterate through all variables to find non-basic ones\n",
    "            for non_basic_var in all_vars:\n",
    "                non_basic_col = non_basic_var.getCol()\n",
    "\n",
    "                # Ensure the non-basic variable is part of the LP and is indeed non-basic\n",
    "                if (non_basic_col and non_basic_col.getLPPos() != -1 and\n",
    "                        non_basic_col.getBasisStatus() in ['lower', 'upper', 'zero', 'free']):\n",
    "\n",
    "                    nb_lp_pos = non_basic_col.getLPPos()\n",
    "                    # Get the current reduced cost of the non-basic variable\n",
    "                    original_red_cost_j = self.model.getVarRedcost(non_basic_var)\n",
    "\n",
    "                    # This is the (B^-1 A_j)_p value, denoted as \\bar{a}_{pj} in the explanation\n",
    "                    a_bar_pj = b_inv_a_row_for_var[nb_lp_pos]\n",
    "\n",
    "                    # Only consider non-zero a_bar_pj to avoid division by zero\n",
    "                    if not self.model.isZero(a_bar_pj):\n",
    "                        if obj_sense == 'maximize':\n",
    "                            # New reduced cost: original_red_cost_j - Delta_c_k * a_bar_pj >= 0\n",
    "                            # This is for maximization, so original_red_cost_j should be >= 0\n",
    "\n",
    "                            # If a_bar_pj > 0: Delta_c_k <= original_red_cost_j / a_bar_pj\n",
    "                            if self.model.isGT(a_bar_pj, 0):\n",
    "                                ratio = original_red_cost_j / a_bar_pj\n",
    "                                allowable_increase = min(allowable_increase, ratio)\n",
    "\n",
    "                            # If a_bar_pj < 0: Delta_c_k >= original_red_cost_j / a_bar_pj\n",
    "                            # This creates a lower bound for Delta_c_k (which is a negative value)\n",
    "                            elif self.model.isLT(a_bar_pj, 0):\n",
    "                                ratio = original_red_cost_j / a_bar_pj\n",
    "                                allowable_decrease = min(allowable_decrease, -ratio)\n",
    "                                allowable_decrease = min(allowable_decrease, -ratio)\n",
    "\n",
    "                        else:  # minimize\n",
    "                            if self.model.isGT(a_bar_pj, 0):\n",
    "                                ratio = original_red_cost_j / a_bar_pj\n",
    "                                allowable_decrease = min(allowable_decrease, ratio)\n",
    "                            elif self.model.isLT(a_bar_pj, 0):\n",
    "                                ratio = original_red_cost_j / a_bar_pj\n",
    "                                allowable_increase = min(allowable_increase, -ratio)\n",
    "                                allowable_increase = min(allowable_increase, -ratio)\n",
    "\n",
    "            lower_bound = current_obj_coeff - allowable_decrease\n",
    "            upper_bound = current_obj_coeff + allowable_increase\n",
    "\n",
    "            return lower_bound, upper_bound\n",
    "\n",
    "    def extract_feats(self, frac, var):\n",
    "        allowable_increase, allowable_decrease = self.get_sensitivity_range(var)\n",
    "        params = Params(\n",
    "            var_idx=var.getCol().getLPPos(),\n",
    "            x_i=var.getObj(),\n",
    "            node_depth=self.model.getCurrentNode().getDepth(),\n",
    "            nr_variables=self.model.getNVars(),\n",
    "            curr_obj=self.model.getLPObjVal(),\n",
    "            n_branches_by_var=self.n_branches_by_var[var.name],\n",
    "            n_nodes=self.model.getNNodes(),\n",
    "            downfrac=frac,\n",
    "            upfrac=1 - frac,\n",
    "            objective_increases=self.objective_increases_by_var[var.name],\n",
    "            nr_fixed_variables=self.n_fixed_vars(),\n",
    "            root_obj_val=self.model.getDualboundRoot(),\n",
    "            up_pseudo_cost=np.mean(self.up_pseudo_costs_history[var.name]),\n",
    "            down_pseudo_cost=np.mean(self.down_pseudo_costs_history[var.name]),\n",
    "            allowed_decrease=allowable_decrease,\n",
    "            allowed_increase=allowable_increase,\n",
    "            sense=self.model.getObjectiveSense()\n",
    "        )\n",
    "        return compute_features(params, self.A, self.b, self.c)\n"
   ],
   "outputs": [],
   "execution_count": 8
  },
  {
   "cell_type": "code",
   "metadata": {
    "id": "CndBy1i3mkDw",
    "ExecuteTime": {
     "end_time": "2025-05-26T13:53:17.108528Z",
     "start_time": "2025-05-26T13:53:17.020588Z"
    }
   },
   "source": [
    "from pyscipopt import Model, quicksum, SCIP_PARAMSETTING\n",
    "from pyscipopt.scip import Term\n",
    "\n",
    "MAX_BRANCHING_PRIORITY = 9999999\n",
    "LEARNED_STRONG_BRANCHING = \"learnedstrongbrnch\"\n",
    "RELIABILITY_BRANCHING = \"relpscost\"\n",
    "PSEUDO_COST_BRANCHING = \"pscost\"\n",
    "MOST_INFEASIBLE_BRANCHING = \"mostinf\"\n",
    "RANDOM_BRANCHING = \"random\"\n",
    "\n",
    "class Problem:\n",
    "    def __init__(self, name, c, lb, ub, constraint_types, b, A, var_types=None, model=None):\n",
    "        self.name = name\n",
    "        self.c = c\n",
    "        self.lb = lb\n",
    "        self.ub = ub\n",
    "        self.constraint_types = constraint_types\n",
    "        self.var_types = var_types if var_types is not None else ['B'] * len(c)  # assuming binary\n",
    "        self.b = b\n",
    "        self.A = A\n",
    "\n",
    "        self.model = model\n",
    "\n",
    "    @staticmethod\n",
    "    def from_model(path):\n",
    "        model = Model()\n",
    "        model.readProblem(path)\n",
    "        name = model.getProbName()\n",
    "\n",
    "        variables = model.getVars()\n",
    "        constraints = model.getConss()\n",
    "\n",
    "        # Initialize data structures\n",
    "        n_vars = len(variables)\n",
    "        n_cons = len(constraints)\n",
    "\n",
    "        # Create mapping from variable to index\n",
    "        c = np.zeros(n_vars)\n",
    "\n",
    "        # Extract objective coefficients (vector c)\n",
    "        for i, var in enumerate(variables):\n",
    "            c[i] = model.getObjective().terms.get(Term(var), 0.0)\n",
    "\n",
    "        variables = model.getVars()\n",
    "        num_vars = len(variables)\n",
    "\n",
    "        # Initialize A and b\n",
    "        A = []\n",
    "        b = []\n",
    "\n",
    "        all_constraints = model.getConss()\n",
    "\n",
    "        for con in all_constraints:\n",
    "            assert con.isLinear(), \"Only linear constraints are supported\"\n",
    "\n",
    "            # Get coefficients for this linear constraint\n",
    "            coeffs = model.getValsLinear(con)\n",
    "\n",
    "            # Create a row for the A matrix\n",
    "            row = [0.0] * num_vars\n",
    "            for var, coeff in coeffs.items():\n",
    "                v = list(filter(lambda x: x.name == var, model.getVars()))[0]\n",
    "                try:\n",
    "                    # Find the index of the variable in our ordered list\n",
    "                    var_index = v.getIndex()\n",
    "                    row[var_index] = coeff\n",
    "                except ValueError:\n",
    "                    # This case should ideally not happen if getVars() gets all relevant variables,\n",
    "                    # but it's good practice to handle unexpected variables.\n",
    "                    print(\n",
    "                        f\"Warning: Variable {var.getName()} found in constraint {con.getName()} but not in model's getVars() list.\")\n",
    "                    pass\n",
    "\n",
    "            rhs = model.getRhs(con)\n",
    "            A.append(row)\n",
    "            b.append(rhs)\n",
    "\n",
    "        A = np.array(A)\n",
    "        b = np.array(b)\n",
    "        return Problem(name, c=c, lb=[], ub=[], constraint_types=[], b=b, A=A, var_types=[], model=model)\n",
    "\n",
    "    def solve_with_strategy(self, branching_strategy, predictor=None, logged=False, max_nodes=-1, timelimit=-1):\n",
    "        self.build_model()\n",
    "        self.basic_config(logged=logged)\n",
    "        self.disable_configs()\n",
    "\n",
    "        if branching_strategy == LEARNED_STRONG_BRANCHING:\n",
    "            assert predictor is not None, \"Predictor must be provided for learned strong branching\"\n",
    "            self.model.includeBranchrule(\n",
    "                LearnedStrongBranching(self.model, predictor, self.A, self.b, self.c, logged),\n",
    "                LEARNED_STRONG_BRANCHING,\n",
    "                \"Learned Strong Branching Rule\",\n",
    "                priority=MAX_BRANCHING_PRIORITY,\n",
    "                maxdepth=-1,  # No depth limit\n",
    "                maxbounddist=1.0\n",
    "            )\n",
    "        else:\n",
    "            self.model.setIntParam(f'branching/{branching_strategy}/priority', MAX_BRANCHING_PRIORITY)\n",
    "\n",
    "        self.model.optimize()\n",
    "\n",
    "        stats = {\n",
    "            'time': self.model.getSolvingTime(),\n",
    "            'n_vars': len(self.c),\n",
    "            'n_constraints': len(self.b),\n",
    "            'name': self.name,\n",
    "            'sb_decision': self.model.getNNodes(),\n",
    "            'gap': self.model.getGap(),\n",
    "            'status': self.model.getStatus(),\n",
    "        }\n",
    "        self.model.freeProb()\n",
    "        return stats\n",
    "\n",
    "    def build_model(self, disable_cuts=True, disable_heuristics=True, disable_presolving=True):\n",
    "        model = Model(self.name)\n",
    "        n_vars = len(self.c)\n",
    "        x = []\n",
    "        for i in range(n_vars):\n",
    "            if self.var_types[i] == 'B':\n",
    "                x.append(model.addVar(name=f\"x_{i}\", vtype=\"B\"))\n",
    "            elif self.var_types[i] == 'C':\n",
    "                x.append(model.addVar(name=f\"x_{i}\", vtype=\"C\", lb=self.lb[i], ub=self.ub[i]))\n",
    "\n",
    "        # Set objective function\n",
    "        model.setObjective(quicksum(self.c[i] * x[i] for i in range(n_vars)), \"minimize\")\n",
    "\n",
    "        n_constraints = len(self.b)\n",
    "        if n_constraints != len(self.constraint_types):\n",
    "            raise Exception(\n",
    "                f\"Number of constraints ({n_constraints}) doesn't match number of types ({len(self.constraint_types)})\")\n",
    "\n",
    "        # Add constraints\n",
    "        for i in range(n_constraints):\n",
    "            lhs = quicksum(self.A[i][j] * x[j] for j in range(n_vars) if self.A[i][j] != 0)\n",
    "\n",
    "            if self.constraint_types[i] == 'E':\n",
    "                model.addCons(lhs == self.b[i])\n",
    "            elif self.constraint_types[i] == 'G':\n",
    "                model.addCons(lhs >= self.b[i])\n",
    "            elif self.constraint_types[i] == 'L':\n",
    "                model.addCons(lhs <= self.b[i])\n",
    "\n",
    "        assert (model.getNConss() == len(\n",
    "            self.A)), \"Number of constraints in model doesn't match number of constraints in problem\"\n",
    "        assert (model.getNConss() == len(\n",
    "            self.b)), \"Number of constraints in model doesn't match number of constraints in problem\"\n",
    "        assert (model.getNVars() == len(\n",
    "            self.c)), \"Number of variables in model doesn't match number of variables in problem\"\n",
    "        self.model = model\n",
    "\n",
    "    def basic_config(self, logged=False, max_nodes=-1, timelimit=-1):\n",
    "        if self.model is None:\n",
    "            raise Exception(\"Model is not built yet. Call __build_model() first.\")\n",
    "\n",
    "        if not logged:\n",
    "            self.model.hideOutput()\n",
    "            self.model.setIntParam('display/verblevel', 0)  # Quiet mode\n",
    "        else:\n",
    "            self.model.setIntParam('display/verblevel', 3)  # Verbose output\n",
    "\n",
    "        if max_nodes > 0:\n",
    "            self.model.setIntParam('limits/nodes', max_nodes)\n",
    "\n",
    "        if timelimit > 0:\n",
    "            self.model.setRealParam('limits/time', timelimit)\n",
    "\n",
    "        self.model.setIntParam('display/freq', 500)  # logging frequency\n",
    "\n",
    "    def disable_configs(self):\n",
    "        self.model.setPresolve(SCIP_PARAMSETTING.OFF)\n",
    "        self.model.setSeparating(SCIP_PARAMSETTING.OFF)\n",
    "        self.model.setHeuristics(SCIP_PARAMSETTING.OFF)\n",
    "\n",
    "    def __repr__(self):\n",
    "        return f\"Problem(name={self.name})\"\n",
    "\n"
   ],
   "outputs": [],
   "execution_count": 9
  },
  {
   "cell_type": "code",
   "metadata": {
    "id": "RCl__Dyimoey",
    "ExecuteTime": {
     "end_time": "2025-05-26T13:53:17.135854Z",
     "start_time": "2025-05-26T13:53:17.126604Z"
    }
   },
   "source": [
    "import numpy as np\n",
    "\n",
    "\"\"\"\n",
    "Formulation\n",
    "min k = sum_{j in J} y_j\n",
    "s.t.\n",
    "     k >= 1\n",
    "     sum_{i in I} s(i) x_{ij} <= B y_i forall j in J\n",
    "     sum_{j in J} x_{ij} = 1 forall i in I\n",
    "\n",
    "     y_j in {0,1} forall j in J\n",
    "     x_{ij} in {0,1} forall i in I, j in J\n",
    "\n",
    "     x_{ij} in {0,1} forall i in I, j in J\n",
    "     y_j in {0,1} forall j in J\n",
    "\n",
    "     I: items, J: bins\n",
    "     s(i): size of item i\n",
    "     B: bin capacity\n",
    "\"\"\"\n",
    "\n",
    "\n",
    "def bin_packing(n_problems: int, items: (int, int), bins: (int, int), bin_capacity: (float, float),\n",
    "                item_size: (float, float)):\n",
    "    return [__generate_bp(i, items, bins, bin_capacity, item_size) for i in range(n_problems)]\n",
    "\n",
    "\n",
    "def __generate_bp(id: int, items: (int, int), bins: (int, int), bin_capacity: (float, float),\n",
    "                  item_size: (float, float)):\n",
    "    n_items = np.random.randint(*items)\n",
    "    n_bins = np.random.randint(*bins)\n",
    "    bin_capacity = np.random.uniform(*bin_capacity)\n",
    "    item_sizes = np.random.uniform(*item_size, size=n_items)\n",
    "    n_vars = n_bins + n_items * n_bins  # y_i + x_{ij}\n",
    "    assert n_vars < 1000, \"Community edition has a limit of 1000 variables\"\n",
    "\n",
    "    c = np.concatenate([\n",
    "        np.ones(n_bins),  # cost for bins (y_j)\n",
    "        np.zeros(n_items * n_bins)  # no cost for x_{ij} (multiplying n_items * n_bins as x has 2 indexes)\n",
    "    ])\n",
    "\n",
    "    A, b, types = [], [], []\n",
    "\n",
    "    ## constraints\n",
    "    # k >= 1\n",
    "    A.append(np.concatenate([np.zeros(n_bins), np.ones(n_items * n_bins)]))\n",
    "    b.append(1)\n",
    "    types.append('G')\n",
    "\n",
    "    # sum(s(i) * x_ij) <= B * y_j for all j\n",
    "    for j in range(n_bins):\n",
    "        row = np.zeros(n_vars)\n",
    "        row[j] = -bin_capacity  # coefficient for y_j\n",
    "        for i in range(n_items):\n",
    "            row[n_bins + i * n_bins + j] = item_sizes[i]  # coefficient for x_{ij}\n",
    "        A.append(row)\n",
    "        b.append(0)\n",
    "        types.append('L')\n",
    "\n",
    "    # sum(x_ij) = 1 for all i\n",
    "    for i in range(n_items):\n",
    "        row = np.zeros(n_vars)\n",
    "        for j in range(n_bins):\n",
    "            row[n_bins + i * n_bins + j] = 1  # coefficient for x_{ij}\n",
    "        A.append(row)\n",
    "        b.append(1)\n",
    "        types.append('E')\n",
    "\n",
    "    A = np.array(A)\n",
    "    b = np.array(b)\n",
    "    assert A.shape[0] == b.shape[0], \"A and b must have the same number of rows\"\n",
    "    assert b.shape[0] <= 1000, \"Community edition has a limit of 1000 constraints\"\n",
    "\n",
    "    types = np.array(types)\n",
    "\n",
    "    return Problem(\n",
    "        name=f\"randomBP_{id}\",\n",
    "        c=c,\n",
    "        lb=[0] * n_vars,\n",
    "        ub=[1] * n_vars,\n",
    "        constraint_types=types,\n",
    "        b=b,\n",
    "        A=A\n",
    "    )\n"
   ],
   "outputs": [],
   "execution_count": 10
  },
  {
   "cell_type": "code",
   "metadata": {
    "id": "0rnC8gDlOOKk",
    "ExecuteTime": {
     "end_time": "2025-05-26T13:53:17.190617Z",
     "start_time": "2025-05-26T13:53:17.181918Z"
    }
   },
   "source": [
    "import numpy as np\n",
    "\n",
    "\"\"\"\n",
    "Formulation\n",
    "min sum_{s in S} x_s\n",
    "s.t. sum_{s: e in s} x_s >= 1 forall e in E\n",
    "x in {0,1}^n\n",
    "\"\"\"\n",
    "\n",
    "A_DENSITY = 0.3\n",
    "\n",
    "\n",
    "def set_cover(n_problems: int, universe_size_range=(50, 70)):\n",
    "    return [__generate_sc(i, universe_size_range) for i in range(n_problems)]\n",
    "\n",
    "\n",
    "def __generate_sc(id: int, universe_size_range):\n",
    "    # universe selection\n",
    "    universe_size = np.random.randint(*universe_size_range)\n",
    "    universe = np.random.choice(list(range(1, 100)), size=universe_size, replace=False)\n",
    "\n",
    "    binary_matrix = np.random.randint(0, 2, size=(len(universe), len(universe)))\n",
    "\n",
    "    # Ensure each row and column has at least one 1 to avoid empty sets\n",
    "    for i in range(binary_matrix.shape[0]):\n",
    "        if np.sum(binary_matrix[i, :]) == 0:\n",
    "            binary_matrix[i, np.random.randint(0, binary_matrix.shape[1])] = 1\n",
    "\n",
    "    for j in range(binary_matrix.shape[1]):\n",
    "        if np.sum(binary_matrix[:, j]) == 0:\n",
    "            binary_matrix[np.random.randint(0, binary_matrix.shape[0]), j] = 1\n",
    "\n",
    "    # mapping to universe elements\n",
    "    subsets = []\n",
    "    for j in range(binary_matrix.shape[1]):\n",
    "        subset = []\n",
    "        for i in range(binary_matrix.shape[0]):\n",
    "            if binary_matrix[i, j] == 1:\n",
    "                subset.append(universe[i])\n",
    "        subsets.append(subset)\n",
    "\n",
    "    # remove duplicated sets from subsets\n",
    "    unique_subsets = []\n",
    "    for subset in subsets:\n",
    "        if subset not in unique_subsets:\n",
    "            unique_subsets.append(subset)\n",
    "\n",
    "    # shuffling within subsets\n",
    "    for i in range(len(unique_subsets)):\n",
    "        np.random.shuffle(unique_subsets[i])\n",
    "\n",
    "    # Create Problem object\n",
    "    n_subsets = len(unique_subsets)\n",
    "    n_elements = len(universe)\n",
    "\n",
    "    A = np.zeros((n_elements, len(unique_subsets)))\n",
    "    for j, subset in enumerate(unique_subsets):\n",
    "        for elem in subset:\n",
    "            i, = np.where(universe == elem)\n",
    "            A[i, j] = 1\n",
    "\n",
    "    c = np.ones(len(unique_subsets))\n",
    "    b = np.ones(n_elements)\n",
    "    types = ['G'] * n_elements\n",
    "\n",
    "    return Problem(\n",
    "        name=f\"randomSC_{id}\",\n",
    "        c=c,\n",
    "        lb=[0] * n_subsets,\n",
    "        ub=[1] * n_subsets,\n",
    "        constraint_types=types,\n",
    "        b=b,\n",
    "        A=A,\n",
    "    )\n"
   ],
   "outputs": [],
   "execution_count": 11
  },
  {
   "cell_type": "code",
   "metadata": {
    "id": "Z12xMqd1OOKm",
    "ExecuteTime": {
     "end_time": "2025-05-26T13:53:17.245631Z",
     "start_time": "2025-05-26T13:53:17.238031Z"
    }
   },
   "source": [
    "def solve(problems, name, export_path):\n",
    "    if len(problems) == 0:\n",
    "        return\n",
    "\n",
    "    dataset_name = f\"{export_path}/{name}_solution.csv\"\n",
    "    stats_name = f\"{export_path}/{name}_stats.csv\"\n",
    "\n",
    "    dataset = pd.read_csv(dataset_name) if os.path.exists(dataset_name) else pd.DataFrame()\n",
    "    stats = pd.read_csv(stats_name) if os.path.exists(stats_name) else pd.DataFrame()\n",
    "\n",
    "    for problem in tqdm(problems, desc=f\"Solving problems {name}\", unit=\"problem\"):\n",
    "        try:\n",
    "            names = stats['name'].values if stats.get('name', None) is not None else []\n",
    "            if not problem.name in names:\n",
    "                solution, stats_result = problem.solve_with_sb(logged=False)\n",
    "                dataset = pd.concat([dataset, solution], ignore_index=True)\n",
    "                stats_row = pd.DataFrame.from_dict(stats_result, orient='index').T\n",
    "                stats = pd.concat([stats, stats_row], ignore_index=True)\n",
    "                print(f\"Problem {problem.name} solved in {stats_result['time']} seconds\")\n",
    "                # overwrite dataset and stats files\n",
    "                dataset.to_csv(f\"{export_path}/{name}_solution.csv\")\n",
    "                stats.to_csv(f\"{export_path}/{name}_stats.csv\")\n",
    "            else:\n",
    "                print(f\"Problem {problem.name} already solved, skipping.\")\n",
    "        except AssertionError as e:\n",
    "            print(f\"Problem has no solution: {problem.name}\")\n",
    "        except Exception as e:\n",
    "            print(f\"Error solving problem {problem.name}: {e}\")\n",
    "            continue"
   ],
   "outputs": [],
   "execution_count": 12
  },
  {
   "cell_type": "code",
   "metadata": {
    "ExecuteTime": {
     "end_time": "2025-05-26T13:53:17.296350Z",
     "start_time": "2025-05-26T13:53:17.292829Z"
    }
   },
   "source": [
    "import os\n",
    "\n",
    "\n",
    "def export_generated_probs(probs, src):\n",
    "    # check if generated problems have already been exported\n",
    "    if len(os.listdir(src)) == 0:\n",
    "        for prob in probs:\n",
    "            filename = f\"{src}/{prob.name}.lp\"\n",
    "            if not os.path.exists(filename):\n",
    "                prob.build_model()\n",
    "                prob.model.writeProblem(filename)"
   ],
   "outputs": [],
   "execution_count": 13
  },
  {
   "cell_type": "code",
   "metadata": {
    "ExecuteTime": {
     "end_time": "2025-05-26T13:53:18.917890Z",
     "start_time": "2025-05-26T13:53:17.354867Z"
    }
   },
   "source": [
    "from tqdm import tqdm\n",
    "from sklearn.model_selection import train_test_split\n",
    "\n",
    "np.random.seed(seed)\n",
    "\n",
    "bp = bin_packing(\n",
    "    n_problems=100,\n",
    "    items=(10, 20),\n",
    "    bins=(5, 10),\n",
    "    bin_capacity=(0.5, 1.5),\n",
    "    item_size=(0.1, 0.9),\n",
    ")\n",
    "\n",
    "sc = set_cover(\n",
    "    n_problems=100,\n",
    "    universe_size_range=(80, 100),\n",
    ")\n",
    "\n",
    "export_generated_probs(sc, \"sources/randomSC\")\n",
    "export_generated_probs(bp, \"sources/randomBP\")\n"
   ],
   "outputs": [],
   "execution_count": 14
  },
  {
   "cell_type": "code",
   "metadata": {
    "ExecuteTime": {
     "end_time": "2025-05-26T13:53:18.939867Z",
     "start_time": "2025-05-26T13:53:18.934115Z"
    }
   },
   "source": [
    "import kagglehub\n",
    "\n",
    "import kagglehub\n",
    "import os\n",
    "\n",
    "out = \"output/\"\n",
    "\n",
    "\n",
    "def load_and_solve_probs():\n",
    "    lp_probs_path = kagglehub.dataset_download(\"elenaferr0/lp-probs\")\n",
    "\n",
    "    mknsc_train_path = f\"{lp_probs_path}/LP-Probs/MKNSCtrain\"\n",
    "    mknsc_test_path = f\"{lp_probs_path}/LP-Probs/MKNSCtest\"\n",
    "    bpeq_train_path = f\"{lp_probs_path}/LP-Probs/BPEQtrain\"\n",
    "    bpeq_test_path = f\"{lp_probs_path}/LP-Probs/BPEQtest\"\n",
    "    bpsc_test_path = f\"{lp_probs_path}/LP-Probs/BPSCtest\"\n",
    "\n",
    "    mknsc_train = [Problem.from_model(file) for file in os.listdir(mknsc_train_path)]\n",
    "    mknsc_test = [Problem.from_model(file) for file in os.listdir(mknsc_test_path)]\n",
    "    bpeq_train = [Problem.from_model(file) for file in os.listdir(bpeq_train_path)]\n",
    "    bpeq_test = [Problem.from_model(file) for file in os.listdir(bpeq_test_path)]\n",
    "    bpsc_test = [Problem.from_model(file) for file in os.listdir(bpsc_test_path)]\n",
    "\n",
    "    solve(mknsc_train, \"mknsc_train\", out)\n",
    "    solve(mknsc_test, \"mknsc_test\", out)\n",
    "    solve(bpeq_train, \"bpeq_train\", out)\n",
    "    solve(bpeq_test, \"bpeq_test\", out)\n",
    "    solve(bpsc_test, \"bpsc_test\", out)\n"
   ],
   "outputs": [],
   "execution_count": 15
  },
  {
   "cell_type": "code",
   "execution_count": null,
   "metadata": {},
   "outputs": [],
   "source": [
    "sln_path = kagglehub.dataset_download(\"elenaferr0/strongbranchingscores\")\n",
    "sln_path = f\"{sln_path}/Solutions\"\n",
    "if os.listdir(sln_path) == 0:\n",
    "    load_and_solve_probs()\n",
    "\n",
    "    sc_train, sc_test = train_test_split(sc, test_size=0.2)\n",
    "    bp_train, bp_test = train_test_split(bp, test_size=0.2)\n",
    "\n",
    "    solve(sc_train, f\"randomSC_train\", out)\n",
    "    solve(sc_test, f\"randomSC_test\", out)\n",
    "\n",
    "    solve(bp_train, f\"randomBP_train\", out)\n",
    "    solve(bp_test, f\"randomBP_test\", out)\n",
    "    stats_path = out\n",
    "\n",
    "print(sln_path)\n",
    "print(os.listdir(sln_path))"
   ]
  },
  {
   "cell_type": "markdown",
   "metadata": {
    "id": "bf42f3b6b16c00eb"
   },
   "source": [
    "## Dataset loading (read generated csv files)"
   ]
  },
  {
   "cell_type": "code",
   "execution_count": 70,
   "metadata": {
    "ExecuteTime": {
     "end_time": "2025-05-23T19:21:02.749556Z",
     "start_time": "2025-05-23T19:20:49.826065Z"
    },
    "colab": {
     "base_uri": "https://localhost:8080/"
    },
    "id": "37f2508f27142e6a",
    "outputId": "89057be4-c474-41be-f6fb-8943ffdd5b81"
   },
   "outputs": [
    {
     "name": "stdout",
     "output_type": "stream",
     "text": [
      "Train set size: (100000, 38)\n",
      "Test set size: (20000, 38)\n"
     ]
    }
   ],
   "source": [
    "import pandas as pd\n",
    "\n",
    "train_csv = [\n",
    "    'randomSC_train_solution.csv',\n",
    "    'randomBP_train_solution.csv',\n",
    "    'mknsc_train_solution.csv',\n",
    "    'bpeq_train_solution.csv',\n",
    "]\n",
    "\n",
    "test_csv = [\n",
    "    'miplib_test_solution.csv',\n",
    "    'randomSC_test_solution.csv',\n",
    "    'randomBP_test_solution.csv',\n",
    "    'bpeq_test_solution.csv',\n",
    "    'bpsc_test_solution.csv',\n",
    "]\n",
    "\n",
    "files = list(map(lambda x: pd.read_csv(f\"{sln_path}/{x}\"), train_csv))\n",
    "train = pd.concat(files, ignore_index=True)\n",
    "train = train.sample(n=10 ** 5, random_state=seed, ignore_index=True)\n",
    "\n",
    "files = list(map(lambda x: pd.read_csv(f\"{stats_path}/{x}\"), test_csv))\n",
    "test = pd.concat(files, ignore_index=True)\n",
    "test = test.sample(n=20000, random_state=seed, ignore_index=True)\n",
    "\n",
    "X_train = train.drop(columns=['score'])\n",
    "print(f'Train set size: {X_train.shape}')\n",
    "y_train = train['score']\n",
    "\n",
    "X_test = test.drop(columns=['score'])\n",
    "print(f'Test set size: {X_test.shape}')\n",
    "y_test = test['score']"
   ]
  },
  {
   "cell_type": "code",
   "metadata": {
    "id": "dsu8Xp6eTMdh",
    "ExecuteTime": {
     "end_time": "2025-05-26T13:54:57.981401Z",
     "start_time": "2025-05-26T13:54:57.974325Z"
    }
   },
   "source": [
    "from sklearn.pipeline import Pipeline\n",
    "from sklearn.preprocessing import StandardScaler, PowerTransformer\n",
    "from sklearn.compose import TransformedTargetRegressor\n",
    "from sklearn.impute import SimpleImputer\n",
    "\n",
    "\n",
    "def feature_processing(regressor):\n",
    "    return Pipeline([\n",
    "        ('imputer', SimpleImputer(strategy='constant', fill_value=0)),\n",
    "        ('scaler', StandardScaler()),\n",
    "        ('predictor', regressor)\n",
    "    ])\n",
    "\n",
    "\n",
    "def create_pipeline(regressor):\n",
    "    return TransformedTargetRegressor(\n",
    "        regressor=feature_processing(regressor),\n",
    "        func=np.log1p,\n",
    "        inverse_func=np.expm1,\n",
    "    )"
   ],
   "outputs": [],
   "execution_count": 17
  },
  {
   "cell_type": "markdown",
   "metadata": {
    "id": "a160174e3b2fd66c"
   },
   "source": [
    "## Preprocessing"
   ]
  },
  {
   "cell_type": "markdown",
   "metadata": {
    "id": "e66e76e3f75efbe6"
   },
   "source": [
    "### PCA"
   ]
  },
  {
   "cell_type": "code",
   "metadata": {
    "colab": {
     "base_uri": "https://localhost:8080/",
     "height": 718
    },
    "id": "aa06e7a2c4f641d4",
    "outputId": "221fdacc-98cc-4fc2-982c-1f538a837b38",
    "ExecuteTime": {
     "end_time": "2025-05-26T13:54:59.363833Z",
     "start_time": "2025-05-26T13:54:59.334970Z"
    }
   },
   "source": [
    "%matplotlib inline\n",
    "import matplotlib.pyplot as plt\n",
    "from sklearn.decomposition import PCA\n",
    "\n",
    "# First PCA visualization\n",
    "pipeline = feature_processing(PCA(n_components=2))\n",
    "pipeline.fit(X_train, y_train)\n",
    "X_pca = pipeline.transform(X_train)\n",
    "\n",
    "plt.figure(figsize=(10, 8))\n",
    "plt.title('PCA visualization of training data (2 components)')\n",
    "plt.scatter(X_pca[:, 0], X_pca[:, 1], c=y_train, alpha=0.5)\n",
    "plt.xlabel('First Principal Component')\n",
    "plt.ylabel('Second Principal Component')\n",
    "plt.show()"
   ],
   "outputs": [
    {
     "ename": "NameError",
     "evalue": "name 'X_train' is not defined",
     "output_type": "error",
     "traceback": [
      "\u001B[0;31m---------------------------------------------------------------------------\u001B[0m",
      "\u001B[0;31mNameError\u001B[0m                                 Traceback (most recent call last)",
      "Cell \u001B[0;32mIn[18], line 7\u001B[0m\n\u001B[1;32m      5\u001B[0m \u001B[38;5;66;03m# First PCA visualization\u001B[39;00m\n\u001B[1;32m      6\u001B[0m pipeline \u001B[38;5;241m=\u001B[39m feature_processing(PCA(n_components\u001B[38;5;241m=\u001B[39m\u001B[38;5;241m2\u001B[39m))\n\u001B[0;32m----> 7\u001B[0m pipeline\u001B[38;5;241m.\u001B[39mfit(\u001B[43mX_train\u001B[49m, y_train)\n\u001B[1;32m      8\u001B[0m X_pca \u001B[38;5;241m=\u001B[39m pipeline\u001B[38;5;241m.\u001B[39mtransform(X_train)\n\u001B[1;32m     10\u001B[0m plt\u001B[38;5;241m.\u001B[39mfigure(figsize\u001B[38;5;241m=\u001B[39m(\u001B[38;5;241m10\u001B[39m, \u001B[38;5;241m8\u001B[39m))\n",
      "\u001B[0;31mNameError\u001B[0m: name 'X_train' is not defined"
     ]
    }
   ],
   "execution_count": 18
  },
  {
   "cell_type": "code",
   "execution_count": null,
   "metadata": {
    "colab": {
     "base_uri": "https://localhost:8080/"
    },
    "id": "SMTRZ6fB5tkP",
    "outputId": "8d486a98-d177-4de0-ae80-4532e9af6805"
   },
   "outputs": [],
   "source": [
    "!pip install pymoo"
   ]
  },
  {
   "cell_type": "code",
   "execution_count": 72,
   "metadata": {
    "ExecuteTime": {
     "end_time": "2025-05-23T19:22:17.106401Z",
     "start_time": "2025-05-23T19:22:17.098892Z"
    },
    "id": "X0kFn3GeARad"
   },
   "outputs": [],
   "source": [
    "from pymoo.util.nds.non_dominated_sorting import NonDominatedSorting\n",
    "\n",
    "\n",
    "def find_minimization_pareto_front(df, x_col, y_col):\n",
    "    costs = np.column_stack([df[x_col], df[y_col]])\n",
    "    nds = NonDominatedSorting()\n",
    "    front = nds.do(costs, only_non_dominated_front=True)\n",
    "    pareto_front_idx = np.zeros(len(costs), dtype=bool)\n",
    "    pareto_front_idx[front] = True\n",
    "    return pareto_front_idx\n",
    "\n",
    "\n",
    "def regr_refit_strategy(cv_results):\n",
    "    results_df = pd.DataFrame(cv_results)\n",
    "    results_df = label_results(results_df)\n",
    "\n",
    "    results_df['pos_mse'] = results_df['mean_test_neg_mean_squared_error'].abs()\n",
    "\n",
    "    # find the pareto front (best tradeoffs)\n",
    "    pareto_front_indexes = find_minimization_pareto_front(results_df, 'mean_score_time', 'pos_mse')\n",
    "\n",
    "    # find the one nearest to x = y\n",
    "    pareto_df = results_df.loc[pareto_front_indexes].copy()\n",
    "    idx_min = pareto_df['pos_mse'].idxmin()\n",
    "    return idx_min"
   ]
  },
  {
   "cell_type": "code",
   "execution_count": 110,
   "metadata": {
    "ExecuteTime": {
     "end_time": "2025-05-23T20:02:48.465486Z",
     "start_time": "2025-05-23T20:02:48.454095Z"
    },
    "id": "H-Y27qYsxBAP"
   },
   "outputs": [],
   "source": [
    "import seaborn as sns\n",
    "import string, itertools\n",
    "\n",
    "double_letter = [''.join(combo) for combo in itertools.product(string.ascii_uppercase, repeat=2)]\n",
    "\n",
    "\n",
    "def label_results(results_df):\n",
    "    identifiers = double_letter[:results_df.shape[0]]\n",
    "    results_df['config_id'] = identifiers\n",
    "    return results_df\n",
    "\n",
    "\n",
    "def plot_results(results_df, pareto_front_idx, chosen_idx):\n",
    "    plt.figure(figsize=(10, 6))\n",
    "    ax = sns.scatterplot(data=results_df, x='mean_score_time', y='pos_mse', label='All Configurations', color='gray',\n",
    "                         alpha=0.6)\n",
    "\n",
    "    # Highlight Pareto front points (except chosen one)\n",
    "    pareto_df = results_df.loc[pareto_front_idx]\n",
    "    sns.scatterplot(data=pareto_df[pareto_df.index != chosen_idx], x='mean_score_time', y='pos_mse',\n",
    "                    label='Pareto Front', color='#2ca25f', ax=ax)\n",
    "\n",
    "    # Highlight chosen point\n",
    "    chosen_point = results_df.loc[[chosen_idx]]\n",
    "    chosen_point_label = chosen_point['config_id'].values[0]\n",
    "    sns.scatterplot(data=chosen_point, x='mean_score_time', y='pos_mse', label=f'Chosen config ({chosen_point_label})',\n",
    "                    color='#ff7f0e', ax=ax)\n",
    "    display(\"Chosen params\", chosen_point['params'].iloc[0])\n",
    "\n",
    "    plt.title('Mean Score Time vs. MSE')\n",
    "    plt.xlabel('Mean Score Time (s)')\n",
    "    plt.ylabel('Mean Squared Error (MSE)')\n",
    "\n",
    "    plt.grid(True, linestyle='--', alpha=0.4)\n",
    "\n",
    "    for i in range(results_df.shape[0]):\n",
    "        x = results_df['mean_score_time'].iloc[i]\n",
    "        y = results_df['pos_mse'].iloc[i]\n",
    "        label = results_df['config_id'].iloc[i]\n",
    "        ax.annotate(str(label), (x, y), textcoords=\"offset points\", xytext=(10, 10), ha='left', fontsize=12)\n",
    "\n",
    "    fig = plt.gcf()\n",
    "    fig.subplots_adjust(right=0.7)\n",
    "    plt.tight_layout()\n",
    "    plt.show()"
   ]
  },
  {
   "cell_type": "code",
   "execution_count": 111,
   "metadata": {
    "ExecuteTime": {
     "end_time": "2025-05-23T20:03:08.862406Z",
     "start_time": "2025-05-23T20:03:08.853195Z"
    },
    "id": "hGkOQd-HAHrt"
   },
   "outputs": [],
   "source": [
    "import pandas as pd\n",
    "from IPython.display import display\n",
    "\n",
    "metrics = pd.DataFrame()\n",
    "\n",
    "\n",
    "def print_metrics(cv_results, best_index, name):\n",
    "    global metrics\n",
    "    mse = -cv_results['mean_test_neg_mean_squared_error'][best_index]\n",
    "    me = -cv_results['mean_test_neg_root_mean_squared_error'][best_index]\n",
    "    r2 = cv_results['mean_test_r2'][best_index]\n",
    "    fit_time = cv_results['mean_score_time'][best_index]\n",
    "\n",
    "    new_row_data = {\n",
    "        'Model': name,\n",
    "        'R² Score': r2,\n",
    "        'MSE': mse,\n",
    "        'RMSE': me,\n",
    "        'Score Time (s)': fit_time\n",
    "    }\n",
    "\n",
    "    new_row_df = pd.DataFrame([new_row_data])\n",
    "    display(f\"Test set evaluation metrics for **{name}**\", new_row_df.T)\n",
    "    metrics = pd.concat([metrics, new_row_df], ignore_index=True)"
   ]
  },
  {
   "cell_type": "markdown",
   "metadata": {
    "id": "9c5f697ab71c0078"
   },
   "source": [
    "## Extra Trees Regressor"
   ]
  },
  {
   "cell_type": "code",
   "execution_count": 92,
   "metadata": {
    "ExecuteTime": {
     "end_time": "2025-05-23T19:53:28.464568Z",
     "start_time": "2025-05-23T19:53:28.459918Z"
    }
   },
   "outputs": [],
   "source": [
    "predictors = {}"
   ]
  },
  {
   "cell_type": "code",
   "execution_count": 109,
   "metadata": {
    "ExecuteTime": {
     "end_time": "2025-05-23T20:02:09.739638Z",
     "start_time": "2025-05-23T20:02:09.735224Z"
    },
    "id": "hMop2PjABxln"
   },
   "outputs": [],
   "source": [
    "scoring = ['neg_mean_squared_error', 'neg_root_mean_squared_error', 'r2', 'neg_max_error']"
   ]
  },
  {
   "cell_type": "code",
   "execution_count": 120,
   "metadata": {
    "ExecuteTime": {
     "end_time": "2025-05-23T20:41:38.438121Z",
     "start_time": "2025-05-23T20:13:06.956712Z"
    },
    "colab": {
     "base_uri": "https://localhost:8080/",
     "height": 800
    },
    "id": "e94aaa4daa32cf6a",
    "outputId": "00b6e7fc-0ab7-4b1b-80f4-827b49be4caf"
   },
   "outputs": [
    {
     "name": "stdout",
     "output_type": "stream",
     "text": [
      "Fitting 5 folds for each of 162 candidates, totalling 810 fits\n"
     ]
    },
    {
     "data": {
      "text/plain": [
       "'Chosen params'"
      ]
     },
     "metadata": {},
     "output_type": "display_data"
    },
    {
     "data": {
      "text/plain": [
       "{'regressor__predictor__max_depth': 20,\n",
       " 'regressor__predictor__max_features': None,\n",
       " 'regressor__predictor__min_samples_leaf': 5,\n",
       " 'regressor__predictor__min_samples_split': 2,\n",
       " 'regressor__predictor__n_estimators': 30}"
      ]
     },
     "metadata": {},
     "output_type": "display_data"
    },
    {
     "data": {
      "image/png": "[encoded data removed]",
      "text/plain": [
       "<Figure size 1000x600 with 1 Axes>"
      ]
     },
     "metadata": {},
     "output_type": "display_data"
    },
    {
     "data": {
      "text/plain": [
       "'Test set evaluation metrics for **ExtraTreeRegressor**'"
      ]
     },
     "metadata": {},
     "output_type": "display_data"
    },
    {
     "data": {
      "text/html": [
       "<div>\n",
       "<style scoped>\n",
       "    .dataframe tbody tr th:only-of-type {\n",
       "        vertical-align: middle;\n",
       "    }\n",
       "\n",
       "    .dataframe tbody tr th {\n",
       "        vertical-align: top;\n",
       "    }\n",
       "\n",
       "    .dataframe thead th {\n",
       "        text-align: right;\n",
       "    }\n",
       "</style>\n",
       "<table border=\"1\" class=\"dataframe\">\n",
       "  <thead>\n",
       "    <tr style=\"text-align: right;\">\n",
       "      <th></th>\n",
       "      <th>0</th>\n",
       "    </tr>\n",
       "  </thead>\n",
       "  <tbody>\n",
       "    <tr>\n",
       "      <th>Model</th>\n",
       "      <td>ExtraTreeRegressor</td>\n",
       "    </tr>\n",
       "    <tr>\n",
       "      <th>R² Score</th>\n",
       "      <td>0.898842</td>\n",
       "    </tr>\n",
       "    <tr>\n",
       "      <th>MSE</th>\n",
       "      <td>0.129732</td>\n",
       "    </tr>\n",
       "    <tr>\n",
       "      <th>RMSE</th>\n",
       "      <td>0.35577</td>\n",
       "    </tr>\n",
       "    <tr>\n",
       "      <th>Score Time (s)</th>\n",
       "      <td>0.087721</td>\n",
       "    </tr>\n",
       "  </tbody>\n",
       "</table>\n",
       "</div>"
      ],
      "text/plain": [
       "                                 0\n",
       "Model           ExtraTreeRegressor\n",
       "R² Score                  0.898842\n",
       "MSE                       0.129732\n",
       "RMSE                       0.35577\n",
       "Score Time (s)            0.087721"
      ]
     },
     "metadata": {},
     "output_type": "display_data"
    }
   ],
   "source": [
    "from sklearn.ensemble import ExtraTreesRegressor\n",
    "from sklearn.model_selection import GridSearchCV\n",
    "\n",
    "# {'regressor__predictor__max_depth': 20,\n",
    "#  'regressor__predictor__max_features': None,\n",
    "#  'regressor__predictor__min_samples_leaf': 5,\n",
    "#  'regressor__predictor__min_samples_split': 2,\n",
    "#  'regressor__predictor__n_estimators': 30}\n",
    "\n",
    "params = {\n",
    "    \"regressor__predictor__n_estimators\": [10, 20, 30],\n",
    "    \"regressor__predictor__min_samples_leaf\": [5, 10, 20],\n",
    "    \"regressor__predictor__max_depth\": [10, 20, 30],\n",
    "    \"regressor__predictor__max_features\": ['sqrt', None],\n",
    "    \"regressor__predictor__min_samples_split\": [2, 5, 10],\n",
    "}\n",
    "et = ExtraTreesRegressor(random_state=seed)\n",
    "ert_pipeline = create_pipeline(et)\n",
    "\n",
    "gs = GridSearchCV(ert_pipeline, param_grid=params, cv=5, scoring=scoring, verbose=1, refit=regr_refit_strategy)\n",
    "gs.fit(X_train, y_train)\n",
    "print_metrics(gs.cv_results_, gs.best_index_, 'ExtraTreeRegressor')\n",
    "predictors['ExtraTreeRegressor'] = gs.best_estimator_"
   ]
  },
  {
   "cell_type": "code",
   "execution_count": null,
   "metadata": {
    "colab": {
     "base_uri": "https://localhost:8080/",
     "height": 800
    },
    "id": "qfelKJO5Lzvr",
    "outputId": "718de150-5209-448e-969a-2e43503ad0fc"
   },
   "outputs": [],
   "source": [
    "from sklearn.ensemble import RandomForestRegressor\n",
    "from sklearn.model_selection import GridSearchCV\n",
    "import numpy as np\n",
    "\n",
    "params = {\n",
    "    \"regressor__predictor__n_estimators\": [10, 20, 25],\n",
    "    \"regressor__predictor__min_samples_leaf\": [5, 10, 20],\n",
    "    \"regressor__predictor__max_depth\": [10, 15, 20],\n",
    "    # \"predictor__max_features\": ['sqrt', None]\n",
    "}\n",
    "rfr = RandomForestRegressor(random_state=seed)\n",
    "rfr_pipeline = create_pipeline(rfr)\n",
    "\n",
    "gs = GridSearchCV(rfr_pipeline, param_grid=params, cv=5, scoring=scoring, verbose=1, refit=regr_refit_strategy)\n",
    "gs.fit(X_train, y_train)\n",
    "print_metrics(gs.cv_results_, gs.best_index_, 'RandomForestRegressor')\n",
    "predictors['RandomForestRegressor'] = gs.best_estimator_"
   ]
  },
  {
   "cell_type": "markdown",
   "metadata": {
    "id": "o3s0sEYtI95D"
   },
   "source": [
    "## Single decision tree regressor"
   ]
  },
  {
   "cell_type": "code",
   "execution_count": null,
   "metadata": {
    "colab": {
     "base_uri": "https://localhost:8080/",
     "height": 800
    },
    "id": "DU-3xyppIw0F",
    "outputId": "fae5b48d-bdf2-4c33-9f7f-5dcb6a259b1d"
   },
   "outputs": [],
   "source": [
    "from sklearn.tree import DecisionTreeRegressor\n",
    "from sklearn.model_selection import GridSearchCV\n",
    "\n",
    "params = {\n",
    "    \"regressor__predictor__min_samples_leaf\": [2, 5, 10],\n",
    "    \"regressor__predictor__max_depth\": [20, 30, None],\n",
    "    \"regressor__predictor__min_samples_split\": [2, 5]\n",
    "}\n",
    "\n",
    "dt = DecisionTreeRegressor(random_state=seed)\n",
    "dt_pipeline = create_pipeline(dt)\n",
    "\n",
    "gs = GridSearchCV(dt_pipeline, param_grid=params, cv=5, scoring=scoring, verbose=1, refit=regr_refit_strategy)\n",
    "gs.fit(X_train, y_train)\n",
    "print_metrics(gs.cv_results_, gs.best_index_, 'DecisionTreeRegressor')\n",
    "predictors['DecisionTreeRegressor'] = gs.best_estimator_"
   ]
  },
  {
   "cell_type": "code",
   "execution_count": 100,
   "metadata": {
    "ExecuteTime": {
     "end_time": "2025-05-23T20:12:51.131886617Z",
     "start_time": "2025-05-23T19:56:35.880612Z"
    },
    "colab": {
     "base_uri": "https://localhost:8080/",
     "height": 831
    },
    "id": "A8SWTTPZ8vT9",
    "outputId": "9084ba0d-8159-4dac-8506-f33ed428b1ab"
   },
   "outputs": [
    {
     "name": "stdout",
     "output_type": "stream",
     "text": [
      "Fitting 5 folds for each of 6 candidates, totalling 30 fits\n"
     ]
    },
    {
     "data": {
      "text/plain": [
       "{'regressor__predictor__alpha': 0.05}"
      ]
     },
     "metadata": {},
     "output_type": "display_data"
    },
    {
     "data": {
      "image/png": "[encoded data removed]",
      "text/plain": [
       "<Figure size 1000x600 with 1 Axes>"
      ]
     },
     "metadata": {},
     "output_type": "display_data"
    },
    {
     "data": {
      "text/html": [
       "<div>\n",
       "<style scoped>\n",
       "    .dataframe tbody tr th:only-of-type {\n",
       "        vertical-align: middle;\n",
       "    }\n",
       "\n",
       "    .dataframe tbody tr th {\n",
       "        vertical-align: top;\n",
       "    }\n",
       "\n",
       "    .dataframe thead th {\n",
       "        text-align: right;\n",
       "    }\n",
       "</style>\n",
       "<table border=\"1\" class=\"dataframe\">\n",
       "  <thead>\n",
       "    <tr style=\"text-align: right;\">\n",
       "      <th></th>\n",
       "      <th>0</th>\n",
       "    </tr>\n",
       "  </thead>\n",
       "  <tbody>\n",
       "    <tr>\n",
       "      <th>Model</th>\n",
       "      <td>Lasso</td>\n",
       "    </tr>\n",
       "    <tr>\n",
       "      <th>R² Score</th>\n",
       "      <td>0.110017</td>\n",
       "    </tr>\n",
       "    <tr>\n",
       "      <th>MSE</th>\n",
       "      <td>1.121182</td>\n",
       "    </tr>\n",
       "    <tr>\n",
       "      <th>RMSE</th>\n",
       "      <td>1.057613</td>\n",
       "    </tr>\n",
       "    <tr>\n",
       "      <th>Score Time (s)</th>\n",
       "      <td>0.036465</td>\n",
       "    </tr>\n",
       "  </tbody>\n",
       "</table>\n",
       "</div>"
      ],
      "text/plain": [
       "                       0\n",
       "Model              Lasso\n",
       "R² Score        0.110017\n",
       "MSE             1.121182\n",
       "RMSE            1.057613\n",
       "Score Time (s)  0.036465"
      ]
     },
     "metadata": {},
     "output_type": "display_data"
    },
    {
     "name": "stdout",
     "output_type": "stream",
     "text": [
      "Test set evaluation metrics for **Lasso**\n"
     ]
    }
   ],
   "source": [
    "from sklearn.model_selection import GridSearchCV\n",
    "from sklearn.linear_model import Lasso\n",
    "\n",
    "params = {\n",
    "    'regressor__predictor__alpha': [0.05, 0.3, 0.5, 1, 2, 3]\n",
    "}\n",
    "\n",
    "lasso_pipeline = create_pipeline(Lasso(random_state=seed))\n",
    "gs = GridSearchCV(lasso_pipeline, param_grid=params, cv=5, scoring=scoring, verbose=1, refit=regr_refit_strategy)\n",
    "gs.fit(X_train, y_train)\n",
    "print_metrics(gs.cv_results_, gs.best_index_, 'Lasso')\n",
    "predictors['Lasso'] = gs.best_estimator_"
   ]
  },
  {
   "cell_type": "code",
   "execution_count": 112,
   "metadata": {
    "ExecuteTime": {
     "end_time": "2025-05-23T20:12:51.150794191Z",
     "start_time": "2025-05-23T20:03:23.709133Z"
    },
    "colab": {
     "base_uri": "https://localhost:8080/"
    },
    "id": "QII9lmFg-CZh",
    "outputId": "ccee9278-4ece-44ff-9210-b7b73ab42a91"
   },
   "outputs": [
    {
     "data": {
      "text/html": [
       "<div>\n",
       "<style scoped>\n",
       "    .dataframe tbody tr th:only-of-type {\n",
       "        vertical-align: middle;\n",
       "    }\n",
       "\n",
       "    .dataframe tbody tr th {\n",
       "        vertical-align: top;\n",
       "    }\n",
       "\n",
       "    .dataframe thead th {\n",
       "        text-align: right;\n",
       "    }\n",
       "</style>\n",
       "<table border=\"1\" class=\"dataframe\">\n",
       "  <thead>\n",
       "    <tr style=\"text-align: right;\">\n",
       "      <th></th>\n",
       "      <th>0</th>\n",
       "    </tr>\n",
       "  </thead>\n",
       "  <tbody>\n",
       "    <tr>\n",
       "      <th>Model</th>\n",
       "      <td>LinearRegression</td>\n",
       "    </tr>\n",
       "    <tr>\n",
       "      <th>R² Score</th>\n",
       "      <td>0.160379</td>\n",
       "    </tr>\n",
       "    <tr>\n",
       "      <th>MSE</th>\n",
       "      <td>1.058135</td>\n",
       "    </tr>\n",
       "    <tr>\n",
       "      <th>Max Error</th>\n",
       "      <td>40.67851</td>\n",
       "    </tr>\n",
       "    <tr>\n",
       "      <th>Score Time (s)</th>\n",
       "      <td>0.037943</td>\n",
       "    </tr>\n",
       "  </tbody>\n",
       "</table>\n",
       "</div>"
      ],
      "text/plain": [
       "                               0\n",
       "Model           LinearRegression\n",
       "R² Score                0.160379\n",
       "MSE                     1.058135\n",
       "Max Error               40.67851\n",
       "Score Time (s)          0.037943"
      ]
     },
     "metadata": {},
     "output_type": "display_data"
    }
   ],
   "source": [
    "from sklearn.model_selection import GridSearchCV\n",
    "from sklearn.model_selection import cross_validate\n",
    "from sklearn.linear_model import LinearRegression\n",
    "\n",
    "lr_pipeline = create_pipeline(LinearRegression())\n",
    "scores = cross_validate(lr_pipeline, X_train, y_train, cv=5, scoring=scoring)\n",
    "new_row_data = {\n",
    "    'Model': 'LinearRegression',\n",
    "    'R² Score': np.mean(scores['test_r2']),\n",
    "    'MSE': -np.mean(scores['test_neg_mean_squared_error']),\n",
    "    'Max Error': -np.mean(scores['test_neg_max_error']),\n",
    "    'Score Time (s)': np.mean(scores['score_time'])\n",
    "}\n",
    "\n",
    "new_row_df = pd.DataFrame([new_row_data])\n",
    "display(new_row_df.T)\n",
    "metrics = pd.concat([metrics, new_row_df], ignore_index=True)\n",
    "predictors['LinearRegression'] = lr_pipeline"
   ]
  },
  {
   "cell_type": "markdown",
   "metadata": {
    "id": "5WWUqbCeiBHe"
   },
   "source": [
    "# imodels rules"
   ]
  },
  {
   "cell_type": "code",
   "execution_count": 102,
   "metadata": {
    "ExecuteTime": {
     "end_time": "2025-05-23T20:12:51.152013629Z",
     "start_time": "2025-05-23T19:57:16.634744Z"
    },
    "colab": {
     "base_uri": "https://localhost:8080/"
    },
    "id": "ItPIIGHQC8a2",
    "outputId": "80698aa5-313f-4127-ec79-a6cc61d217c8"
   },
   "outputs": [
    {
     "name": "stdout",
     "output_type": "stream",
     "text": [
      "Requirement already satisfied: imodels in ./.venv/lib/python3.9/site-packages (2.0.0)\r\n",
      "Requirement already satisfied: matplotlib in ./.venv/lib64/python3.9/site-packages (from imodels) (3.9.4)\r\n",
      "Requirement already satisfied: mlxtend>=0.18.0 in ./.venv/lib/python3.9/site-packages (from imodels) (0.23.4)\r\n",
      "Requirement already satisfied: numpy in ./.venv/lib64/python3.9/site-packages (from imodels) (2.0.2)\r\n",
      "Requirement already satisfied: pandas in ./.venv/lib64/python3.9/site-packages (from imodels) (2.2.3)\r\n",
      "Requirement already satisfied: requests in ./.venv/lib/python3.9/site-packages (from imodels) (2.32.3)\r\n",
      "Requirement already satisfied: scipy in ./.venv/lib64/python3.9/site-packages (from imodels) (1.13.1)\r\n",
      "Requirement already satisfied: scikit-learn>=1.2.0 in ./.venv/lib64/python3.9/site-packages (from imodels) (1.6.1)\r\n",
      "Requirement already satisfied: tqdm in ./.venv/lib/python3.9/site-packages (from imodels) (4.67.1)\r\n",
      "Requirement already satisfied: joblib>=0.13.2 in ./.venv/lib/python3.9/site-packages (from mlxtend>=0.18.0->imodels) (1.5.0)\r\n",
      "Requirement already satisfied: contourpy>=1.0.1 in ./.venv/lib64/python3.9/site-packages (from matplotlib->imodels) (1.3.0)\r\n",
      "Requirement already satisfied: cycler>=0.10 in ./.venv/lib/python3.9/site-packages (from matplotlib->imodels) (0.12.1)\r\n",
      "Requirement already satisfied: fonttools>=4.22.0 in ./.venv/lib64/python3.9/site-packages (from matplotlib->imodels) (4.57.0)\r\n",
      "Requirement already satisfied: kiwisolver>=1.3.1 in ./.venv/lib64/python3.9/site-packages (from matplotlib->imodels) (1.4.7)\r\n",
      "Requirement already satisfied: packaging>=20.0 in ./.venv/lib/python3.9/site-packages (from matplotlib->imodels) (25.0)\r\n",
      "Requirement already satisfied: pillow>=8 in ./.venv/lib64/python3.9/site-packages (from matplotlib->imodels) (11.2.1)\r\n",
      "Requirement already satisfied: pyparsing>=2.3.1 in ./.venv/lib/python3.9/site-packages (from matplotlib->imodels) (3.2.3)\r\n",
      "Requirement already satisfied: python-dateutil>=2.7 in ./.venv/lib/python3.9/site-packages (from matplotlib->imodels) (2.9.0.post0)\r\n",
      "Requirement already satisfied: importlib-resources>=3.2.0 in ./.venv/lib/python3.9/site-packages (from matplotlib->imodels) (6.5.2)\r\n",
      "Requirement already satisfied: pytz>=2020.1 in ./.venv/lib/python3.9/site-packages (from pandas->imodels) (2025.2)\r\n",
      "Requirement already satisfied: tzdata>=2022.7 in ./.venv/lib/python3.9/site-packages (from pandas->imodels) (2025.2)\r\n",
      "Requirement already satisfied: threadpoolctl>=3.1.0 in ./.venv/lib/python3.9/site-packages (from scikit-learn>=1.2.0->imodels) (3.6.0)\r\n",
      "Requirement already satisfied: charset-normalizer<4,>=2 in ./.venv/lib64/python3.9/site-packages (from requests->imodels) (3.4.2)\r\n",
      "Requirement already satisfied: idna<4,>=2.5 in ./.venv/lib/python3.9/site-packages (from requests->imodels) (3.10)\r\n",
      "Requirement already satisfied: urllib3<3,>=1.21.1 in ./.venv/lib/python3.9/site-packages (from requests->imodels) (2.4.0)\r\n",
      "Requirement already satisfied: certifi>=2017.4.17 in ./.venv/lib/python3.9/site-packages (from requests->imodels) (2025.4.26)\r\n",
      "Requirement already satisfied: zipp>=3.1.0 in ./.venv/lib/python3.9/site-packages (from importlib-resources>=3.2.0->matplotlib->imodels) (3.21.0)\r\n",
      "Requirement already satisfied: six>=1.5 in ./.venv/lib/python3.9/site-packages (from python-dateutil>=2.7->matplotlib->imodels) (1.17.0)\r\n",
      "\r\n",
      "\u001B[1m[\u001B[0m\u001B[34;49mnotice\u001B[0m\u001B[1;39;49m]\u001B[0m\u001B[39;49m A new release of pip is available: \u001B[0m\u001B[31;49m25.0.1\u001B[0m\u001B[39;49m -> \u001B[0m\u001B[32;49m25.1.1\u001B[0m\r\n",
      "\u001B[1m[\u001B[0m\u001B[34;49mnotice\u001B[0m\u001B[1;39;49m]\u001B[0m\u001B[39;49m To update, run: \u001B[0m\u001B[32;49mpip install --upgrade pip\u001B[0m\r\n"
     ]
    }
   ],
   "source": [
    "!pip install imodels"
   ]
  },
  {
   "cell_type": "code",
   "execution_count": null,
   "metadata": {
    "colab": {
     "base_uri": "https://localhost:8080/",
     "height": 831
    },
    "id": "ouPeUAZNHz_f",
    "outputId": "937bcc12-b730-4295-8fe0-50adfb08db39"
   },
   "outputs": [],
   "source": [
    "from imodels import GreedyTreeRegressor\n",
    "\n",
    "params = {\n",
    "    'regressor__predictor__min_samples_leaf': [5, 10, 20],\n",
    "    'regressor__predictor__max_depth': [3, 5, 10],\n",
    "    'regressor__predictor__max_features': [None, 'sqrt']\n",
    "}\n",
    "\n",
    "gtr_pipeline = create_pipeline(GreedyTreeRegressor(random_state=seed))\n",
    "gs = GridSearchCV(gtr_pipeline, param_grid=params, cv=5, scoring=scoring, verbose=1, refit=regr_refit_strategy)\n",
    "gs.fit(X_train, y_train)\n",
    "print_metrics(gs.cv_results_, gs.best_index_, 'GreedyTreeRegressor')\n",
    "predictors['GreedyTreeRegressor'] = gs.best_estimator_"
   ]
  },
  {
   "cell_type": "code",
   "execution_count": 116,
   "metadata": {
    "ExecuteTime": {
     "end_time": "2025-05-23T20:12:51.157689673Z",
     "start_time": "2025-05-23T20:06:54.414750Z"
    },
    "colab": {
     "base_uri": "https://localhost:8080/",
     "height": 800
    },
    "id": "N771M6MqQgOA",
    "outputId": "7ff0677c-6393-456b-b732-297126b556d5"
   },
   "outputs": [
    {
     "name": "stdout",
     "output_type": "stream",
     "text": [
      "Fitting 5 folds for each of 12 candidates, totalling 60 fits\n"
     ]
    },
    {
     "ename": "ValueError",
     "evalue": "Invalid parameter 'predictor' for estimator TransformedTargetRegressor(func=<ufunc 'log1p'>, inverse_func=<ufunc 'expm1'>,\n                           regressor=Pipeline(steps=[('imputer',\n                                                      SimpleImputer(fill_value=0,\n                                                                    strategy='constant')),\n                                                     ('scaler',\n                                                      StandardScaler()),\n                                                     ('predictor',\n                                                      BoostedRulesRegressor(random_state=0))])). Valid parameters are: ['check_inverse', 'func', 'inverse_func', 'regressor', 'transformer'].",
     "output_type": "error",
     "traceback": [
      "\u001B[0;31m---------------------------------------------------------------------------\u001B[0m",
      "\u001B[0;31mValueError\u001B[0m                                Traceback (most recent call last)",
      "Cell \u001B[0;32mIn[116], line 10\u001B[0m\n\u001B[1;32m      8\u001B[0m brr_pipeline \u001B[38;5;241m=\u001B[39m create_pipeline(BoostedRulesRegressor(random_state\u001B[38;5;241m=\u001B[39mseed))\n\u001B[1;32m      9\u001B[0m gs \u001B[38;5;241m=\u001B[39m GridSearchCV(brr_pipeline, param_grid\u001B[38;5;241m=\u001B[39mparams, cv\u001B[38;5;241m=\u001B[39m\u001B[38;5;241m5\u001B[39m, scoring\u001B[38;5;241m=\u001B[39mscoring, verbose\u001B[38;5;241m=\u001B[39m\u001B[38;5;241m1\u001B[39m, refit\u001B[38;5;241m=\u001B[39mregr_refit_strategy)\n\u001B[0;32m---> 10\u001B[0m \u001B[43mgs\u001B[49m\u001B[38;5;241;43m.\u001B[39;49m\u001B[43mfit\u001B[49m\u001B[43m(\u001B[49m\u001B[43mX_train\u001B[49m\u001B[43m,\u001B[49m\u001B[43m \u001B[49m\u001B[43my_train\u001B[49m\u001B[43m)\u001B[49m\n\u001B[1;32m     11\u001B[0m print_metrics(gs\u001B[38;5;241m.\u001B[39mcv_results_, gs\u001B[38;5;241m.\u001B[39mbest_index_, \u001B[38;5;124m'\u001B[39m\u001B[38;5;124mBoostedRulesRegressor\u001B[39m\u001B[38;5;124m'\u001B[39m)\n\u001B[1;32m     12\u001B[0m predictors[\u001B[38;5;124m'\u001B[39m\u001B[38;5;124mBoostedRulesRegressor\u001B[39m\u001B[38;5;124m'\u001B[39m] \u001B[38;5;241m=\u001B[39m gs\u001B[38;5;241m.\u001B[39mbest_estimator_\n",
      "File \u001B[0;32m~/Documents/projects/bnb-branching-strategy-learning/.venv/lib64/python3.9/site-packages/sklearn/base.py:1389\u001B[0m, in \u001B[0;36m_fit_context.<locals>.decorator.<locals>.wrapper\u001B[0;34m(estimator, *args, **kwargs)\u001B[0m\n\u001B[1;32m   1382\u001B[0m     estimator\u001B[38;5;241m.\u001B[39m_validate_params()\n\u001B[1;32m   1384\u001B[0m \u001B[38;5;28;01mwith\u001B[39;00m config_context(\n\u001B[1;32m   1385\u001B[0m     skip_parameter_validation\u001B[38;5;241m=\u001B[39m(\n\u001B[1;32m   1386\u001B[0m         prefer_skip_nested_validation \u001B[38;5;129;01mor\u001B[39;00m global_skip_validation\n\u001B[1;32m   1387\u001B[0m     )\n\u001B[1;32m   1388\u001B[0m ):\n\u001B[0;32m-> 1389\u001B[0m     \u001B[38;5;28;01mreturn\u001B[39;00m \u001B[43mfit_method\u001B[49m\u001B[43m(\u001B[49m\u001B[43mestimator\u001B[49m\u001B[43m,\u001B[49m\u001B[43m \u001B[49m\u001B[38;5;241;43m*\u001B[39;49m\u001B[43margs\u001B[49m\u001B[43m,\u001B[49m\u001B[43m \u001B[49m\u001B[38;5;241;43m*\u001B[39;49m\u001B[38;5;241;43m*\u001B[39;49m\u001B[43mkwargs\u001B[49m\u001B[43m)\u001B[49m\n",
      "File \u001B[0;32m~/Documents/projects/bnb-branching-strategy-learning/.venv/lib64/python3.9/site-packages/sklearn/model_selection/_search.py:1024\u001B[0m, in \u001B[0;36mBaseSearchCV.fit\u001B[0;34m(self, X, y, **params)\u001B[0m\n\u001B[1;32m   1018\u001B[0m     results \u001B[38;5;241m=\u001B[39m \u001B[38;5;28mself\u001B[39m\u001B[38;5;241m.\u001B[39m_format_results(\n\u001B[1;32m   1019\u001B[0m         all_candidate_params, n_splits, all_out, all_more_results\n\u001B[1;32m   1020\u001B[0m     )\n\u001B[1;32m   1022\u001B[0m     \u001B[38;5;28;01mreturn\u001B[39;00m results\n\u001B[0;32m-> 1024\u001B[0m \u001B[38;5;28;43mself\u001B[39;49m\u001B[38;5;241;43m.\u001B[39;49m\u001B[43m_run_search\u001B[49m\u001B[43m(\u001B[49m\u001B[43mevaluate_candidates\u001B[49m\u001B[43m)\u001B[49m\n\u001B[1;32m   1026\u001B[0m \u001B[38;5;66;03m# multimetric is determined here because in the case of a callable\u001B[39;00m\n\u001B[1;32m   1027\u001B[0m \u001B[38;5;66;03m# self.scoring the return type is only known after calling\u001B[39;00m\n\u001B[1;32m   1028\u001B[0m first_test_score \u001B[38;5;241m=\u001B[39m all_out[\u001B[38;5;241m0\u001B[39m][\u001B[38;5;124m\"\u001B[39m\u001B[38;5;124mtest_scores\u001B[39m\u001B[38;5;124m\"\u001B[39m]\n",
      "File \u001B[0;32m~/Documents/projects/bnb-branching-strategy-learning/.venv/lib64/python3.9/site-packages/sklearn/model_selection/_search.py:1571\u001B[0m, in \u001B[0;36mGridSearchCV._run_search\u001B[0;34m(self, evaluate_candidates)\u001B[0m\n\u001B[1;32m   1569\u001B[0m \u001B[38;5;28;01mdef\u001B[39;00m\u001B[38;5;250m \u001B[39m\u001B[38;5;21m_run_search\u001B[39m(\u001B[38;5;28mself\u001B[39m, evaluate_candidates):\n\u001B[1;32m   1570\u001B[0m \u001B[38;5;250m    \u001B[39m\u001B[38;5;124;03m\"\"\"Search all candidates in param_grid\"\"\"\u001B[39;00m\n\u001B[0;32m-> 1571\u001B[0m     \u001B[43mevaluate_candidates\u001B[49m\u001B[43m(\u001B[49m\u001B[43mParameterGrid\u001B[49m\u001B[43m(\u001B[49m\u001B[38;5;28;43mself\u001B[39;49m\u001B[38;5;241;43m.\u001B[39;49m\u001B[43mparam_grid\u001B[49m\u001B[43m)\u001B[49m\u001B[43m)\u001B[49m\n",
      "File \u001B[0;32m~/Documents/projects/bnb-branching-strategy-learning/.venv/lib64/python3.9/site-packages/sklearn/model_selection/_search.py:970\u001B[0m, in \u001B[0;36mBaseSearchCV.fit.<locals>.evaluate_candidates\u001B[0;34m(candidate_params, cv, more_results)\u001B[0m\n\u001B[1;32m    962\u001B[0m \u001B[38;5;28;01mif\u001B[39;00m \u001B[38;5;28mself\u001B[39m\u001B[38;5;241m.\u001B[39mverbose \u001B[38;5;241m>\u001B[39m \u001B[38;5;241m0\u001B[39m:\n\u001B[1;32m    963\u001B[0m     \u001B[38;5;28mprint\u001B[39m(\n\u001B[1;32m    964\u001B[0m         \u001B[38;5;124m\"\u001B[39m\u001B[38;5;124mFitting \u001B[39m\u001B[38;5;132;01m{0}\u001B[39;00m\u001B[38;5;124m folds for each of \u001B[39m\u001B[38;5;132;01m{1}\u001B[39;00m\u001B[38;5;124m candidates,\u001B[39m\u001B[38;5;124m\"\u001B[39m\n\u001B[1;32m    965\u001B[0m         \u001B[38;5;124m\"\u001B[39m\u001B[38;5;124m totalling \u001B[39m\u001B[38;5;132;01m{2}\u001B[39;00m\u001B[38;5;124m fits\u001B[39m\u001B[38;5;124m\"\u001B[39m\u001B[38;5;241m.\u001B[39mformat(\n\u001B[1;32m    966\u001B[0m             n_splits, n_candidates, n_candidates \u001B[38;5;241m*\u001B[39m n_splits\n\u001B[1;32m    967\u001B[0m         )\n\u001B[1;32m    968\u001B[0m     )\n\u001B[0;32m--> 970\u001B[0m out \u001B[38;5;241m=\u001B[39m \u001B[43mparallel\u001B[49m\u001B[43m(\u001B[49m\n\u001B[1;32m    971\u001B[0m \u001B[43m    \u001B[49m\u001B[43mdelayed\u001B[49m\u001B[43m(\u001B[49m\u001B[43m_fit_and_score\u001B[49m\u001B[43m)\u001B[49m\u001B[43m(\u001B[49m\n\u001B[1;32m    972\u001B[0m \u001B[43m        \u001B[49m\u001B[43mclone\u001B[49m\u001B[43m(\u001B[49m\u001B[43mbase_estimator\u001B[49m\u001B[43m)\u001B[49m\u001B[43m,\u001B[49m\n\u001B[1;32m    973\u001B[0m \u001B[43m        \u001B[49m\u001B[43mX\u001B[49m\u001B[43m,\u001B[49m\n\u001B[1;32m    974\u001B[0m \u001B[43m        \u001B[49m\u001B[43my\u001B[49m\u001B[43m,\u001B[49m\n\u001B[1;32m    975\u001B[0m \u001B[43m        \u001B[49m\u001B[43mtrain\u001B[49m\u001B[38;5;241;43m=\u001B[39;49m\u001B[43mtrain\u001B[49m\u001B[43m,\u001B[49m\n\u001B[1;32m    976\u001B[0m \u001B[43m        \u001B[49m\u001B[43mtest\u001B[49m\u001B[38;5;241;43m=\u001B[39;49m\u001B[43mtest\u001B[49m\u001B[43m,\u001B[49m\n\u001B[1;32m    977\u001B[0m \u001B[43m        \u001B[49m\u001B[43mparameters\u001B[49m\u001B[38;5;241;43m=\u001B[39;49m\u001B[43mparameters\u001B[49m\u001B[43m,\u001B[49m\n\u001B[1;32m    978\u001B[0m \u001B[43m        \u001B[49m\u001B[43msplit_progress\u001B[49m\u001B[38;5;241;43m=\u001B[39;49m\u001B[43m(\u001B[49m\u001B[43msplit_idx\u001B[49m\u001B[43m,\u001B[49m\u001B[43m \u001B[49m\u001B[43mn_splits\u001B[49m\u001B[43m)\u001B[49m\u001B[43m,\u001B[49m\n\u001B[1;32m    979\u001B[0m \u001B[43m        \u001B[49m\u001B[43mcandidate_progress\u001B[49m\u001B[38;5;241;43m=\u001B[39;49m\u001B[43m(\u001B[49m\u001B[43mcand_idx\u001B[49m\u001B[43m,\u001B[49m\u001B[43m \u001B[49m\u001B[43mn_candidates\u001B[49m\u001B[43m)\u001B[49m\u001B[43m,\u001B[49m\n\u001B[1;32m    980\u001B[0m \u001B[43m        \u001B[49m\u001B[38;5;241;43m*\u001B[39;49m\u001B[38;5;241;43m*\u001B[39;49m\u001B[43mfit_and_score_kwargs\u001B[49m\u001B[43m,\u001B[49m\n\u001B[1;32m    981\u001B[0m \u001B[43m    \u001B[49m\u001B[43m)\u001B[49m\n\u001B[1;32m    982\u001B[0m \u001B[43m    \u001B[49m\u001B[38;5;28;43;01mfor\u001B[39;49;00m\u001B[43m \u001B[49m\u001B[43m(\u001B[49m\u001B[43mcand_idx\u001B[49m\u001B[43m,\u001B[49m\u001B[43m \u001B[49m\u001B[43mparameters\u001B[49m\u001B[43m)\u001B[49m\u001B[43m,\u001B[49m\u001B[43m \u001B[49m\u001B[43m(\u001B[49m\u001B[43msplit_idx\u001B[49m\u001B[43m,\u001B[49m\u001B[43m \u001B[49m\u001B[43m(\u001B[49m\u001B[43mtrain\u001B[49m\u001B[43m,\u001B[49m\u001B[43m \u001B[49m\u001B[43mtest\u001B[49m\u001B[43m)\u001B[49m\u001B[43m)\u001B[49m\u001B[43m \u001B[49m\u001B[38;5;129;43;01min\u001B[39;49;00m\u001B[43m \u001B[49m\u001B[43mproduct\u001B[49m\u001B[43m(\u001B[49m\n\u001B[1;32m    983\u001B[0m \u001B[43m        \u001B[49m\u001B[38;5;28;43menumerate\u001B[39;49m\u001B[43m(\u001B[49m\u001B[43mcandidate_params\u001B[49m\u001B[43m)\u001B[49m\u001B[43m,\u001B[49m\n\u001B[1;32m    984\u001B[0m \u001B[43m        \u001B[49m\u001B[38;5;28;43menumerate\u001B[39;49m\u001B[43m(\u001B[49m\u001B[43mcv\u001B[49m\u001B[38;5;241;43m.\u001B[39;49m\u001B[43msplit\u001B[49m\u001B[43m(\u001B[49m\u001B[43mX\u001B[49m\u001B[43m,\u001B[49m\u001B[43m \u001B[49m\u001B[43my\u001B[49m\u001B[43m,\u001B[49m\u001B[43m \u001B[49m\u001B[38;5;241;43m*\u001B[39;49m\u001B[38;5;241;43m*\u001B[39;49m\u001B[43mrouted_params\u001B[49m\u001B[38;5;241;43m.\u001B[39;49m\u001B[43msplitter\u001B[49m\u001B[38;5;241;43m.\u001B[39;49m\u001B[43msplit\u001B[49m\u001B[43m)\u001B[49m\u001B[43m)\u001B[49m\u001B[43m,\u001B[49m\n\u001B[1;32m    985\u001B[0m \u001B[43m    \u001B[49m\u001B[43m)\u001B[49m\n\u001B[1;32m    986\u001B[0m \u001B[43m\u001B[49m\u001B[43m)\u001B[49m\n\u001B[1;32m    988\u001B[0m \u001B[38;5;28;01mif\u001B[39;00m \u001B[38;5;28mlen\u001B[39m(out) \u001B[38;5;241m<\u001B[39m \u001B[38;5;241m1\u001B[39m:\n\u001B[1;32m    989\u001B[0m     \u001B[38;5;28;01mraise\u001B[39;00m \u001B[38;5;167;01mValueError\u001B[39;00m(\n\u001B[1;32m    990\u001B[0m         \u001B[38;5;124m\"\u001B[39m\u001B[38;5;124mNo fits were performed. \u001B[39m\u001B[38;5;124m\"\u001B[39m\n\u001B[1;32m    991\u001B[0m         \u001B[38;5;124m\"\u001B[39m\u001B[38;5;124mWas the CV iterator empty? \u001B[39m\u001B[38;5;124m\"\u001B[39m\n\u001B[1;32m    992\u001B[0m         \u001B[38;5;124m\"\u001B[39m\u001B[38;5;124mWere there no candidates?\u001B[39m\u001B[38;5;124m\"\u001B[39m\n\u001B[1;32m    993\u001B[0m     )\n",
      "File \u001B[0;32m~/Documents/projects/bnb-branching-strategy-learning/.venv/lib64/python3.9/site-packages/sklearn/utils/parallel.py:77\u001B[0m, in \u001B[0;36mParallel.__call__\u001B[0;34m(self, iterable)\u001B[0m\n\u001B[1;32m     72\u001B[0m config \u001B[38;5;241m=\u001B[39m get_config()\n\u001B[1;32m     73\u001B[0m iterable_with_config \u001B[38;5;241m=\u001B[39m (\n\u001B[1;32m     74\u001B[0m     (_with_config(delayed_func, config), args, kwargs)\n\u001B[1;32m     75\u001B[0m     \u001B[38;5;28;01mfor\u001B[39;00m delayed_func, args, kwargs \u001B[38;5;129;01min\u001B[39;00m iterable\n\u001B[1;32m     76\u001B[0m )\n\u001B[0;32m---> 77\u001B[0m \u001B[38;5;28;01mreturn\u001B[39;00m \u001B[38;5;28;43msuper\u001B[39;49m\u001B[43m(\u001B[49m\u001B[43m)\u001B[49m\u001B[38;5;241;43m.\u001B[39;49m\u001B[38;5;21;43m__call__\u001B[39;49m\u001B[43m(\u001B[49m\u001B[43miterable_with_config\u001B[49m\u001B[43m)\u001B[49m\n",
      "File \u001B[0;32m~/Documents/projects/bnb-branching-strategy-learning/.venv/lib/python3.9/site-packages/joblib/parallel.py:1985\u001B[0m, in \u001B[0;36mParallel.__call__\u001B[0;34m(self, iterable)\u001B[0m\n\u001B[1;32m   1983\u001B[0m     output \u001B[38;5;241m=\u001B[39m \u001B[38;5;28mself\u001B[39m\u001B[38;5;241m.\u001B[39m_get_sequential_output(iterable)\n\u001B[1;32m   1984\u001B[0m     \u001B[38;5;28mnext\u001B[39m(output)\n\u001B[0;32m-> 1985\u001B[0m     \u001B[38;5;28;01mreturn\u001B[39;00m output \u001B[38;5;28;01mif\u001B[39;00m \u001B[38;5;28mself\u001B[39m\u001B[38;5;241m.\u001B[39mreturn_generator \u001B[38;5;28;01melse\u001B[39;00m \u001B[38;5;28;43mlist\u001B[39;49m\u001B[43m(\u001B[49m\u001B[43moutput\u001B[49m\u001B[43m)\u001B[49m\n\u001B[1;32m   1987\u001B[0m \u001B[38;5;66;03m# Let's create an ID that uniquely identifies the current call. If the\u001B[39;00m\n\u001B[1;32m   1988\u001B[0m \u001B[38;5;66;03m# call is interrupted early and that the same instance is immediately\u001B[39;00m\n\u001B[1;32m   1989\u001B[0m \u001B[38;5;66;03m# reused, this id will be used to prevent workers that were\u001B[39;00m\n\u001B[1;32m   1990\u001B[0m \u001B[38;5;66;03m# concurrently finalizing a task from the previous call to run the\u001B[39;00m\n\u001B[1;32m   1991\u001B[0m \u001B[38;5;66;03m# callback.\u001B[39;00m\n\u001B[1;32m   1992\u001B[0m \u001B[38;5;28;01mwith\u001B[39;00m \u001B[38;5;28mself\u001B[39m\u001B[38;5;241m.\u001B[39m_lock:\n",
      "File \u001B[0;32m~/Documents/projects/bnb-branching-strategy-learning/.venv/lib/python3.9/site-packages/joblib/parallel.py:1913\u001B[0m, in \u001B[0;36mParallel._get_sequential_output\u001B[0;34m(self, iterable)\u001B[0m\n\u001B[1;32m   1911\u001B[0m \u001B[38;5;28mself\u001B[39m\u001B[38;5;241m.\u001B[39mn_dispatched_batches \u001B[38;5;241m+\u001B[39m\u001B[38;5;241m=\u001B[39m \u001B[38;5;241m1\u001B[39m\n\u001B[1;32m   1912\u001B[0m \u001B[38;5;28mself\u001B[39m\u001B[38;5;241m.\u001B[39mn_dispatched_tasks \u001B[38;5;241m+\u001B[39m\u001B[38;5;241m=\u001B[39m \u001B[38;5;241m1\u001B[39m\n\u001B[0;32m-> 1913\u001B[0m res \u001B[38;5;241m=\u001B[39m \u001B[43mfunc\u001B[49m\u001B[43m(\u001B[49m\u001B[38;5;241;43m*\u001B[39;49m\u001B[43margs\u001B[49m\u001B[43m,\u001B[49m\u001B[43m \u001B[49m\u001B[38;5;241;43m*\u001B[39;49m\u001B[38;5;241;43m*\u001B[39;49m\u001B[43mkwargs\u001B[49m\u001B[43m)\u001B[49m\n\u001B[1;32m   1914\u001B[0m \u001B[38;5;28mself\u001B[39m\u001B[38;5;241m.\u001B[39mn_completed_tasks \u001B[38;5;241m+\u001B[39m\u001B[38;5;241m=\u001B[39m \u001B[38;5;241m1\u001B[39m\n\u001B[1;32m   1915\u001B[0m \u001B[38;5;28mself\u001B[39m\u001B[38;5;241m.\u001B[39mprint_progress()\n",
      "File \u001B[0;32m~/Documents/projects/bnb-branching-strategy-learning/.venv/lib64/python3.9/site-packages/sklearn/utils/parallel.py:139\u001B[0m, in \u001B[0;36m_FuncWrapper.__call__\u001B[0;34m(self, *args, **kwargs)\u001B[0m\n\u001B[1;32m    137\u001B[0m     config \u001B[38;5;241m=\u001B[39m {}\n\u001B[1;32m    138\u001B[0m \u001B[38;5;28;01mwith\u001B[39;00m config_context(\u001B[38;5;241m*\u001B[39m\u001B[38;5;241m*\u001B[39mconfig):\n\u001B[0;32m--> 139\u001B[0m     \u001B[38;5;28;01mreturn\u001B[39;00m \u001B[38;5;28;43mself\u001B[39;49m\u001B[38;5;241;43m.\u001B[39;49m\u001B[43mfunction\u001B[49m\u001B[43m(\u001B[49m\u001B[38;5;241;43m*\u001B[39;49m\u001B[43margs\u001B[49m\u001B[43m,\u001B[49m\u001B[43m \u001B[49m\u001B[38;5;241;43m*\u001B[39;49m\u001B[38;5;241;43m*\u001B[39;49m\u001B[43mkwargs\u001B[49m\u001B[43m)\u001B[49m\n",
      "File \u001B[0;32m~/Documents/projects/bnb-branching-strategy-learning/.venv/lib64/python3.9/site-packages/sklearn/model_selection/_validation.py:854\u001B[0m, in \u001B[0;36m_fit_and_score\u001B[0;34m(estimator, X, y, scorer, train, test, verbose, parameters, fit_params, score_params, return_train_score, return_parameters, return_n_test_samples, return_times, return_estimator, split_progress, candidate_progress, error_score)\u001B[0m\n\u001B[1;32m    847\u001B[0m score_params_test \u001B[38;5;241m=\u001B[39m _check_method_params(X, params\u001B[38;5;241m=\u001B[39mscore_params, indices\u001B[38;5;241m=\u001B[39mtest)\n\u001B[1;32m    849\u001B[0m \u001B[38;5;28;01mif\u001B[39;00m parameters \u001B[38;5;129;01mis\u001B[39;00m \u001B[38;5;129;01mnot\u001B[39;00m \u001B[38;5;28;01mNone\u001B[39;00m:\n\u001B[1;32m    850\u001B[0m     \u001B[38;5;66;03m# here we clone the parameters, since sometimes the parameters\u001B[39;00m\n\u001B[1;32m    851\u001B[0m     \u001B[38;5;66;03m# themselves might be estimators, e.g. when we search over different\u001B[39;00m\n\u001B[1;32m    852\u001B[0m     \u001B[38;5;66;03m# estimators in a pipeline.\u001B[39;00m\n\u001B[1;32m    853\u001B[0m     \u001B[38;5;66;03m# ref: https://github.com/scikit-learn/scikit-learn/pull/26786\u001B[39;00m\n\u001B[0;32m--> 854\u001B[0m     estimator \u001B[38;5;241m=\u001B[39m \u001B[43mestimator\u001B[49m\u001B[38;5;241;43m.\u001B[39;49m\u001B[43mset_params\u001B[49m\u001B[43m(\u001B[49m\u001B[38;5;241;43m*\u001B[39;49m\u001B[38;5;241;43m*\u001B[39;49m\u001B[43mclone\u001B[49m\u001B[43m(\u001B[49m\u001B[43mparameters\u001B[49m\u001B[43m,\u001B[49m\u001B[43m \u001B[49m\u001B[43msafe\u001B[49m\u001B[38;5;241;43m=\u001B[39;49m\u001B[38;5;28;43;01mFalse\u001B[39;49;00m\u001B[43m)\u001B[49m\u001B[43m)\u001B[49m\n\u001B[1;32m    856\u001B[0m start_time \u001B[38;5;241m=\u001B[39m time\u001B[38;5;241m.\u001B[39mtime()\n\u001B[1;32m    858\u001B[0m X_train, y_train \u001B[38;5;241m=\u001B[39m _safe_split(estimator, X, y, train)\n",
      "File \u001B[0;32m~/Documents/projects/bnb-branching-strategy-learning/.venv/lib64/python3.9/site-packages/sklearn/base.py:283\u001B[0m, in \u001B[0;36mBaseEstimator.set_params\u001B[0;34m(self, **params)\u001B[0m\n\u001B[1;32m    281\u001B[0m \u001B[38;5;28;01mif\u001B[39;00m key \u001B[38;5;129;01mnot\u001B[39;00m \u001B[38;5;129;01min\u001B[39;00m valid_params:\n\u001B[1;32m    282\u001B[0m     local_valid_params \u001B[38;5;241m=\u001B[39m \u001B[38;5;28mself\u001B[39m\u001B[38;5;241m.\u001B[39m_get_param_names()\n\u001B[0;32m--> 283\u001B[0m     \u001B[38;5;28;01mraise\u001B[39;00m \u001B[38;5;167;01mValueError\u001B[39;00m(\n\u001B[1;32m    284\u001B[0m         \u001B[38;5;124mf\u001B[39m\u001B[38;5;124m\"\u001B[39m\u001B[38;5;124mInvalid parameter \u001B[39m\u001B[38;5;132;01m{\u001B[39;00mkey\u001B[38;5;132;01m!r}\u001B[39;00m\u001B[38;5;124m for estimator \u001B[39m\u001B[38;5;132;01m{\u001B[39;00m\u001B[38;5;28mself\u001B[39m\u001B[38;5;132;01m}\u001B[39;00m\u001B[38;5;124m. \u001B[39m\u001B[38;5;124m\"\u001B[39m\n\u001B[1;32m    285\u001B[0m         \u001B[38;5;124mf\u001B[39m\u001B[38;5;124m\"\u001B[39m\u001B[38;5;124mValid parameters are: \u001B[39m\u001B[38;5;132;01m{\u001B[39;00mlocal_valid_params\u001B[38;5;132;01m!r}\u001B[39;00m\u001B[38;5;124m.\u001B[39m\u001B[38;5;124m\"\u001B[39m\n\u001B[1;32m    286\u001B[0m     )\n\u001B[1;32m    288\u001B[0m \u001B[38;5;28;01mif\u001B[39;00m delim:\n\u001B[1;32m    289\u001B[0m     nested_params[key][sub_key] \u001B[38;5;241m=\u001B[39m value\n",
      "\u001B[0;31mValueError\u001B[0m: Invalid parameter 'predictor' for estimator TransformedTargetRegressor(func=<ufunc 'log1p'>, inverse_func=<ufunc 'expm1'>,\n                           regressor=Pipeline(steps=[('imputer',\n                                                      SimpleImputer(fill_value=0,\n                                                                    strategy='constant')),\n                                                     ('scaler',\n                                                      StandardScaler()),\n                                                     ('predictor',\n                                                      BoostedRulesRegressor(random_state=0))])). Valid parameters are: ['check_inverse', 'func', 'inverse_func', 'regressor', 'transformer']."
     ]
    }
   ],
   "source": [
    "from imodels import BoostedRulesRegressor\n",
    "\n",
    "params = {\n",
    "    'regressor__predictor__learning_rate': [0.5, 1, 5, 8],\n",
    "    'regressor__predictor__n_estimators': [2, 5, 7]\n",
    "}\n",
    "\n",
    "brr_pipeline = create_pipeline(BoostedRulesRegressor(random_state=seed))\n",
    "gs = GridSearchCV(brr_pipeline, param_grid=params, cv=5, scoring=scoring, verbose=1, refit=regr_refit_strategy)\n",
    "gs.fit(X_train, y_train)\n",
    "print_metrics(gs.cv_results_, gs.best_index_, 'BoostedRulesRegressor')\n",
    "predictors['BoostedRulesRegressor'] = gs.best_estimator_"
   ]
  },
  {
   "cell_type": "code",
   "execution_count": null,
   "metadata": {},
   "outputs": [],
   "source": [
    "!pip install lightgbm"
   ]
  },
  {
   "cell_type": "code",
   "execution_count": 117,
   "metadata": {
    "ExecuteTime": {
     "end_time": "2025-05-23T20:12:51.159065836Z",
     "start_time": "2025-05-23T20:10:10.529532Z"
    },
    "colab": {
     "base_uri": "https://localhost:8080/",
     "height": 1000
    },
    "id": "AemF-BeJQ35-",
    "outputId": "831b0e75-6deb-4307-8f59-8b2b26bbcc85"
   },
   "outputs": [
    {
     "name": "stdout",
     "output_type": "stream",
     "text": [
      "Fitting 5 folds for each of 18 candidates, totalling 90 fits\n"
     ]
    },
    {
     "name": "stderr",
     "output_type": "stream",
     "text": [
      "/home/elena/Documents/projects/bnb-branching-strategy-learning/.venv/lib64/python3.9/site-packages/sklearn/utils/validation.py:2739: UserWarning: X does not have valid feature names, but LGBMRegressor was fitted with feature names\n",
      "  warnings.warn(\n",
      "/home/elena/Documents/projects/bnb-branching-strategy-learning/.venv/lib64/python3.9/site-packages/sklearn/utils/validation.py:2739: UserWarning: X does not have valid feature names, but LGBMRegressor was fitted with feature names\n",
      "  warnings.warn(\n",
      "/home/elena/Documents/projects/bnb-branching-strategy-learning/.venv/lib64/python3.9/site-packages/sklearn/utils/validation.py:2739: UserWarning: X does not have valid feature names, but LGBMRegressor was fitted with feature names\n",
      "  warnings.warn(\n",
      "/home/elena/Documents/projects/bnb-branching-strategy-learning/.venv/lib64/python3.9/site-packages/sklearn/utils/validation.py:2739: UserWarning: X does not have valid feature names, but LGBMRegressor was fitted with feature names\n",
      "  warnings.warn(\n",
      "/home/elena/Documents/projects/bnb-branching-strategy-learning/.venv/lib64/python3.9/site-packages/sklearn/utils/validation.py:2739: UserWarning: X does not have valid feature names, but LGBMRegressor was fitted with feature names\n",
      "  warnings.warn(\n",
      "/home/elena/Documents/projects/bnb-branching-strategy-learning/.venv/lib64/python3.9/site-packages/sklearn/utils/validation.py:2739: UserWarning: X does not have valid feature names, but LGBMRegressor was fitted with feature names\n",
      "  warnings.warn(\n",
      "/home/elena/Documents/projects/bnb-branching-strategy-learning/.venv/lib64/python3.9/site-packages/sklearn/utils/validation.py:2739: UserWarning: X does not have valid feature names, but LGBMRegressor was fitted with feature names\n",
      "  warnings.warn(\n",
      "/home/elena/Documents/projects/bnb-branching-strategy-learning/.venv/lib64/python3.9/site-packages/sklearn/utils/validation.py:2739: UserWarning: X does not have valid feature names, but LGBMRegressor was fitted with feature names\n",
      "  warnings.warn(\n",
      "/home/elena/Documents/projects/bnb-branching-strategy-learning/.venv/lib64/python3.9/site-packages/sklearn/utils/validation.py:2739: UserWarning: X does not have valid feature names, but LGBMRegressor was fitted with feature names\n",
      "  warnings.warn(\n",
      "/home/elena/Documents/projects/bnb-branching-strategy-learning/.venv/lib64/python3.9/site-packages/sklearn/utils/validation.py:2739: UserWarning: X does not have valid feature names, but LGBMRegressor was fitted with feature names\n",
      "  warnings.warn(\n",
      "/home/elena/Documents/projects/bnb-branching-strategy-learning/.venv/lib64/python3.9/site-packages/sklearn/utils/validation.py:2739: UserWarning: X does not have valid feature names, but LGBMRegressor was fitted with feature names\n",
      "  warnings.warn(\n",
      "/home/elena/Documents/projects/bnb-branching-strategy-learning/.venv/lib64/python3.9/site-packages/sklearn/utils/validation.py:2739: UserWarning: X does not have valid feature names, but LGBMRegressor was fitted with feature names\n",
      "  warnings.warn(\n",
      "/home/elena/Documents/projects/bnb-branching-strategy-learning/.venv/lib64/python3.9/site-packages/sklearn/utils/validation.py:2739: UserWarning: X does not have valid feature names, but LGBMRegressor was fitted with feature names\n",
      "  warnings.warn(\n",
      "/home/elena/Documents/projects/bnb-branching-strategy-learning/.venv/lib64/python3.9/site-packages/sklearn/utils/validation.py:2739: UserWarning: X does not have valid feature names, but LGBMRegressor was fitted with feature names\n",
      "  warnings.warn(\n",
      "/home/elena/Documents/projects/bnb-branching-strategy-learning/.venv/lib64/python3.9/site-packages/sklearn/utils/validation.py:2739: UserWarning: X does not have valid feature names, but LGBMRegressor was fitted with feature names\n",
      "  warnings.warn(\n",
      "/home/elena/Documents/projects/bnb-branching-strategy-learning/.venv/lib64/python3.9/site-packages/sklearn/utils/validation.py:2739: UserWarning: X does not have valid feature names, but LGBMRegressor was fitted with feature names\n",
      "  warnings.warn(\n",
      "/home/elena/Documents/projects/bnb-branching-strategy-learning/.venv/lib64/python3.9/site-packages/sklearn/utils/validation.py:2739: UserWarning: X does not have valid feature names, but LGBMRegressor was fitted with feature names\n",
      "  warnings.warn(\n",
      "/home/elena/Documents/projects/bnb-branching-strategy-learning/.venv/lib64/python3.9/site-packages/sklearn/utils/validation.py:2739: UserWarning: X does not have valid feature names, but LGBMRegressor was fitted with feature names\n",
      "  warnings.warn(\n",
      "/home/elena/Documents/projects/bnb-branching-strategy-learning/.venv/lib64/python3.9/site-packages/sklearn/utils/validation.py:2739: UserWarning: X does not have valid feature names, but LGBMRegressor was fitted with feature names\n",
      "  warnings.warn(\n",
      "/home/elena/Documents/projects/bnb-branching-strategy-learning/.venv/lib64/python3.9/site-packages/sklearn/utils/validation.py:2739: UserWarning: X does not have valid feature names, but LGBMRegressor was fitted with feature names\n",
      "  warnings.warn(\n",
      "/home/elena/Documents/projects/bnb-branching-strategy-learning/.venv/lib64/python3.9/site-packages/sklearn/utils/validation.py:2739: UserWarning: X does not have valid feature names, but LGBMRegressor was fitted with feature names\n",
      "  warnings.warn(\n",
      "/home/elena/Documents/projects/bnb-branching-strategy-learning/.venv/lib64/python3.9/site-packages/sklearn/utils/validation.py:2739: UserWarning: X does not have valid feature names, but LGBMRegressor was fitted with feature names\n",
      "  warnings.warn(\n",
      "/home/elena/Documents/projects/bnb-branching-strategy-learning/.venv/lib64/python3.9/site-packages/sklearn/utils/validation.py:2739: UserWarning: X does not have valid feature names, but LGBMRegressor was fitted with feature names\n",
      "  warnings.warn(\n",
      "/home/elena/Documents/projects/bnb-branching-strategy-learning/.venv/lib64/python3.9/site-packages/sklearn/utils/validation.py:2739: UserWarning: X does not have valid feature names, but LGBMRegressor was fitted with feature names\n",
      "  warnings.warn(\n",
      "/home/elena/Documents/projects/bnb-branching-strategy-learning/.venv/lib64/python3.9/site-packages/sklearn/utils/validation.py:2739: UserWarning: X does not have valid feature names, but LGBMRegressor was fitted with feature names\n",
      "  warnings.warn(\n",
      "/home/elena/Documents/projects/bnb-branching-strategy-learning/.venv/lib64/python3.9/site-packages/sklearn/utils/validation.py:2739: UserWarning: X does not have valid feature names, but LGBMRegressor was fitted with feature names\n",
      "  warnings.warn(\n",
      "/home/elena/Documents/projects/bnb-branching-strategy-learning/.venv/lib64/python3.9/site-packages/sklearn/utils/validation.py:2739: UserWarning: X does not have valid feature names, but LGBMRegressor was fitted with feature names\n",
      "  warnings.warn(\n",
      "/home/elena/Documents/projects/bnb-branching-strategy-learning/.venv/lib64/python3.9/site-packages/sklearn/utils/validation.py:2739: UserWarning: X does not have valid feature names, but LGBMRegressor was fitted with feature names\n",
      "  warnings.warn(\n",
      "/home/elena/Documents/projects/bnb-branching-strategy-learning/.venv/lib64/python3.9/site-packages/sklearn/utils/validation.py:2739: UserWarning: X does not have valid feature names, but LGBMRegressor was fitted with feature names\n",
      "  warnings.warn(\n",
      "/home/elena/Documents/projects/bnb-branching-strategy-learning/.venv/lib64/python3.9/site-packages/sklearn/utils/validation.py:2739: UserWarning: X does not have valid feature names, but LGBMRegressor was fitted with feature names\n",
      "  warnings.warn(\n",
      "/home/elena/Documents/projects/bnb-branching-strategy-learning/.venv/lib64/python3.9/site-packages/sklearn/utils/validation.py:2739: UserWarning: X does not have valid feature names, but LGBMRegressor was fitted with feature names\n",
      "  warnings.warn(\n",
      "/home/elena/Documents/projects/bnb-branching-strategy-learning/.venv/lib64/python3.9/site-packages/sklearn/utils/validation.py:2739: UserWarning: X does not have valid feature names, but LGBMRegressor was fitted with feature names\n",
      "  warnings.warn(\n",
      "/home/elena/Documents/projects/bnb-branching-strategy-learning/.venv/lib64/python3.9/site-packages/sklearn/utils/validation.py:2739: UserWarning: X does not have valid feature names, but LGBMRegressor was fitted with feature names\n",
      "  warnings.warn(\n",
      "/home/elena/Documents/projects/bnb-branching-strategy-learning/.venv/lib64/python3.9/site-packages/sklearn/utils/validation.py:2739: UserWarning: X does not have valid feature names, but LGBMRegressor was fitted with feature names\n",
      "  warnings.warn(\n",
      "/home/elena/Documents/projects/bnb-branching-strategy-learning/.venv/lib64/python3.9/site-packages/sklearn/utils/validation.py:2739: UserWarning: X does not have valid feature names, but LGBMRegressor was fitted with feature names\n",
      "  warnings.warn(\n",
      "/home/elena/Documents/projects/bnb-branching-strategy-learning/.venv/lib64/python3.9/site-packages/sklearn/utils/validation.py:2739: UserWarning: X does not have valid feature names, but LGBMRegressor was fitted with feature names\n",
      "  warnings.warn(\n",
      "/home/elena/Documents/projects/bnb-branching-strategy-learning/.venv/lib64/python3.9/site-packages/sklearn/utils/validation.py:2739: UserWarning: X does not have valid feature names, but LGBMRegressor was fitted with feature names\n",
      "  warnings.warn(\n",
      "/home/elena/Documents/projects/bnb-branching-strategy-learning/.venv/lib64/python3.9/site-packages/sklearn/utils/validation.py:2739: UserWarning: X does not have valid feature names, but LGBMRegressor was fitted with feature names\n",
      "  warnings.warn(\n",
      "/home/elena/Documents/projects/bnb-branching-strategy-learning/.venv/lib64/python3.9/site-packages/sklearn/utils/validation.py:2739: UserWarning: X does not have valid feature names, but LGBMRegressor was fitted with feature names\n",
      "  warnings.warn(\n",
      "/home/elena/Documents/projects/bnb-branching-strategy-learning/.venv/lib64/python3.9/site-packages/sklearn/utils/validation.py:2739: UserWarning: X does not have valid feature names, but LGBMRegressor was fitted with feature names\n",
      "  warnings.warn(\n",
      "/home/elena/Documents/projects/bnb-branching-strategy-learning/.venv/lib64/python3.9/site-packages/sklearn/utils/validation.py:2739: UserWarning: X does not have valid feature names, but LGBMRegressor was fitted with feature names\n",
      "  warnings.warn(\n",
      "/home/elena/Documents/projects/bnb-branching-strategy-learning/.venv/lib64/python3.9/site-packages/sklearn/utils/validation.py:2739: UserWarning: X does not have valid feature names, but LGBMRegressor was fitted with feature names\n",
      "  warnings.warn(\n",
      "/home/elena/Documents/projects/bnb-branching-strategy-learning/.venv/lib64/python3.9/site-packages/sklearn/utils/validation.py:2739: UserWarning: X does not have valid feature names, but LGBMRegressor was fitted with feature names\n",
      "  warnings.warn(\n",
      "/home/elena/Documents/projects/bnb-branching-strategy-learning/.venv/lib64/python3.9/site-packages/sklearn/utils/validation.py:2739: UserWarning: X does not have valid feature names, but LGBMRegressor was fitted with feature names\n",
      "  warnings.warn(\n",
      "/home/elena/Documents/projects/bnb-branching-strategy-learning/.venv/lib64/python3.9/site-packages/sklearn/utils/validation.py:2739: UserWarning: X does not have valid feature names, but LGBMRegressor was fitted with feature names\n",
      "  warnings.warn(\n",
      "/home/elena/Documents/projects/bnb-branching-strategy-learning/.venv/lib64/python3.9/site-packages/sklearn/utils/validation.py:2739: UserWarning: X does not have valid feature names, but LGBMRegressor was fitted with feature names\n",
      "  warnings.warn(\n",
      "/home/elena/Documents/projects/bnb-branching-strategy-learning/.venv/lib64/python3.9/site-packages/sklearn/utils/validation.py:2739: UserWarning: X does not have valid feature names, but LGBMRegressor was fitted with feature names\n",
      "  warnings.warn(\n",
      "/home/elena/Documents/projects/bnb-branching-strategy-learning/.venv/lib64/python3.9/site-packages/sklearn/utils/validation.py:2739: UserWarning: X does not have valid feature names, but LGBMRegressor was fitted with feature names\n",
      "  warnings.warn(\n",
      "/home/elena/Documents/projects/bnb-branching-strategy-learning/.venv/lib64/python3.9/site-packages/sklearn/utils/validation.py:2739: UserWarning: X does not have valid feature names, but LGBMRegressor was fitted with feature names\n",
      "  warnings.warn(\n",
      "/home/elena/Documents/projects/bnb-branching-strategy-learning/.venv/lib64/python3.9/site-packages/sklearn/utils/validation.py:2739: UserWarning: X does not have valid feature names, but LGBMRegressor was fitted with feature names\n",
      "  warnings.warn(\n",
      "/home/elena/Documents/projects/bnb-branching-strategy-learning/.venv/lib64/python3.9/site-packages/sklearn/utils/validation.py:2739: UserWarning: X does not have valid feature names, but LGBMRegressor was fitted with feature names\n",
      "  warnings.warn(\n",
      "/home/elena/Documents/projects/bnb-branching-strategy-learning/.venv/lib64/python3.9/site-packages/sklearn/utils/validation.py:2739: UserWarning: X does not have valid feature names, but LGBMRegressor was fitted with feature names\n",
      "  warnings.warn(\n",
      "/home/elena/Documents/projects/bnb-branching-strategy-learning/.venv/lib64/python3.9/site-packages/sklearn/utils/validation.py:2739: UserWarning: X does not have valid feature names, but LGBMRegressor was fitted with feature names\n",
      "  warnings.warn(\n",
      "/home/elena/Documents/projects/bnb-branching-strategy-learning/.venv/lib64/python3.9/site-packages/sklearn/utils/validation.py:2739: UserWarning: X does not have valid feature names, but LGBMRegressor was fitted with feature names\n",
      "  warnings.warn(\n",
      "/home/elena/Documents/projects/bnb-branching-strategy-learning/.venv/lib64/python3.9/site-packages/sklearn/utils/validation.py:2739: UserWarning: X does not have valid feature names, but LGBMRegressor was fitted with feature names\n",
      "  warnings.warn(\n",
      "/home/elena/Documents/projects/bnb-branching-strategy-learning/.venv/lib64/python3.9/site-packages/sklearn/utils/validation.py:2739: UserWarning: X does not have valid feature names, but LGBMRegressor was fitted with feature names\n",
      "  warnings.warn(\n",
      "/home/elena/Documents/projects/bnb-branching-strategy-learning/.venv/lib64/python3.9/site-packages/sklearn/utils/validation.py:2739: UserWarning: X does not have valid feature names, but LGBMRegressor was fitted with feature names\n",
      "  warnings.warn(\n",
      "/home/elena/Documents/projects/bnb-branching-strategy-learning/.venv/lib64/python3.9/site-packages/sklearn/utils/validation.py:2739: UserWarning: X does not have valid feature names, but LGBMRegressor was fitted with feature names\n",
      "  warnings.warn(\n",
      "/home/elena/Documents/projects/bnb-branching-strategy-learning/.venv/lib64/python3.9/site-packages/sklearn/utils/validation.py:2739: UserWarning: X does not have valid feature names, but LGBMRegressor was fitted with feature names\n",
      "  warnings.warn(\n",
      "/home/elena/Documents/projects/bnb-branching-strategy-learning/.venv/lib64/python3.9/site-packages/sklearn/utils/validation.py:2739: UserWarning: X does not have valid feature names, but LGBMRegressor was fitted with feature names\n",
      "  warnings.warn(\n",
      "/home/elena/Documents/projects/bnb-branching-strategy-learning/.venv/lib64/python3.9/site-packages/sklearn/utils/validation.py:2739: UserWarning: X does not have valid feature names, but LGBMRegressor was fitted with feature names\n",
      "  warnings.warn(\n",
      "/home/elena/Documents/projects/bnb-branching-strategy-learning/.venv/lib64/python3.9/site-packages/sklearn/utils/validation.py:2739: UserWarning: X does not have valid feature names, but LGBMRegressor was fitted with feature names\n",
      "  warnings.warn(\n",
      "/home/elena/Documents/projects/bnb-branching-strategy-learning/.venv/lib64/python3.9/site-packages/sklearn/utils/validation.py:2739: UserWarning: X does not have valid feature names, but LGBMRegressor was fitted with feature names\n",
      "  warnings.warn(\n",
      "/home/elena/Documents/projects/bnb-branching-strategy-learning/.venv/lib64/python3.9/site-packages/sklearn/utils/validation.py:2739: UserWarning: X does not have valid feature names, but LGBMRegressor was fitted with feature names\n",
      "  warnings.warn(\n",
      "/home/elena/Documents/projects/bnb-branching-strategy-learning/.venv/lib64/python3.9/site-packages/sklearn/utils/validation.py:2739: UserWarning: X does not have valid feature names, but LGBMRegressor was fitted with feature names\n",
      "  warnings.warn(\n",
      "/home/elena/Documents/projects/bnb-branching-strategy-learning/.venv/lib64/python3.9/site-packages/sklearn/utils/validation.py:2739: UserWarning: X does not have valid feature names, but LGBMRegressor was fitted with feature names\n",
      "  warnings.warn(\n",
      "/home/elena/Documents/projects/bnb-branching-strategy-learning/.venv/lib64/python3.9/site-packages/sklearn/utils/validation.py:2739: UserWarning: X does not have valid feature names, but LGBMRegressor was fitted with feature names\n",
      "  warnings.warn(\n",
      "/home/elena/Documents/projects/bnb-branching-strategy-learning/.venv/lib64/python3.9/site-packages/sklearn/utils/validation.py:2739: UserWarning: X does not have valid feature names, but LGBMRegressor was fitted with feature names\n",
      "  warnings.warn(\n",
      "/home/elena/Documents/projects/bnb-branching-strategy-learning/.venv/lib64/python3.9/site-packages/sklearn/utils/validation.py:2739: UserWarning: X does not have valid feature names, but LGBMRegressor was fitted with feature names\n",
      "  warnings.warn(\n",
      "/home/elena/Documents/projects/bnb-branching-strategy-learning/.venv/lib64/python3.9/site-packages/sklearn/utils/validation.py:2739: UserWarning: X does not have valid feature names, but LGBMRegressor was fitted with feature names\n",
      "  warnings.warn(\n",
      "/home/elena/Documents/projects/bnb-branching-strategy-learning/.venv/lib64/python3.9/site-packages/sklearn/utils/validation.py:2739: UserWarning: X does not have valid feature names, but LGBMRegressor was fitted with feature names\n",
      "  warnings.warn(\n",
      "/home/elena/Documents/projects/bnb-branching-strategy-learning/.venv/lib64/python3.9/site-packages/sklearn/utils/validation.py:2739: UserWarning: X does not have valid feature names, but LGBMRegressor was fitted with feature names\n",
      "  warnings.warn(\n",
      "/home/elena/Documents/projects/bnb-branching-strategy-learning/.venv/lib64/python3.9/site-packages/sklearn/utils/validation.py:2739: UserWarning: X does not have valid feature names, but LGBMRegressor was fitted with feature names\n",
      "  warnings.warn(\n",
      "/home/elena/Documents/projects/bnb-branching-strategy-learning/.venv/lib64/python3.9/site-packages/sklearn/utils/validation.py:2739: UserWarning: X does not have valid feature names, but LGBMRegressor was fitted with feature names\n",
      "  warnings.warn(\n",
      "/home/elena/Documents/projects/bnb-branching-strategy-learning/.venv/lib64/python3.9/site-packages/sklearn/utils/validation.py:2739: UserWarning: X does not have valid feature names, but LGBMRegressor was fitted with feature names\n",
      "  warnings.warn(\n",
      "/home/elena/Documents/projects/bnb-branching-strategy-learning/.venv/lib64/python3.9/site-packages/sklearn/utils/validation.py:2739: UserWarning: X does not have valid feature names, but LGBMRegressor was fitted with feature names\n",
      "  warnings.warn(\n",
      "/home/elena/Documents/projects/bnb-branching-strategy-learning/.venv/lib64/python3.9/site-packages/sklearn/utils/validation.py:2739: UserWarning: X does not have valid feature names, but LGBMRegressor was fitted with feature names\n",
      "  warnings.warn(\n",
      "/home/elena/Documents/projects/bnb-branching-strategy-learning/.venv/lib64/python3.9/site-packages/sklearn/utils/validation.py:2739: UserWarning: X does not have valid feature names, but LGBMRegressor was fitted with feature names\n",
      "  warnings.warn(\n",
      "/home/elena/Documents/projects/bnb-branching-strategy-learning/.venv/lib64/python3.9/site-packages/sklearn/utils/validation.py:2739: UserWarning: X does not have valid feature names, but LGBMRegressor was fitted with feature names\n",
      "  warnings.warn(\n",
      "/home/elena/Documents/projects/bnb-branching-strategy-learning/.venv/lib64/python3.9/site-packages/sklearn/utils/validation.py:2739: UserWarning: X does not have valid feature names, but LGBMRegressor was fitted with feature names\n",
      "  warnings.warn(\n",
      "/home/elena/Documents/projects/bnb-branching-strategy-learning/.venv/lib64/python3.9/site-packages/sklearn/utils/validation.py:2739: UserWarning: X does not have valid feature names, but LGBMRegressor was fitted with feature names\n",
      "  warnings.warn(\n",
      "/home/elena/Documents/projects/bnb-branching-strategy-learning/.venv/lib64/python3.9/site-packages/sklearn/utils/validation.py:2739: UserWarning: X does not have valid feature names, but LGBMRegressor was fitted with feature names\n",
      "  warnings.warn(\n",
      "/home/elena/Documents/projects/bnb-branching-strategy-learning/.venv/lib64/python3.9/site-packages/sklearn/utils/validation.py:2739: UserWarning: X does not have valid feature names, but LGBMRegressor was fitted with feature names\n",
      "  warnings.warn(\n",
      "/home/elena/Documents/projects/bnb-branching-strategy-learning/.venv/lib64/python3.9/site-packages/sklearn/utils/validation.py:2739: UserWarning: X does not have valid feature names, but LGBMRegressor was fitted with feature names\n",
      "  warnings.warn(\n",
      "/home/elena/Documents/projects/bnb-branching-strategy-learning/.venv/lib64/python3.9/site-packages/sklearn/utils/validation.py:2739: UserWarning: X does not have valid feature names, but LGBMRegressor was fitted with feature names\n",
      "  warnings.warn(\n",
      "/home/elena/Documents/projects/bnb-branching-strategy-learning/.venv/lib64/python3.9/site-packages/sklearn/utils/validation.py:2739: UserWarning: X does not have valid feature names, but LGBMRegressor was fitted with feature names\n",
      "  warnings.warn(\n",
      "/home/elena/Documents/projects/bnb-branching-strategy-learning/.venv/lib64/python3.9/site-packages/sklearn/utils/validation.py:2739: UserWarning: X does not have valid feature names, but LGBMRegressor was fitted with feature names\n",
      "  warnings.warn(\n",
      "/home/elena/Documents/projects/bnb-branching-strategy-learning/.venv/lib64/python3.9/site-packages/sklearn/utils/validation.py:2739: UserWarning: X does not have valid feature names, but LGBMRegressor was fitted with feature names\n",
      "  warnings.warn(\n",
      "/home/elena/Documents/projects/bnb-branching-strategy-learning/.venv/lib64/python3.9/site-packages/sklearn/utils/validation.py:2739: UserWarning: X does not have valid feature names, but LGBMRegressor was fitted with feature names\n",
      "  warnings.warn(\n",
      "/home/elena/Documents/projects/bnb-branching-strategy-learning/.venv/lib64/python3.9/site-packages/sklearn/utils/validation.py:2739: UserWarning: X does not have valid feature names, but LGBMRegressor was fitted with feature names\n",
      "  warnings.warn(\n"
     ]
    },
    {
     "data": {
      "text/plain": [
       "'Chosen params'"
      ]
     },
     "metadata": {},
     "output_type": "display_data"
    },
    {
     "data": {
      "text/plain": [
       "{'regressor__predictor__learning_rate': 0.5,\n",
       " 'regressor__predictor__n_estimators': 5,\n",
       " 'regressor__predictor__num_leaves': 31}"
      ]
     },
     "metadata": {},
     "output_type": "display_data"
    },
    {
     "data": {
      "image/png": "[encoded data removed]",
      "text/plain": [
       "<Figure size 1000x600 with 1 Axes>"
      ]
     },
     "metadata": {},
     "output_type": "display_data"
    },
    {
     "data": {
      "text/plain": [
       "'Test set evaluation metrics for **LGBMRegressor**'"
      ]
     },
     "metadata": {},
     "output_type": "display_data"
    },
    {
     "data": {
      "text/html": [
       "<div>\n",
       "<style scoped>\n",
       "    .dataframe tbody tr th:only-of-type {\n",
       "        vertical-align: middle;\n",
       "    }\n",
       "\n",
       "    .dataframe tbody tr th {\n",
       "        vertical-align: top;\n",
       "    }\n",
       "\n",
       "    .dataframe thead th {\n",
       "        text-align: right;\n",
       "    }\n",
       "</style>\n",
       "<table border=\"1\" class=\"dataframe\">\n",
       "  <thead>\n",
       "    <tr style=\"text-align: right;\">\n",
       "      <th></th>\n",
       "      <th>0</th>\n",
       "    </tr>\n",
       "  </thead>\n",
       "  <tbody>\n",
       "    <tr>\n",
       "      <th>Model</th>\n",
       "      <td>LGBMRegressor</td>\n",
       "    </tr>\n",
       "    <tr>\n",
       "      <th>R² Score</th>\n",
       "      <td>0.915621</td>\n",
       "    </tr>\n",
       "    <tr>\n",
       "      <th>MSE</th>\n",
       "      <td>0.106751</td>\n",
       "    </tr>\n",
       "    <tr>\n",
       "      <th>RMSE</th>\n",
       "      <td>0.325294</td>\n",
       "    </tr>\n",
       "    <tr>\n",
       "      <th>Score Time (s)</th>\n",
       "      <td>0.019015</td>\n",
       "    </tr>\n",
       "  </tbody>\n",
       "</table>\n",
       "</div>"
      ],
      "text/plain": [
       "                            0\n",
       "Model           LGBMRegressor\n",
       "R² Score             0.915621\n",
       "MSE                  0.106751\n",
       "RMSE                 0.325294\n",
       "Score Time (s)       0.019015"
      ]
     },
     "metadata": {},
     "output_type": "display_data"
    }
   ],
   "source": [
    "import lightgbm as lgb\n",
    "from sklearn.model_selection import GridSearchCV\n",
    "\n",
    "params = {\n",
    "    'regressor__predictor__n_estimators': [2, 3, 5],\n",
    "    'regressor__predictor__learning_rate': [0.05, 0.1, 0.5],\n",
    "    'regressor__predictor__num_leaves': [10, 31]\n",
    "}\n",
    "\n",
    "lgbm_pipeline = create_pipeline(lgb.LGBMRegressor(random_state=seed, objective='regression', metric='mse', verbose=0))\n",
    "gs = GridSearchCV(lgbm_pipeline, param_grid=params, cv=5, scoring=scoring, verbose=1, refit=regr_refit_strategy)\n",
    "gs.fit(X_train, y_train)\n",
    "print_metrics(gs.cv_results_, gs.best_index_, 'LGBMRegressor')\n",
    "predictors['LGBMRegressor'] = gs.best_estimator_"
   ]
  },
  {
   "cell_type": "code",
   "execution_count": 118,
   "metadata": {
    "ExecuteTime": {
     "end_time": "2025-05-23T20:12:51.159769283Z",
     "start_time": "2025-05-23T20:11:52.216005Z"
    },
    "colab": {
     "base_uri": "https://localhost:8080/",
     "height": 1000
    },
    "id": "nCmfSNN3C7Eh",
    "outputId": "97133501-b382-4744-bc74-c06acbea01bd"
   },
   "outputs": [
    {
     "data": {
      "text/html": [
       "<div>\n",
       "<style scoped>\n",
       "    .dataframe tbody tr th:only-of-type {\n",
       "        vertical-align: middle;\n",
       "    }\n",
       "\n",
       "    .dataframe tbody tr th {\n",
       "        vertical-align: top;\n",
       "    }\n",
       "\n",
       "    .dataframe thead th {\n",
       "        text-align: right;\n",
       "    }\n",
       "</style>\n",
       "<table border=\"1\" class=\"dataframe\">\n",
       "  <thead>\n",
       "    <tr style=\"text-align: right;\">\n",
       "      <th></th>\n",
       "      <th>Model</th>\n",
       "      <th>R² Score</th>\n",
       "      <th>MSE</th>\n",
       "      <th>Max Error</th>\n",
       "      <th>Score Time (s)</th>\n",
       "      <th>RMSE</th>\n",
       "    </tr>\n",
       "  </thead>\n",
       "  <tbody>\n",
       "    <tr>\n",
       "      <th>0</th>\n",
       "      <td>LinearRegression</td>\n",
       "      <td>0.160379</td>\n",
       "      <td>1.058135</td>\n",
       "      <td>40.67851</td>\n",
       "      <td>0.037943</td>\n",
       "      <td>NaN</td>\n",
       "    </tr>\n",
       "    <tr>\n",
       "      <th>1</th>\n",
       "      <td>GreedyTreeRegressor</td>\n",
       "      <td>0.926794</td>\n",
       "      <td>0.092272</td>\n",
       "      <td>NaN</td>\n",
       "      <td>0.016603</td>\n",
       "      <td>0.302689</td>\n",
       "    </tr>\n",
       "    <tr>\n",
       "      <th>2</th>\n",
       "      <td>GreedyTreeRegressor</td>\n",
       "      <td>0.926794</td>\n",
       "      <td>0.092272</td>\n",
       "      <td>NaN</td>\n",
       "      <td>0.018181</td>\n",
       "      <td>0.302689</td>\n",
       "    </tr>\n",
       "    <tr>\n",
       "      <th>3</th>\n",
       "      <td>LGBMRegressor</td>\n",
       "      <td>0.915621</td>\n",
       "      <td>0.106751</td>\n",
       "      <td>NaN</td>\n",
       "      <td>0.019015</td>\n",
       "      <td>0.325294</td>\n",
       "    </tr>\n",
       "  </tbody>\n",
       "</table>\n",
       "</div>"
      ],
      "text/plain": [
       "                 Model  R² Score       MSE  Max Error  Score Time (s)  \\\n",
       "0     LinearRegression  0.160379  1.058135   40.67851        0.037943   \n",
       "1  GreedyTreeRegressor  0.926794  0.092272        NaN        0.016603   \n",
       "2  GreedyTreeRegressor  0.926794  0.092272        NaN        0.018181   \n",
       "3        LGBMRegressor  0.915621  0.106751        NaN        0.019015   \n",
       "\n",
       "       RMSE  \n",
       "0       NaN  \n",
       "1  0.302689  \n",
       "2  0.302689  \n",
       "3  0.325294  "
      ]
     },
     "metadata": {},
     "output_type": "display_data"
    },
    {
     "ename": "IndexError",
     "evalue": "index 4 is out of bounds for axis 0 with size 4",
     "output_type": "error",
     "traceback": [
      "\u001B[0;31m---------------------------------------------------------------------------\u001B[0m",
      "\u001B[0;31mIndexError\u001B[0m                                Traceback (most recent call last)",
      "Cell \u001B[0;32mIn[118], line 8\u001B[0m\n\u001B[1;32m      6\u001B[0m \u001B[38;5;66;03m#all metrics except name\u001B[39;00m\n\u001B[1;32m      7\u001B[0m \u001B[38;5;28;01mfor\u001B[39;00m i, metric \u001B[38;5;129;01min\u001B[39;00m \u001B[38;5;28menumerate\u001B[39m(metrics\u001B[38;5;241m.\u001B[39mcolumns[\u001B[38;5;241m1\u001B[39m:]):\n\u001B[0;32m----> 8\u001B[0m     sns\u001B[38;5;241m.\u001B[39mbarplot(x\u001B[38;5;241m=\u001B[39m\u001B[38;5;124m'\u001B[39m\u001B[38;5;124mModel\u001B[39m\u001B[38;5;124m'\u001B[39m, y\u001B[38;5;241m=\u001B[39mmetric, data\u001B[38;5;241m=\u001B[39mmetrics, ax\u001B[38;5;241m=\u001B[39m\u001B[43maxes\u001B[49m\u001B[43m[\u001B[49m\u001B[43mi\u001B[49m\u001B[43m]\u001B[49m, palette\u001B[38;5;241m=\u001B[39m\u001B[38;5;124m'\u001B[39m\u001B[38;5;124mviridis\u001B[39m\u001B[38;5;124m'\u001B[39m)\n\u001B[1;32m      9\u001B[0m     axes[i]\u001B[38;5;241m.\u001B[39mset_title(\u001B[38;5;124mf\u001B[39m\u001B[38;5;124m'\u001B[39m\u001B[38;5;132;01m{\u001B[39;00mmetric\u001B[38;5;241m.\u001B[39mupper()\u001B[38;5;132;01m}\u001B[39;00m\u001B[38;5;124m by Model\u001B[39m\u001B[38;5;124m'\u001B[39m, fontsize\u001B[38;5;241m=\u001B[39m\u001B[38;5;241m14\u001B[39m)\n\u001B[1;32m     10\u001B[0m     axes[i]\u001B[38;5;241m.\u001B[39mset_xlabel(\u001B[38;5;124m'\u001B[39m\u001B[38;5;124mModel Name\u001B[39m\u001B[38;5;124m'\u001B[39m, fontsize\u001B[38;5;241m=\u001B[39m\u001B[38;5;241m12\u001B[39m)\n",
      "\u001B[0;31mIndexError\u001B[0m: index 4 is out of bounds for axis 0 with size 4"
     ]
    },
    {
     "data": {
      "image/png": "[encoded data removed]",
      "text/plain": [
       "<Figure size 1400x1000 with 4 Axes>"
      ]
     },
     "metadata": {},
     "output_type": "display_data"
    }
   ],
   "source": [
    "display(metrics)\n",
    "\n",
    "fig, axes = plt.subplots(2, 2, figsize=(14, 10))\n",
    "axes = axes.flatten()\n",
    "\n",
    "#all metrics except name\n",
    "for i, metric in enumerate(metrics.columns[1:]):\n",
    "    sns.barplot(x='Model', y=metric, data=metrics, ax=axes[i], palette='viridis')\n",
    "    axes[i].set_title(f'{metric.upper()} by Model', fontsize=14)\n",
    "    axes[i].set_xlabel('Model Name', fontsize=12)\n",
    "    axes[i].set_ylabel(metric.upper(), fontsize=12)\n",
    "    axes[i].tick_params(axis='x', rotation=90)\n",
    "\n",
    "plt.tight_layout()\n",
    "plt.show()"
   ]
  },
  {
   "cell_type": "markdown",
   "metadata": {
    "id": "-TpVpR-XLoo9"
   },
   "source": [
    "## RIPPER"
   ]
  },
  {
   "cell_type": "code",
   "execution_count": null,
   "metadata": {
    "colab": {
     "base_uri": "https://localhost:8080/"
    },
    "id": "yDMttlUKweaz",
    "outputId": "ccb95751-e704-406c-e7d8-f21c507bcc1a"
   },
   "outputs": [],
   "source": [
    "!pip install wittgenstein"
   ]
  },
  {
   "cell_type": "code",
   "execution_count": null,
   "metadata": {
    "colab": {
     "background_save": true,
     "base_uri": "https://localhost:8080/",
     "height": 374
    },
    "id": "hmhzgK8zcS52",
    "outputId": "5224f3c9-a30d-4278-f02d-219efc525ab3"
   },
   "outputs": [],
   "source": [
    "import wittgenstein as lw\n",
    "from sklearn.preprocessing import KBinsDiscretizer\n",
    "from sklearn.multiclass import OneVsRestClassifier\n",
    "from sklearn.model_selection import GridSearchCV\n",
    "from sklearn.metrics import accuracy_score, f1_score, confusion_matrix, precision_score, recall_score\n",
    "from datetime import datetime\n",
    "\n",
    "params = {\n",
    "    'predictor__es__k': [1, 2, 3],\n",
    "    'predictor__es__prune_size': [0.15, 0.33, 0.5],\n",
    "    'predictor__es__max_rules': [3, 5, 8, 10, 15],\n",
    "}\n",
    "\n",
    "discretizer = ('discretizer', KBinsDiscretizer(n_bins=10, encode='ordinal', strategy='quantile'))\n",
    "ripper_pipeline = create_pipeline(OneVsRestClassifier(lw.RIPPER(random_state=seed, n_discretize_bins=None)),\n",
    "                                  additional_pre_steps=[discretizer])\n",
    "\n",
    "gs = GridSearchCV(ripper_pipeline, param_grid=params, cv=5, scoring='accuracy', verbose=1, refit=regr_refit_strategy)\n",
    "gs.fit(X_train, y_train)\n",
    "print(gs.cv_results_)"
   ]
  },
  {
   "cell_type": "code",
   "execution_count": null,
   "metadata": {
    "id": "ulULGbhUd4Ns"
   },
   "outputs": [],
   "source": [
    "from sklearn.metrics import roc_curve, auc\n",
    "\n",
    "fpr, tpr, _ = roc_curve(y_test_encoded, preds)\n",
    "roc_auc = auc(fpr, tpr)\n",
    "\n",
    "plt.figure(figsize=(8, 6))\n",
    "plt.plot(fpr, tpr, color='darkorange', lw=2,\n",
    "         label=f'ROC curve (AUC = {roc_auc:.2f})')\n",
    "plt.plot([0, 1], [0, 1], color='navy', lw=2, linestyle='--')\n",
    "\n",
    "plt.xlim([0.0, 1.0])\n",
    "plt.ylim([0.0, 1.05])\n",
    "plt.xlabel('False Positive Rate')\n",
    "plt.ylabel('True Positive Rate')\n",
    "plt.title('ROC Curve with Cross Validation')\n",
    "plt.legend(loc=\"lower right\")\n",
    "plt.grid(True)\n",
    "plt.show()"
   ]
  },
  {
   "cell_type": "markdown",
   "metadata": {},
   "source": [
    "## Benchmarking"
   ]
  },
  {
   "cell_type": "code",
   "execution_count": 6,
   "metadata": {
    "id": "aibdTovYVa5K"
   },
   "outputs": [],
   "source": [
    "from pyscipopt import Model, Branchrule\n",
    "from pyscipopt import SCIP_RESULT\n",
    "import numpy as np\n",
    "from collections import defaultdict\n",
    "import pandas as pd\n",
    "import math\n",
    "\n",
    "\n",
    "class LearnedStrongBranching(StrongBranchingRule):\n",
    "    def __init__(self, model, predictor, A, b, c, logged, *args, **kwargs):\n",
    "        super().__init__(*args, **kwargs)\n",
    "        self.model: Model = model\n",
    "        self.predictor = predictor\n",
    "        self.A = A\n",
    "        self.b = b\n",
    "        self.c = c\n",
    "        self.logged = logged\n",
    "        self.n_branches_by_var = defaultdict(int)\n",
    "        self.objective_increases_by_var = defaultdict(list)\n",
    "\n",
    "    def branchexeclp(self, allowaddcons):\n",
    "        branch_cands, branch_cand_sols, branch_cand_fracs, ncands, npriocands, nimplcands = self.model.getLPBranchCands()\n",
    "\n",
    "        best_cand_idx = 0\n",
    "        best_cand_score = float('-inf')\n",
    "\n",
    "        for i in range(npriocands):\n",
    "            self.n_branches_by_var[branch_cands[i].name] += 1\n",
    "            score = self.predict_score(branch_cand_fracs[i], branch_cands[i])\n",
    "            if score > best_cand_score:\n",
    "                best_cand_score = score\n",
    "                best_cand_idx = i\n",
    "\n",
    "        self.model.branchVarVal(branch_cands[best_cand_idx], branch_cand_sols[best_cand_idx])\n",
    "        return {\"result\": SCIP_RESULT.BRANCHED}\n",
    "\n",
    "    def predict_score(self, frac, var):\n",
    "        features = self.extract_feats(frac, var)\n",
    "        features = pd.DataFrame([features])\n",
    "        return self.predictor.predict(pd.DataFrame(features))"
   ]
  },
  {
   "cell_type": "code",
   "metadata": {
    "ExecuteTime": {
     "end_time": "2025-05-26T14:02:00.150876Z",
     "start_time": "2025-05-26T14:01:59.743185Z"
    }
   },
   "source": [
    "import kagglehub, os\n",
    "\n",
    "stats_path = kagglehub.dataset_download(\"elenaferr0/strongbranchingstats\")\n",
    "stats_path = f\"{stats_path}/Stats\"\n",
    "test_files = [f for f in os.listdir(stats_path) if 'test' in f]\n",
    "stats = dict(map(lambda x: (x.replace(\"_test_stats.csv\", \"\"), pd.read_csv(f\"{stats_path}/{x}\")['name'].values), test_files))\n",
    "# TODO: print some average stats for each dataframe\n",
    "print(stats)"
   ],
   "outputs": [
    {
     "name": "stdout",
     "output_type": "stream",
     "text": [
      "{'miplib': array(['p0201'], dtype=object), 'bpeq': array(['BPEQ_037', 'BPEQ_098', 'BPEQ_030', 'BPEQ_089', 'BPEQ_099'],\n",
      "      dtype=object), 'randomSC': array(['randomSC_87', 'randomSC_33', 'randomSC_16', 'randomSC_66',\n",
      "       'randomSC_90', 'randomSC_80', 'randomSC_28', 'randomSC_48',\n",
      "       'randomSC_47', 'randomSC_77', 'randomSC_83', 'randomSC_21',\n",
      "       'randomSC_73', 'randomSC_51', 'randomSC_59', 'randomSC_97',\n",
      "       'randomSC_10', 'randomSC_37', 'randomSC_71', 'randomSC_11'],\n",
      "      dtype=object), 'bpsc': array(['BPSC_080'], dtype=object), 'randomBP': array(['randomBP_27', 'randomBP_5', 'randomBP_47', 'randomBP_20',\n",
      "       'randomBP_0', 'randomBP_34', 'randomBP_40', 'randomBP_33',\n",
      "       'randomBP_79', 'randomBP_91', 'randomBP_70', 'randomBP_11',\n",
      "       'randomBP_67', 'randomBP_77', 'randomBP_65', 'randomBP_3',\n",
      "       'randomBP_99', 'randomBP_44', 'randomBP_64', 'randomBP_25',\n",
      "       'randomBP_88', 'randomBP_29'], dtype=object), 'mknsc': array(['MKNSC_152', 'MKNSC_149', 'MKNSC_135'], dtype=object)}\n"
     ]
    }
   ],
   "execution_count": 26
  },
  {
   "cell_type": "code",
   "metadata": {
    "ExecuteTime": {
     "end_time": "2025-05-26T14:10:11.890636Z",
     "start_time": "2025-05-26T14:10:01.698956Z"
    }
   },
   "source": [
    "probs_path = kagglehub.dataset_download(\"elenaferr0/lp-probs\")\n",
    "probs_path = f\"{probs_path}/LP-Probs\"\n",
    "print(probs_path)\n",
    "print(os.listdir(probs_path))\n",
    "\n",
    "problems = {}\n",
    "for category, names in stats.items():\n",
    "    problems[category] = []\n",
    "    for name in names:\n",
    "        file_path = f\"{probs_path}/{category}/{name}.lp\"\n",
    "        if os.path.exists(file_path):\n",
    "            prob = Problem.from_model(file_path)\n",
    "            problems[category].append(prob)\n",
    "        else:\n",
    "            print(f\"Problem {name} not found in {file_path}\")\n",
    "\n",
    "branching_strategies = [\n",
    "    LEARNED_STRONG_BRANCHING,\n",
    "    RELIABILITY_BRANCHING,\n",
    "    PSEUDO_COST_BRANCHING,\n",
    "    MOST_INFEASIBLE_BRANCHING,\n",
    "    RANDOM_BRANCHING,\n",
    "]\n",
    "\n",
    "time_limits_s = [5, 60, 5 * 60, 10 * 60]\n",
    "node_limits = [50, 100, 1000, 5000, 10000]"
   ],
   "outputs": [
    {
     "name": "stdout",
     "output_type": "stream",
     "text": [
      "Downloading from https://www.kaggle.com/api/v1/datasets/download/elenaferr0/lp-probs?dataset_version_number=6...\n"
     ]
    },
    {
     "name": "stderr",
     "output_type": "stream",
     "text": [
      "100%|██████████| 7.61M/7.61M [00:01<00:00, 4.76MB/s]"
     ]
    },
    {
     "name": "stdout",
     "output_type": "stream",
     "text": [
      "Extracting files...\n"
     ]
    },
    {
     "name": "stderr",
     "output_type": "stream",
     "text": [
      "\n"
     ]
    },
    {
     "name": "stdout",
     "output_type": "stream",
     "text": [
      "/home/elena/.cache/kagglehub/datasets/elenaferr0/lp-probs/versions/6/LP-Probs\n",
      "['randomSC', 'miplib', 'bpsc', 'randomBP', 'bpeq', 'mknsc']\n",
      "original problem has 201 variables (201 bin, 0 int, 0 impl, 0 cont) and 133 constraints\n",
      "original problem has 193 variables (0 bin, 150 int, 0 impl, 43 cont) and 114 constraints\n",
      "original problem has 194 variables (0 bin, 151 int, 0 impl, 43 cont) and 95 constraints\n",
      "original problem has 194 variables (0 bin, 145 int, 0 impl, 49 cont) and 111 constraints\n",
      "original problem has 198 variables (0 bin, 146 int, 0 impl, 52 cont) and 114 constraints\n",
      "original problem has 198 variables (0 bin, 153 int, 0 impl, 45 cont) and 116 constraints\n",
      "original problem has 83 variables (83 bin, 0 int, 0 impl, 0 cont) and 83 constraints\n",
      "original problem has 82 variables (82 bin, 0 int, 0 impl, 0 cont) and 82 constraints\n",
      "original problem has 99 variables (99 bin, 0 int, 0 impl, 0 cont) and 99 constraints\n",
      "original problem has 81 variables (81 bin, 0 int, 0 impl, 0 cont) and 81 constraints\n",
      "original problem has 95 variables (95 bin, 0 int, 0 impl, 0 cont) and 95 constraints\n",
      "original problem has 91 variables (91 bin, 0 int, 0 impl, 0 cont) and 91 constraints\n",
      "original problem has 81 variables (81 bin, 0 int, 0 impl, 0 cont) and 81 constraints\n",
      "original problem has 81 variables (81 bin, 0 int, 0 impl, 0 cont) and 81 constraints\n",
      "original problem has 94 variables (94 bin, 0 int, 0 impl, 0 cont) and 94 constraints\n",
      "original problem has 99 variables (99 bin, 0 int, 0 impl, 0 cont) and 99 constraints\n",
      "original problem has 98 variables (98 bin, 0 int, 0 impl, 0 cont) and 98 constraints\n",
      "original problem has 83 variables (83 bin, 0 int, 0 impl, 0 cont) and 83 constraints\n",
      "original problem has 89 variables (89 bin, 0 int, 0 impl, 0 cont) and 89 constraints\n",
      "original problem has 86 variables (86 bin, 0 int, 0 impl, 0 cont) and 86 constraints\n",
      "original problem has 87 variables (87 bin, 0 int, 0 impl, 0 cont) and 87 constraints\n",
      "original problem has 84 variables (84 bin, 0 int, 0 impl, 0 cont) and 84 constraints\n",
      "original problem has 91 variables (91 bin, 0 int, 0 impl, 0 cont) and 91 constraints\n",
      "original problem has 89 variables (89 bin, 0 int, 0 impl, 0 cont) and 89 constraints\n",
      "original problem has 96 variables (96 bin, 0 int, 0 impl, 0 cont) and 96 constraints\n",
      "original problem has 87 variables (87 bin, 0 int, 0 impl, 0 cont) and 87 constraints\n",
      "original problem has 112 variables (0 bin, 112 int, 0 impl, 0 cont) and 97 constraints\n",
      "original problem has 49 variables (49 bin, 0 int, 0 impl, 0 cont) and 14 constraints\n",
      "original problem has 72 variables (72 bin, 0 int, 0 impl, 0 cont) and 17 constraints\n",
      "original problem has 56 variables (56 bin, 0 int, 0 impl, 0 cont) and 15 constraints\n",
      "original problem has 64 variables (64 bin, 0 int, 0 impl, 0 cont) and 16 constraints\n",
      "original problem has 40 variables (40 bin, 0 int, 0 impl, 0 cont) and 13 constraints\n",
      "original problem has 72 variables (72 bin, 0 int, 0 impl, 0 cont) and 17 constraints\n",
      "original problem has 56 variables (56 bin, 0 int, 0 impl, 0 cont) and 15 constraints\n",
      "original problem has 48 variables (48 bin, 0 int, 0 impl, 0 cont) and 14 constraints\n",
      "original problem has 49 variables (49 bin, 0 int, 0 impl, 0 cont) and 14 constraints\n",
      "original problem has 35 variables (35 bin, 0 int, 0 impl, 0 cont) and 12 constraints\n",
      "original problem has 42 variables (42 bin, 0 int, 0 impl, 0 cont) and 13 constraints\n",
      "original problem has 64 variables (64 bin, 0 int, 0 impl, 0 cont) and 16 constraints\n",
      "original problem has 56 variables (56 bin, 0 int, 0 impl, 0 cont) and 15 constraints\n",
      "original problem has 72 variables (72 bin, 0 int, 0 impl, 0 cont) and 17 constraints\n",
      "original problem has 56 variables (56 bin, 0 int, 0 impl, 0 cont) and 15 constraints\n",
      "original problem has 42 variables (42 bin, 0 int, 0 impl, 0 cont) and 13 constraints\n",
      "original problem has 72 variables (72 bin, 0 int, 0 impl, 0 cont) and 17 constraints\n",
      "original problem has 48 variables (48 bin, 0 int, 0 impl, 0 cont) and 14 constraints\n",
      "original problem has 49 variables (49 bin, 0 int, 0 impl, 0 cont) and 14 constraints\n",
      "original problem has 49 variables (49 bin, 0 int, 0 impl, 0 cont) and 14 constraints\n",
      "original problem has 49 variables (49 bin, 0 int, 0 impl, 0 cont) and 14 constraints\n",
      "original problem has 63 variables (63 bin, 0 int, 0 impl, 0 cont) and 16 constraints\n",
      "original problem has 196 variables (0 bin, 196 int, 0 impl, 0 cont) and 132 constraints\n",
      "original problem has 197 variables (0 bin, 197 int, 0 impl, 0 cont) and 131 constraints\n",
      "original problem has 210 variables (0 bin, 210 int, 0 impl, 0 cont) and 138 constraints\n",
      "{'miplib': [Problem(name=/home/elena/.cache/kagglehub/datasets/elenaferr0/lp-probs/versions/6/LP-Probs/miplib/p0201.lp)], 'bpeq': [Problem(name=/home/elena/.cache/kagglehub/datasets/elenaferr0/lp-probs/versions/6/LP-Probs/bpeq/BPEQ_037.lp), Problem(name=/home/elena/.cache/kagglehub/datasets/elenaferr0/lp-probs/versions/6/LP-Probs/bpeq/BPEQ_098.lp), Problem(name=/home/elena/.cache/kagglehub/datasets/elenaferr0/lp-probs/versions/6/LP-Probs/bpeq/BPEQ_030.lp), Problem(name=/home/elena/.cache/kagglehub/datasets/elenaferr0/lp-probs/versions/6/LP-Probs/bpeq/BPEQ_089.lp), Problem(name=/home/elena/.cache/kagglehub/datasets/elenaferr0/lp-probs/versions/6/LP-Probs/bpeq/BPEQ_099.lp)], 'randomSC': [Problem(name=/home/elena/.cache/kagglehub/datasets/elenaferr0/lp-probs/versions/6/LP-Probs/randomSC/randomSC_87.lp), Problem(name=/home/elena/.cache/kagglehub/datasets/elenaferr0/lp-probs/versions/6/LP-Probs/randomSC/randomSC_33.lp), Problem(name=/home/elena/.cache/kagglehub/datasets/elenaferr0/lp-probs/versions/6/LP-Probs/randomSC/randomSC_16.lp), Problem(name=/home/elena/.cache/kagglehub/datasets/elenaferr0/lp-probs/versions/6/LP-Probs/randomSC/randomSC_66.lp), Problem(name=/home/elena/.cache/kagglehub/datasets/elenaferr0/lp-probs/versions/6/LP-Probs/randomSC/randomSC_90.lp), Problem(name=/home/elena/.cache/kagglehub/datasets/elenaferr0/lp-probs/versions/6/LP-Probs/randomSC/randomSC_80.lp), Problem(name=/home/elena/.cache/kagglehub/datasets/elenaferr0/lp-probs/versions/6/LP-Probs/randomSC/randomSC_28.lp), Problem(name=/home/elena/.cache/kagglehub/datasets/elenaferr0/lp-probs/versions/6/LP-Probs/randomSC/randomSC_48.lp), Problem(name=/home/elena/.cache/kagglehub/datasets/elenaferr0/lp-probs/versions/6/LP-Probs/randomSC/randomSC_47.lp), Problem(name=/home/elena/.cache/kagglehub/datasets/elenaferr0/lp-probs/versions/6/LP-Probs/randomSC/randomSC_77.lp), Problem(name=/home/elena/.cache/kagglehub/datasets/elenaferr0/lp-probs/versions/6/LP-Probs/randomSC/randomSC_83.lp), Problem(name=/home/elena/.cache/kagglehub/datasets/elenaferr0/lp-probs/versions/6/LP-Probs/randomSC/randomSC_21.lp), Problem(name=/home/elena/.cache/kagglehub/datasets/elenaferr0/lp-probs/versions/6/LP-Probs/randomSC/randomSC_73.lp), Problem(name=/home/elena/.cache/kagglehub/datasets/elenaferr0/lp-probs/versions/6/LP-Probs/randomSC/randomSC_51.lp), Problem(name=/home/elena/.cache/kagglehub/datasets/elenaferr0/lp-probs/versions/6/LP-Probs/randomSC/randomSC_59.lp), Problem(name=/home/elena/.cache/kagglehub/datasets/elenaferr0/lp-probs/versions/6/LP-Probs/randomSC/randomSC_97.lp), Problem(name=/home/elena/.cache/kagglehub/datasets/elenaferr0/lp-probs/versions/6/LP-Probs/randomSC/randomSC_10.lp), Problem(name=/home/elena/.cache/kagglehub/datasets/elenaferr0/lp-probs/versions/6/LP-Probs/randomSC/randomSC_37.lp), Problem(name=/home/elena/.cache/kagglehub/datasets/elenaferr0/lp-probs/versions/6/LP-Probs/randomSC/randomSC_71.lp), Problem(name=/home/elena/.cache/kagglehub/datasets/elenaferr0/lp-probs/versions/6/LP-Probs/randomSC/randomSC_11.lp)], 'bpsc': [Problem(name=/home/elena/.cache/kagglehub/datasets/elenaferr0/lp-probs/versions/6/LP-Probs/bpsc/BPSC_080.lp)], 'randomBP': [Problem(name=/home/elena/.cache/kagglehub/datasets/elenaferr0/lp-probs/versions/6/LP-Probs/randomBP/randomBP_27.lp), Problem(name=/home/elena/.cache/kagglehub/datasets/elenaferr0/lp-probs/versions/6/LP-Probs/randomBP/randomBP_5.lp), Problem(name=/home/elena/.cache/kagglehub/datasets/elenaferr0/lp-probs/versions/6/LP-Probs/randomBP/randomBP_47.lp), Problem(name=/home/elena/.cache/kagglehub/datasets/elenaferr0/lp-probs/versions/6/LP-Probs/randomBP/randomBP_20.lp), Problem(name=/home/elena/.cache/kagglehub/datasets/elenaferr0/lp-probs/versions/6/LP-Probs/randomBP/randomBP_0.lp), Problem(name=/home/elena/.cache/kagglehub/datasets/elenaferr0/lp-probs/versions/6/LP-Probs/randomBP/randomBP_34.lp), Problem(name=/home/elena/.cache/kagglehub/datasets/elenaferr0/lp-probs/versions/6/LP-Probs/randomBP/randomBP_40.lp), Problem(name=/home/elena/.cache/kagglehub/datasets/elenaferr0/lp-probs/versions/6/LP-Probs/randomBP/randomBP_33.lp), Problem(name=/home/elena/.cache/kagglehub/datasets/elenaferr0/lp-probs/versions/6/LP-Probs/randomBP/randomBP_79.lp), Problem(name=/home/elena/.cache/kagglehub/datasets/elenaferr0/lp-probs/versions/6/LP-Probs/randomBP/randomBP_91.lp), Problem(name=/home/elena/.cache/kagglehub/datasets/elenaferr0/lp-probs/versions/6/LP-Probs/randomBP/randomBP_70.lp), Problem(name=/home/elena/.cache/kagglehub/datasets/elenaferr0/lp-probs/versions/6/LP-Probs/randomBP/randomBP_11.lp), Problem(name=/home/elena/.cache/kagglehub/datasets/elenaferr0/lp-probs/versions/6/LP-Probs/randomBP/randomBP_67.lp), Problem(name=/home/elena/.cache/kagglehub/datasets/elenaferr0/lp-probs/versions/6/LP-Probs/randomBP/randomBP_77.lp), Problem(name=/home/elena/.cache/kagglehub/datasets/elenaferr0/lp-probs/versions/6/LP-Probs/randomBP/randomBP_65.lp), Problem(name=/home/elena/.cache/kagglehub/datasets/elenaferr0/lp-probs/versions/6/LP-Probs/randomBP/randomBP_3.lp), Problem(name=/home/elena/.cache/kagglehub/datasets/elenaferr0/lp-probs/versions/6/LP-Probs/randomBP/randomBP_99.lp), Problem(name=/home/elena/.cache/kagglehub/datasets/elenaferr0/lp-probs/versions/6/LP-Probs/randomBP/randomBP_44.lp), Problem(name=/home/elena/.cache/kagglehub/datasets/elenaferr0/lp-probs/versions/6/LP-Probs/randomBP/randomBP_64.lp), Problem(name=/home/elena/.cache/kagglehub/datasets/elenaferr0/lp-probs/versions/6/LP-Probs/randomBP/randomBP_25.lp), Problem(name=/home/elena/.cache/kagglehub/datasets/elenaferr0/lp-probs/versions/6/LP-Probs/randomBP/randomBP_88.lp), Problem(name=/home/elena/.cache/kagglehub/datasets/elenaferr0/lp-probs/versions/6/LP-Probs/randomBP/randomBP_29.lp)], 'mknsc': [Problem(name=/home/elena/.cache/kagglehub/datasets/elenaferr0/lp-probs/versions/6/LP-Probs/mknsc/MKNSC_152.lp), Problem(name=/home/elena/.cache/kagglehub/datasets/elenaferr0/lp-probs/versions/6/LP-Probs/mknsc/MKNSC_149.lp), Problem(name=/home/elena/.cache/kagglehub/datasets/elenaferr0/lp-probs/versions/6/LP-Probs/mknsc/MKNSC_135.lp)]}\n"
     ]
    }
   ],
   "execution_count": 30
  },
  {
   "cell_type": "code",
   "execution_count": null,
   "metadata": {},
   "outputs": [],
   "source": [
    "benchmark_df = pd.DataFrame()\n",
    "# solved_optimally_cache = {} #(problem name,strategy): True\n",
    "solved_optimally_cache = defaultdict(bool)\n",
    "\n",
    "for name, probs in problems:\n",
    "    for prob in probs:\n",
    "        achieved_optimality = False\n",
    "        for strategy in branching_strategies:\n",
    "            for time_limit in time_limits_s:\n",
    "                for node_limit in node_limits:\n",
    "                    # Check if row already exists\n",
    "                    if benchmark_df[(benchmark_df['name'] == prob.name) & (benchmark_df['strategy'] == strategy) & (\n",
    "                            benchmark_df['time_limit'] == time_limit) & (benchmark_df['node_limit'] == node_limit)].shape[0] > 0:\n",
    "                        print(f\"Row already exists for {prob.name} with strategy {strategy}, time limit {time_limit}, and node limit {node_limit}. Skipping.\")\n",
    "                        continue\n",
    "\n",
    "                    if solved_optimally_cache[(name, strategy)]:\n",
    "                        print(f\"Problem {prob.name} already solved optimally with strategy {strategy}. Skipping.\")\n",
    "                        continue\n",
    "\n",
    "                    print(f\"Solving {prob.name} with strategy {strategy}, time limit {time_limit}, and node limit {node_limit}\")\n",
    "                    row = prob.solve_with_rule(strategy, logged=False, max_nodes=node_limit, timelimit=time_limit)\n",
    "                    if row['status'] == 'optimal':\n",
    "                        solved_optimally_cache[(name, strategy)] = True\n",
    "                        achieved_optimality = True\n",
    "                        break # exit node_limits loop\n",
    "                    row['strategy'] = strategy\n",
    "                    row['time_limit'] = time_limit\n",
    "                    row['node_limit'] = node_limit\n",
    "                    pdata = pd.DataFrame.from_dict(row, orient='index').T\n",
    "                    benchmark_df = pd.concat([benchmark_df, pdata], ignore_index=True)\n",
    "                    benchmark_df.to_csv(f\"benchmark_results.csv\", index=False)\n",
    "                if achieved_optimality:\n",
    "                    break # exit time_limits loop\n",
    "\n",
    "display(benchmark_df)"
   ]
  }
 ],
 "metadata": {
  "colab": {
   "provenance": []
  },
  "kaggle": {
   "accelerator": "none",
   "dataSources": [
    {
     "datasetId": 7445809,
     "sourceId": 11850191,
     "sourceType": "datasetVersion"
    },
    {
     "sourceId": 240284892,
     "sourceType": "kernelVersion"
    }
   ],
   "dockerImageVersionId": 31040,
   "isGpuEnabled": false,
   "isInternetEnabled": true,
   "language": "python",
   "sourceType": "notebook"
  },
  "kernelspec": {
   "display_name": ".venv",
   "language": "python",
   "name": "python3"
  },
  "language_info": {
   "codemirror_mode": {
    "name": "ipython",
    "version": 3
   },
   "file_extension": ".py",
   "mimetype": "text/x-python",
   "name": "python",
   "nbconvert_exporter": "python",
   "pygments_lexer": "ipython3",
   "version": "3.9.6"
  }
 },
 "nbformat": 4,
 "nbformat_minor": 0
}
