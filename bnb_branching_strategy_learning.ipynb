{
 "cells": [
  {
   "metadata": {
    "ExecuteTime": {
     "end_time": "2025-05-06T21:31:09.825650Z",
     "start_time": "2025-05-06T21:31:09.819798Z"
    }
   },
   "cell_type": "code",
   "source": [
    "import pandas as pd\n",
    "\n",
    "dataset = pd.read_pickle(\"dataset/dataset.pickle\")\n"
   ],
   "id": "f3b1281added66be",
   "outputs": [],
   "execution_count": 8
  },
  {
   "metadata": {
    "ExecuteTime": {
     "end_time": "2025-05-06T21:41:39.970107Z",
     "start_time": "2025-05-06T21:41:39.839358Z"
    }
   },
   "cell_type": "code",
   "source": [
    "from sklearn.ensemble import ExtraTreesRegressor\n",
    "from sklearn.model_selection import cross_val_score\n",
    "\n",
    "X = dataset.drop(columns=['score'])\n",
    "Y = dataset['score']\n",
    "\n",
    "clf = ExtraTreesRegressor(n_estimators=20)\n",
    "scoring = 'neg_mean_absolute_error'\n",
    "scores = cross_val_score(clf, X, Y, cv=5, scoring=scoring)\n",
    "print(-scores)\n"
   ],
   "id": "da41578a25ff50f6",
   "outputs": [
    {
     "name": "stdout",
     "output_type": "stream",
     "text": [
      "[0.00591806 0.0061908  0.01995879 0.00197631 0.06008176]\n"
     ]
    }
   ],
   "execution_count": 26
  }
 ],
 "metadata": {
  "kernelspec": {
   "display_name": "Python 3",
   "language": "python",
   "name": "python3"
  },
  "language_info": {
   "codemirror_mode": {
    "name": "ipython",
    "version": 2
   },
   "file_extension": ".py",
   "mimetype": "text/x-python",
   "name": "python",
   "nbconvert_exporter": "python",
   "pygments_lexer": "ipython2",
   "version": "2.7.6"
  }
 },
 "nbformat": 4,
 "nbformat_minor": 5
}
