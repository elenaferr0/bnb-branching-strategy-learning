{
 "cells": [
  {
   "metadata": {
    "ExecuteTime": {
     "end_time": "2025-05-09T15:41:29.172004Z",
     "start_time": "2025-05-09T15:41:29.165781Z"
    }
   },
   "cell_type": "code",
   "source": [
    "import pandas as pd\n",
    "from sklearn.ensemble import ExtraTreesRegressor\n",
    "from sklearn.model_selection import GridSearchCV\n",
    "from sklearn.model_selection import KFold\n",
    "from sklearn.preprocessing import StandardScaler\n",
    "\n",
    "seed = 42"
   ],
   "id": "53aeb4cc16ed9874",
   "outputs": [],
   "execution_count": 32
  },
  {
   "metadata": {},
   "cell_type": "markdown",
   "source": "## Dataset loading (read generated pkl files)",
   "id": "bf42f3b6b16c00eb"
  },
  {
   "metadata": {
    "ExecuteTime": {
     "end_time": "2025-05-09T15:41:29.331818Z",
     "start_time": "2025-05-09T15:41:29.256042Z"
    }
   },
   "cell_type": "code",
   "source": [
    "BP_train = pd.read_pickle(\"dataset/BP_train_solution.pkl\")\n",
    "BP_test = pd.read_pickle(\"dataset/BP_test_solution.pkl\")\n",
    "SC_train = pd.read_pickle(\"dataset/SC_train_solution.pkl\")\n",
    "SC_test = pd.read_pickle(\"dataset/SC_test_solution.pkl\")\n",
    "\n",
    "BP_train = BP_train.sample(frac=1, random_state=seed)\n",
    "BP_test = BP_test.sample(frac=1, random_state=seed)\n",
    "SC_train = SC_train.sample(frac=1, random_state=seed)\n",
    "SC_test = SC_test.sample(frac=1, random_state=seed)\n",
    "\n",
    "train = pd.concat([BP_train, SC_train], ignore_index=True)\n",
    "test = pd.concat([BP_test, SC_test], ignore_index=True)\n",
    "\n",
    "X_train = train.drop(columns=['score'])\n",
    "Y_train = train['score']\n",
    "\n",
    "X_test = test.drop(columns=['score'])\n",
    "Y_test = test['score']\n",
    "\n",
    "X = pd.concat([X_train, X_test], ignore_index=True)\n",
    "Y = pd.concat([Y_train, Y_test], ignore_index=True)"
   ],
   "id": "37f2508f27142e6a",
   "outputs": [],
   "execution_count": 33
  },
  {
   "metadata": {},
   "cell_type": "markdown",
   "source": "## Preprocessing",
   "id": "a160174e3b2fd66c"
  },
  {
   "metadata": {
    "ExecuteTime": {
     "end_time": "2025-05-09T15:41:29.491832Z",
     "start_time": "2025-05-09T15:41:29.438394Z"
    }
   },
   "cell_type": "code",
   "source": [
    "scaler = StandardScaler()\n",
    "scaler.fit(X_train)\n",
    "X_train = scaler.transform(X_train)\n",
    "X_test = scaler.transform(X_test)"
   ],
   "id": "d4ebac13f572ce36",
   "outputs": [],
   "execution_count": 34
  },
  {
   "metadata": {},
   "cell_type": "code",
   "source": [
    "%matplotlib inline\n",
    "from matplotlib import pyplot as plt\n",
    "from sklearn.decomposition import PCA\n",
    "\n",
    "train_PCA = PCA(n_components=2)\n",
    "train_PCA.fit(X_train)\n",
    "X_train_pca = train_PCA.transform(X_train)\n",
    "\n",
    "plt.title('PCA train (all features)')\n",
    "plt.scatter(X_train_pca[:,0], X_train_pca[:,1], alpha=0.5)\n",
    "plt.show()\n",
    "\n",
    "test_PCA = PCA(n_components=2)\n",
    "test_PCA.fit(X_test)\n",
    "X_test_pca = test_PCA.transform(X_test)\n",
    "plt.title('PCA test (all features)')\n",
    "plt.scatter(X_test_pca[:,0], X_test_pca[:,1], c=\"red\", alpha=0.5)\n",
    "plt.show()"
   ],
   "id": "aa06e7a2c4f641d4",
   "outputs": [],
   "execution_count": null
  },
  {
   "metadata": {
    "jupyter": {
     "is_executing": true
    },
    "ExecuteTime": {
     "start_time": "2025-05-09T15:44:19.408608Z"
    }
   },
   "cell_type": "code",
   "source": [
    "kf = KFold(n_splits=5, shuffle=True, random_state=seed)\n",
    "\n",
    "params = {\n",
    "    \"n_estimators\": [10, 20, 50, 100],\n",
    "    \"min_samples_leaf\": [5, 10, 20, 30],\n",
    "    \"max_depth\": [5, 10, 20],\n",
    "}\n",
    "\n",
    "\n",
    "scoring = (\n",
    "    'r2',\n",
    "    'neg_mean_squared_error',\n",
    "    'neg_mean_absolute_error',\n",
    ")\n",
    "for train, test in kf.split(X, Y):\n",
    "    X_train, X_test = X.iloc[train], X.iloc[test]\n",
    "    Y_train, Y_test = Y.iloc[train], Y.iloc[test]\n",
    "\n",
    "    et = ExtraTreesRegressor(random_state=seed)\n",
    "    gs = GridSearchCV(et, param_grid=params, cv=5, scoring='neg_mean_absolute_error', n_jobs=4, return_train_score=True)\n",
    "    gs.fit(X_train, Y_train)\n",
    "\n",
    "    print(\"Best score: \", gs.best_score_)\n",
    "    print(\"Best params: \", gs.best_params_)\n",
    "\n",
    "    scores = gs.score(X_test, Y_test)\n",
    "    print(f\"Score: {scores:.4f}\")"
   ],
   "id": "e94aaa4daa32cf6a",
   "outputs": [],
   "execution_count": null
  }
 ],
 "metadata": {
  "kernelspec": {
   "display_name": ".venv",
   "language": "python",
   "name": "python3"
  },
  "language_info": {
   "codemirror_mode": {
    "name": "ipython",
    "version": 3
   },
   "file_extension": ".py",
   "mimetype": "text/x-python",
   "name": "python",
   "nbconvert_exporter": "python",
   "pygments_lexer": "ipython3",
   "version": "3.9.6"
  }
 },
 "nbformat": 4,
 "nbformat_minor": 5
}
