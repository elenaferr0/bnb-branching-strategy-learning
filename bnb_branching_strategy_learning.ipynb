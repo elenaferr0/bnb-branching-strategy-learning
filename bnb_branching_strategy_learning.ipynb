{
 "cells": [
  {
   "cell_type": "code",
   "execution_count": 24,
   "id": "f3b1281added66be",
   "metadata": {
    "ExecuteTime": {
     "end_time": "2025-05-08T20:46:47.581990Z",
     "start_time": "2025-05-08T20:46:47.578345Z"
    }
   },
   "outputs": [],
   "source": [
    "import pandas as pd\n",
    "from sklearn.ensemble import ExtraTreesRegressor\n",
    "from sklearn.model_selection import cross_val_score\n",
    "from sklearn.model_selection import GridSearchCV\n",
    "from sklearn.model_selection import KFold\n",
    "\n",
    "seed = 42"
   ]
  },
  {
   "cell_type": "code",
   "execution_count": 37,
   "id": "24cc27be0d826302",
   "metadata": {
    "ExecuteTime": {
     "end_time": "2025-05-08T20:46:49.041256Z",
     "start_time": "2025-05-08T20:46:49.020275Z"
    }
   },
   "outputs": [],
   "source": [
    "BP_train = pd.read_pickle(\"dataset/BP_train_solution_modified.pkl\")\n",
    "BP_test = pd.read_pickle(\"dataset/BP_test_solution.pkl\")\n",
    "SC_train = pd.read_pickle(\"dataset/SC_train_solution_modified.pkl\")\n",
    "SC_test = pd.read_pickle(\"dataset/SC_test_solution.pkl\")\n",
    "\n",
    "BP_train = BP_train.sample(frac=1, random_state=seed)\n",
    "BP_test = BP_test.sample(frac=1, random_state=seed)\n",
    "SC_train = SC_train.sample(frac=1, random_state=seed)\n",
    "SC_test = SC_test.sample(frac=1, random_state=seed)\n",
    "\n",
    "train = pd.concat([BP_train, SC_train], ignore_index=True)\n",
    "test = pd.concat([BP_test, SC_test], ignore_index=True)\n",
    "\n",
    "X_train = train.drop(columns=['score'])\n",
    "Y_train = train['score']\n",
    "\n",
    "X_test = test.drop(columns=['score'])\n",
    "Y_test = test['score']"
   ]
  },
  {
   "cell_type": "code",
   "execution_count": null,
   "id": "da41578a25ff50f6",
   "metadata": {
    "ExecuteTime": {
     "start_time": "2025-05-08T20:49:36.591789Z"
    },
    "jupyter": {
     "is_executing": true
    }
   },
   "outputs": [],
   "source": [
    "params = {\n",
    "    \"n_estimators\": [10, 20, 50, 100],\n",
    "    \"min_samples_leaf\": [5, 10, 20, 30],\n",
    "    \"max_depth\": [5, 10, 20],\n",
    "}\n",
    "\n",
    "et = ExtraTreesRegressor(random_state=seed)\n",
    "\n",
    "gs = GridSearchCV(et, params)\n",
    "\n",
    "gs.fit(X_train, Y_train)\n",
    "print(sorted(gs.cv_results_))"
   ]
  },
  {
   "cell_type": "code",
   "execution_count": null,
   "id": "75bc739a",
   "metadata": {},
   "outputs": [],
   "source": [
    "kf = KFold(n_splits=5, shuffle=True, random_state=seed)\n",
    "scores = cross_val_score(et, X_train, Y_train, cv=kf, scoring='r2')\n",
    "print(\"Cross-validation scores:\", scores)"
   ]
  }
 ],
 "metadata": {
  "kernelspec": {
   "display_name": ".venv",
   "language": "python",
   "name": "python3"
  },
  "language_info": {
   "codemirror_mode": {
    "name": "ipython",
    "version": 3
   },
   "file_extension": ".py",
   "mimetype": "text/x-python",
   "name": "python",
   "nbconvert_exporter": "python",
   "pygments_lexer": "ipython3",
   "version": "3.9.6"
  }
 },
 "nbformat": 4,
 "nbformat_minor": 5
}
